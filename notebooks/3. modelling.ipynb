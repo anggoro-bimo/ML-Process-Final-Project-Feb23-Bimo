{
 "cells": [
  {
   "attachments": {},
   "cell_type": "markdown",
   "metadata": {},
   "source": [
    "# Import Libraries"
   ]
  },
  {
   "cell_type": "code",
   "execution_count": 168,
   "metadata": {},
   "outputs": [],
   "source": [
    "import pandas as pd\n",
    " \n",
    "\n",
    "from sklearn.linear_model import LogisticRegression\n",
    "from sklearn.svm import SVC\n",
    "from sklearn.tree import DecisionTreeClassifier\n",
    "from sklearn.ensemble import RandomForestClassifier\n",
    "from sklearn.neighbors import KNeighborsClassifier\n",
    "from xgboost import XGBClassifier\n",
    "from sklearn.naive_bayes import CategoricalNB, GaussianNB\n",
    "\n",
    "from sklearn.metrics import classification_report, ConfusionMatrixDisplay, roc_curve, roc_auc_score, RocCurveDisplay\n",
    "from sklearn.model_selection import RandomizedSearchCV, GridSearchCV\n",
    "\n",
    "from datetime import datetime\n",
    "from tqdm import tqdm\n",
    "import yaml\n",
    "import joblib\n",
    "import json\n",
    "import copy\n",
    "import hashlib"
   ]
  },
  {
   "attachments": {},
   "cell_type": "markdown",
   "metadata": {},
   "source": [
    "# Load the Datasets"
   ]
  },
  {
   "cell_type": "code",
   "execution_count": 169,
   "metadata": {},
   "outputs": [],
   "source": [
    "pkl_folder = \"/root/ml_process_feb23/data/processed/\"\n",
    "\n",
    "df_train = joblib.load(pkl_folder + \"df_train.pkl\")\n",
    "x_train = df_train.drop(['card'], axis = 1)\n",
    "y_train = df_train['card']\n",
    "\n",
    "df_train_rus = joblib.load(pkl_folder + \"df_train_rus.pkl\")\n",
    "x_train_rus = df_train_rus.drop(['card'], axis = 1)\n",
    "y_train_rus = df_train_rus['card']\n",
    "\n",
    "df_train_ros = joblib.load(pkl_folder + \"df_train_ros.pkl\")\n",
    "x_train_ros = df_train_ros.drop(['card'], axis = 1)\n",
    "y_train_ros = df_train_ros['card']\n",
    "\n",
    "df_train_smote = joblib.load(pkl_folder + \"df_train_smote.pkl\")\n",
    "x_train_smote = df_train_smote.drop(['card'], axis = 1)\n",
    "y_train_smote = df_train_smote['card']\n",
    "\n",
    "df_valid = joblib.load(pkl_folder + \"df_valid.pkl\")\n",
    "x_valid = df_valid.drop(['card'], axis = 1)\n",
    "y_valid = df_valid['card']\n",
    "\n",
    "df_test = joblib.load(pkl_folder + \"df_test.pkl\")\n",
    "x_test = df_test.drop(['card'], axis = 1)\n",
    "y_test = df_test['card']"
   ]
  },
  {
   "attachments": {},
   "cell_type": "markdown",
   "metadata": {},
   "source": [
    "## Selecting features to be trained"
   ]
  },
  {
   "cell_type": "code",
   "execution_count": 170,
   "metadata": {},
   "outputs": [
    {
     "data": {
      "text/plain": [
       "array(['index', 'reports', 'age', 'share', 'owner', 'selfemp',\n",
       "       'dependents', 'majorcards', 'active', 'income_log',\n",
       "       'expenditure_log', 'months_log', 'age_bin', 'reports_bin',\n",
       "       'dependents_bin', 'active_bin'], dtype=object)"
      ]
     },
     "execution_count": 170,
     "metadata": {},
     "output_type": "execute_result"
    }
   ],
   "source": [
    "x_test.columns.values"
   ]
  },
  {
   "cell_type": "code",
   "execution_count": 171,
   "metadata": {},
   "outputs": [],
   "source": [
    "# Create instances for some binned features and its original value\n",
    "bins = ['age_bin', 'reports_bin', 'dependents_bin', 'active_bin']\n",
    "ori_value = ['age', 'reports', 'dependents', 'active']"
   ]
  },
  {
   "attachments": {},
   "cell_type": "markdown",
   "metadata": {},
   "source": [
    "For the **baseline model**, I will not include the binned feature."
   ]
  },
  {
   "cell_type": "code",
   "execution_count": 172,
   "metadata": {},
   "outputs": [],
   "source": [
    "# Create the independent variables for baseline model\n",
    "x_train_base = x_train.drop(bins, axis = 1)\n",
    "x_train_rus_base = x_train_rus.drop(bins, axis = 1)\n",
    "x_train_ros_base = x_train_ros.drop(bins, axis = 1)\n",
    "x_train_smote_base = x_train_smote.drop(bins, axis = 1)\n",
    "x_valid_base = x_valid.drop(bins, axis = 1)\n",
    "x_test_base = x_test.drop(bins, axis = 1)\n"
   ]
  },
  {
   "cell_type": "code",
   "execution_count": 173,
   "metadata": {},
   "outputs": [],
   "source": [
    "# Create the independent variables for alternative model\n",
    "x_train_bin = x_train.drop(ori_value, axis = 1)\n",
    "x_train_rus_bin = x_train_rus.drop(ori_value, axis = 1)\n",
    "x_train_ros_bin = x_train_ros.drop(ori_value, axis = 1)\n",
    "x_train_smote_bin = x_train_smote.drop(ori_value, axis = 1)\n",
    "x_valid_bin = x_valid.drop(ori_value, axis = 1)\n",
    "x_test_bin = x_test.drop(ori_value, axis = 1)"
   ]
  },
  {
   "attachments": {},
   "cell_type": "markdown",
   "metadata": {},
   "source": [
    "# Create Log Template"
   ]
  },
  {
   "cell_type": "code",
   "execution_count": 174,
   "metadata": {},
   "outputs": [],
   "source": [
    "def time_stamp():\n",
    "    return datetime.now()"
   ]
  },
  {
   "cell_type": "code",
   "execution_count": 175,
   "metadata": {},
   "outputs": [],
   "source": [
    "def create_log_template():\n",
    "    logger = {\n",
    "        \"model_name\" : [],\n",
    "        \"model_uid\" : [],\n",
    "        \"training_time\" : [],\n",
    "        \"training_date\" : [],\n",
    "        \"performance\" : [],\n",
    "        \"f1_score_avg\" : [],\n",
    "        \"data_configurations\" : [],\n",
    "    }\n",
    "\n",
    "    return logger"
   ]
  },
  {
   "cell_type": "code",
   "execution_count": 176,
   "metadata": {},
   "outputs": [],
   "source": [
    "def training_log_updater(current_log, log_path):\n",
    "    current_log = current_log.copy()\n",
    "\n",
    "    try:\n",
    "        with open(log_path, \"r\") as file:\n",
    "            last_log = json.load(file)\n",
    "        file.close()\n",
    "    except FileNotFoundError as ffe:\n",
    "        with open(log_path, \"w\") as file:\n",
    "            file.write(\"[]\")\n",
    "        file.close()\n",
    "        with open(log_path, \"r\") as file:\n",
    "            last_log = json.load(file)\n",
    "        file.close()\n",
    "    \n",
    "    last_log.append(current_log)\n",
    "\n",
    "    with open(log_path, \"w\") as file:\n",
    "        json.dump(last_log, file)\n",
    "        file.close()\n",
    "\n",
    "    return last_log"
   ]
  },
  {
   "attachments": {},
   "cell_type": "markdown",
   "metadata": {},
   "source": [
    "# Training and Evaluation"
   ]
  },
  {
   "attachments": {},
   "cell_type": "markdown",
   "metadata": {},
   "source": [
    "## Create Model Object"
   ]
  },
  {
   "attachments": {},
   "cell_type": "markdown",
   "metadata": {},
   "source": [
    "Create instance for each algorithm function"
   ]
  },
  {
   "cell_type": "code",
   "execution_count": 177,
   "metadata": {},
   "outputs": [],
   "source": [
    "lgr_baseline        = LogisticRegression()      # Logistic regression\n",
    "svm_baseline        = SVC()                     # Support Vector Machine \n",
    "dct_baseline        = DecisionTreeClassifier()  # Decision tree Classifier\n",
    "rfc_baseline        = RandomForestClassifier()  # Random FOrest Classifier\n",
    "knn_baseline        = KNeighborsClassifier()    # k-Nearest Neighbors CLassifier\n",
    "xgb_baseline        = XGBClassifier()           # XG Boost Classifier\n",
    "nb_cat_baseline     = CategoricalNB()           # Categorical Naive Bayes Classifier\n",
    "nb_gauss_baseline   = GaussianNB()              # Gaussian Naive Bayes Classifier"
   ]
  },
  {
   "cell_type": "code",
   "execution_count": 178,
   "metadata": {},
   "outputs": [],
   "source": [
    "list_of_model = {\n",
    "    \"imbalanced\" : [\n",
    "        { \"model_name\": lgr_baseline.__class__.__name__, \"model_object\": lgr_baseline, \"model_uid\": \"\"},\n",
    "        { \"model_name\": svm_baseline.__class__.__name__, \"model_object\": dct_baseline, \"model_uid\": \"\"},\n",
    "        { \"model_name\": dct_baseline.__class__.__name__, \"model_object\": dct_baseline, \"model_uid\": \"\"},\n",
    "        { \"model_name\": rfc_baseline.__class__.__name__, \"model_object\": rfc_baseline, \"model_uid\": \"\"},\n",
    "        { \"model_name\": knn_baseline.__class__.__name__, \"model_object\": knn_baseline, \"model_uid\": \"\"},\n",
    "        { \"model_name\": xgb_baseline.__class__.__name__, \"model_object\": xgb_baseline, \"model_uid\": \"\"},\n",
    "        { \"model_name\": nb_cat_baseline.__class__.__name__, \"model_object\": knn_baseline, \"model_uid\": \"\"},\n",
    "        { \"model_name\": nb_gauss_baseline.__class__.__name__, \"model_object\": xgb_baseline, \"model_uid\": \"\"}\n",
    "        ],\n",
    "    \"undersampling\" : [\n",
    "        { \"model_name\": lgr_baseline.__class__.__name__, \"model_object\": lgr_baseline, \"model_uid\": \"\"},\n",
    "        { \"model_name\": svm_baseline.__class__.__name__, \"model_object\": dct_baseline, \"model_uid\": \"\"},\n",
    "        { \"model_name\": dct_baseline.__class__.__name__, \"model_object\": dct_baseline, \"model_uid\": \"\"},\n",
    "        { \"model_name\": rfc_baseline.__class__.__name__, \"model_object\": rfc_baseline, \"model_uid\": \"\"},\n",
    "        { \"model_name\": knn_baseline.__class__.__name__, \"model_object\": knn_baseline, \"model_uid\": \"\"},\n",
    "        { \"model_name\": xgb_baseline.__class__.__name__, \"model_object\": xgb_baseline, \"model_uid\": \"\"},\n",
    "        { \"model_name\": nb_cat_baseline.__class__.__name__, \"model_object\": knn_baseline, \"model_uid\": \"\"},\n",
    "        { \"model_name\": nb_gauss_baseline.__class__.__name__, \"model_object\": xgb_baseline, \"model_uid\": \"\"}\n",
    "        ],\n",
    "    \"oversampling\" : [\n",
    "        { \"model_name\": lgr_baseline.__class__.__name__, \"model_object\": lgr_baseline, \"model_uid\": \"\"},\n",
    "        { \"model_name\": svm_baseline.__class__.__name__, \"model_object\": dct_baseline, \"model_uid\": \"\"},\n",
    "        { \"model_name\": dct_baseline.__class__.__name__, \"model_object\": dct_baseline, \"model_uid\": \"\"},\n",
    "        { \"model_name\": rfc_baseline.__class__.__name__, \"model_object\": rfc_baseline, \"model_uid\": \"\"},\n",
    "        { \"model_name\": knn_baseline.__class__.__name__, \"model_object\": knn_baseline, \"model_uid\": \"\"},\n",
    "        { \"model_name\": xgb_baseline.__class__.__name__, \"model_object\": xgb_baseline, \"model_uid\": \"\"},\n",
    "        { \"model_name\": nb_cat_baseline.__class__.__name__, \"model_object\": knn_baseline, \"model_uid\": \"\"},\n",
    "        { \"model_name\": nb_gauss_baseline.__class__.__name__, \"model_object\": xgb_baseline, \"model_uid\": \"\"}\n",
    "        ],\n",
    "    \"smote\" : [\n",
    "        { \"model_name\": lgr_baseline.__class__.__name__, \"model_object\": lgr_baseline, \"model_uid\": \"\"},\n",
    "        { \"model_name\": svm_baseline.__class__.__name__, \"model_object\": dct_baseline, \"model_uid\": \"\"},\n",
    "        { \"model_name\": dct_baseline.__class__.__name__, \"model_object\": dct_baseline, \"model_uid\": \"\"},\n",
    "        { \"model_name\": rfc_baseline.__class__.__name__, \"model_object\": rfc_baseline, \"model_uid\": \"\"},\n",
    "        { \"model_name\": knn_baseline.__class__.__name__, \"model_object\": knn_baseline, \"model_uid\": \"\"},\n",
    "        { \"model_name\": xgb_baseline.__class__.__name__, \"model_object\": xgb_baseline, \"model_uid\": \"\"},\n",
    "        { \"model_name\": nb_cat_baseline.__class__.__name__, \"model_object\": knn_baseline, \"model_uid\": \"\"},\n",
    "        { \"model_name\": nb_gauss_baseline.__class__.__name__, \"model_object\": xgb_baseline, \"model_uid\": \"\"}\n",
    "        ],\n",
    "    }"
   ]
  },
  {
   "cell_type": "code",
   "execution_count": 179,
   "metadata": {},
   "outputs": [],
   "source": [
    "def train_eval_model(list_of_model, prefix_model_name, x_train, y_train, data_configuration_name, x_valid, y_valid, log_path):\n",
    "\n",
    "    list_of_model = copy.deepcopy(list_of_model)\n",
    "    logger = create_log_template()\n",
    "\n",
    "    for model in tqdm(list_of_model):    \n",
    "        model_name = prefix_model_name + \"-\" + model[\"model_name\"]\n",
    "\n",
    "        start_time = time_stamp()\n",
    "        model[\"model_object\"].fit(x_train, y_train)\n",
    "        finished_time = time_stamp()\n",
    "\n",
    "        elapsed_time = finished_time - start_time\n",
    "        elapsed_time = elapsed_time.total_seconds()\n",
    "\n",
    "        y_pred = model[\"model_object\"].predict(x_valid)\n",
    "        performance = classification_report(y_valid, y_pred, output_dict = True)\n",
    "\n",
    "        plain_id = str(start_time) + str(finished_time)\n",
    "        chiper_id = hashlib.md5(plain_id.encode()).hexdigest()\n",
    "\n",
    "        model[\"model_uid\"] = chiper_id\n",
    "\n",
    "        logger[\"model_name\"].append(model_name)\n",
    "        logger[\"model_uid\"].append(chiper_id)\n",
    "        logger[\"training_time\"].append(elapsed_time)\n",
    "        logger[\"training_date\"].append(str(start_time))\n",
    "        logger[\"performance\"].append(performance)\n",
    "        logger[\"f1_score_avg\"].append(performance[\"macro avg\"][\"f1-score\"])\n",
    "        logger[\"data_configurations\"].append(data_configuration_name)\n",
    "\n",
    "    training_log = training_log_updater(logger, log_path)\n",
    "\n",
    "    return training_log, list_of_model"
   ]
  },
  {
   "attachments": {},
   "cell_type": "markdown",
   "metadata": {},
   "source": [
    "## Train the Baseline Models"
   ]
  },
  {
   "attachments": {},
   "cell_type": "markdown",
   "metadata": {},
   "source": [
    "### Original (imbalanced) data"
   ]
  },
  {
   "cell_type": "code",
   "execution_count": 218,
   "metadata": {},
   "outputs": [
    {
     "name": "stderr",
     "output_type": "stream",
     "text": [
      "  0%|          | 0/8 [00:00<?, ?it/s]/root/ml_process_feb23/venv2/lib/python3.8/site-packages/sklearn/linear_model/_logistic.py:458: ConvergenceWarning: lbfgs failed to converge (status=1):\n",
      "STOP: TOTAL NO. of ITERATIONS REACHED LIMIT.\n",
      "\n",
      "Increase the number of iterations (max_iter) or scale the data as shown in:\n",
      "    https://scikit-learn.org/stable/modules/preprocessing.html\n",
      "Please also refer to the documentation for alternative solver options:\n",
      "    https://scikit-learn.org/stable/modules/linear_model.html#logistic-regression\n",
      "  n_iter_i = _check_optimize_result(\n",
      "100%|██████████| 8/8 [00:01<00:00,  5.03it/s]\n"
     ]
    }
   ],
   "source": [
    "training_log, list_of_model_imbal = train_eval_model(\n",
    "    list_of_model[\"imbalanced\"],\n",
    "    \"baseline_model\",\n",
    "    x_train_base,\n",
    "    y_train,\n",
    "    \"imbalanced\",\n",
    "    x_valid_base,\n",
    "    y_valid,\n",
    "    \"/root/ml_process_feb23/logs/training_log_baseline.json\"\n",
    ")"
   ]
  },
  {
   "cell_type": "code",
   "execution_count": 219,
   "metadata": {},
   "outputs": [],
   "source": [
    "list_of_model[\"imbalanced\"] = copy.deepcopy(list_of_model_imbal)"
   ]
  },
  {
   "attachments": {},
   "cell_type": "markdown",
   "metadata": {},
   "source": [
    "### Balanced with undersampling"
   ]
  },
  {
   "cell_type": "code",
   "execution_count": 220,
   "metadata": {},
   "outputs": [
    {
     "name": "stderr",
     "output_type": "stream",
     "text": [
      "  0%|          | 0/8 [00:00<?, ?it/s]/root/ml_process_feb23/venv2/lib/python3.8/site-packages/sklearn/linear_model/_logistic.py:458: ConvergenceWarning: lbfgs failed to converge (status=1):\n",
      "STOP: TOTAL NO. of ITERATIONS REACHED LIMIT.\n",
      "\n",
      "Increase the number of iterations (max_iter) or scale the data as shown in:\n",
      "    https://scikit-learn.org/stable/modules/preprocessing.html\n",
      "Please also refer to the documentation for alternative solver options:\n",
      "    https://scikit-learn.org/stable/modules/linear_model.html#logistic-regression\n",
      "  n_iter_i = _check_optimize_result(\n",
      "100%|██████████| 8/8 [00:01<00:00,  5.49it/s]\n"
     ]
    }
   ],
   "source": [
    "training_log, list_of_model_rus = train_eval_model(\n",
    "    list_of_model[\"undersampling\"],\n",
    "    \"baseline_model\",\n",
    "    x_train_rus_base,\n",
    "    y_train_rus,\n",
    "    \"undersampling\",\n",
    "    x_valid_base,\n",
    "    y_valid,\n",
    "    \"/root/ml_process_feb23/logs/training_log_baseline.json\"\n",
    ")"
   ]
  },
  {
   "cell_type": "code",
   "execution_count": 221,
   "metadata": {},
   "outputs": [],
   "source": [
    "list_of_model[\"undersampling\"] = copy.deepcopy(list_of_model_rus)"
   ]
  },
  {
   "attachments": {},
   "cell_type": "markdown",
   "metadata": {},
   "source": [
    "### Balanced with oversampling"
   ]
  },
  {
   "cell_type": "code",
   "execution_count": 222,
   "metadata": {},
   "outputs": [
    {
     "name": "stderr",
     "output_type": "stream",
     "text": [
      "  0%|          | 0/8 [00:00<?, ?it/s]/root/ml_process_feb23/venv2/lib/python3.8/site-packages/sklearn/linear_model/_logistic.py:458: ConvergenceWarning: lbfgs failed to converge (status=1):\n",
      "STOP: TOTAL NO. of ITERATIONS REACHED LIMIT.\n",
      "\n",
      "Increase the number of iterations (max_iter) or scale the data as shown in:\n",
      "    https://scikit-learn.org/stable/modules/preprocessing.html\n",
      "Please also refer to the documentation for alternative solver options:\n",
      "    https://scikit-learn.org/stable/modules/linear_model.html#logistic-regression\n",
      "  n_iter_i = _check_optimize_result(\n",
      "100%|██████████| 8/8 [00:02<00:00,  3.22it/s]\n"
     ]
    }
   ],
   "source": [
    "training_log, list_of_model_ros = train_eval_model(\n",
    "    list_of_model[\"oversampling\"],\n",
    "    \"baseline_model\",\n",
    "    x_train_ros_base,\n",
    "    y_train_ros,\n",
    "    \"oversampling\",\n",
    "    x_valid_base,\n",
    "    y_valid,\n",
    "    \"/root/ml_process_feb23/logs/training_log_baseline.json\"\n",
    ")"
   ]
  },
  {
   "cell_type": "code",
   "execution_count": 223,
   "metadata": {},
   "outputs": [],
   "source": [
    "list_of_model[\"oversampling\"] = copy.deepcopy(list_of_model_ros)"
   ]
  },
  {
   "attachments": {},
   "cell_type": "markdown",
   "metadata": {},
   "source": [
    "### Balanced with SMOTE"
   ]
  },
  {
   "cell_type": "code",
   "execution_count": 224,
   "metadata": {},
   "outputs": [
    {
     "name": "stderr",
     "output_type": "stream",
     "text": [
      "  0%|          | 0/8 [00:00<?, ?it/s]/root/ml_process_feb23/venv2/lib/python3.8/site-packages/sklearn/linear_model/_logistic.py:458: ConvergenceWarning: lbfgs failed to converge (status=1):\n",
      "STOP: TOTAL NO. of ITERATIONS REACHED LIMIT.\n",
      "\n",
      "Increase the number of iterations (max_iter) or scale the data as shown in:\n",
      "    https://scikit-learn.org/stable/modules/preprocessing.html\n",
      "Please also refer to the documentation for alternative solver options:\n",
      "    https://scikit-learn.org/stable/modules/linear_model.html#logistic-regression\n",
      "  n_iter_i = _check_optimize_result(\n",
      "100%|██████████| 8/8 [00:01<00:00,  5.20it/s]\n"
     ]
    }
   ],
   "source": [
    "training_log, list_of_model_smote = train_eval_model(\n",
    "    list_of_model[\"smote\"],\n",
    "    \"baseline_model\",\n",
    "    x_train_smote_base,\n",
    "    y_train_smote,\n",
    "    \"smote\",\n",
    "    x_valid_base,\n",
    "    y_valid,\n",
    "    \"/root/ml_process_feb23/logs/training_log_baseline.json\"\n",
    ")"
   ]
  },
  {
   "cell_type": "code",
   "execution_count": 225,
   "metadata": {},
   "outputs": [],
   "source": [
    "list_of_model[\"smote\"] = copy.deepcopy(list_of_model_smote)"
   ]
  },
  {
   "attachments": {},
   "cell_type": "markdown",
   "metadata": {},
   "source": [
    "### Table of models performance\n",
    "\n",
    "Now let's compare the performance from each algorithm and each dataset."
   ]
  },
  {
   "cell_type": "code",
   "execution_count": 226,
   "metadata": {},
   "outputs": [],
   "source": [
    "def training_log_to_df(training_log):\n",
    "    training_res = pd.DataFrame()\n",
    "\n",
    "    for log in tqdm(training_log):\n",
    "        training_res = pd.concat([training_res, pd.DataFrame(log)])\n",
    "    \n",
    "    training_res.sort_values([\"f1_score_avg\", \"training_time\"], ascending = [False, True], inplace = True)\n",
    "    training_res.reset_index(inplace = True, drop = True)\n",
    "    \n",
    "    return training_res"
   ]
  },
  {
   "cell_type": "code",
   "execution_count": 227,
   "metadata": {},
   "outputs": [
    {
     "name": "stderr",
     "output_type": "stream",
     "text": [
      "100%|██████████| 32/32 [00:00<00:00, 114.03it/s]\n"
     ]
    }
   ],
   "source": [
    "training_res_baseline = training_log_to_df(training_log)"
   ]
  },
  {
   "cell_type": "code",
   "execution_count": 228,
   "metadata": {},
   "outputs": [
    {
     "data": {
      "text/html": [
       "<div>\n",
       "<style scoped>\n",
       "    .dataframe tbody tr th:only-of-type {\n",
       "        vertical-align: middle;\n",
       "    }\n",
       "\n",
       "    .dataframe tbody tr th {\n",
       "        vertical-align: top;\n",
       "    }\n",
       "\n",
       "    .dataframe thead th {\n",
       "        text-align: right;\n",
       "    }\n",
       "</style>\n",
       "<table border=\"1\" class=\"dataframe\">\n",
       "  <thead>\n",
       "    <tr style=\"text-align: right;\">\n",
       "      <th></th>\n",
       "      <th>model_name</th>\n",
       "      <th>model_uid</th>\n",
       "      <th>training_time</th>\n",
       "      <th>training_date</th>\n",
       "      <th>performance</th>\n",
       "      <th>f1_score_avg</th>\n",
       "      <th>data_configurations</th>\n",
       "    </tr>\n",
       "  </thead>\n",
       "  <tbody>\n",
       "    <tr>\n",
       "      <th>0</th>\n",
       "      <td>baseline_model-XGBClassifier</td>\n",
       "      <td>293db453c74a8706a84186aa57ddb79b</td>\n",
       "      <td>0.184204</td>\n",
       "      <td>2023-03-21 12:50:49.163254</td>\n",
       "      <td>{'0': {'precision': 0.8936170212765957, 'recal...</td>\n",
       "      <td>0.963076</td>\n",
       "      <td>smote</td>\n",
       "    </tr>\n",
       "    <tr>\n",
       "      <th>1</th>\n",
       "      <td>baseline_model-GaussianNB</td>\n",
       "      <td>e747f92d988bc261c396d4903b70967c</td>\n",
       "      <td>0.212902</td>\n",
       "      <td>2023-03-21 12:56:53.459489</td>\n",
       "      <td>{'0': {'precision': 0.8936170212765957, 'recal...</td>\n",
       "      <td>0.963076</td>\n",
       "      <td>smote</td>\n",
       "    </tr>\n",
       "    <tr>\n",
       "      <th>2</th>\n",
       "      <td>baseline_model-GaussianNB</td>\n",
       "      <td>feb2247ad64965fa4565c9a900357420</td>\n",
       "      <td>0.216362</td>\n",
       "      <td>2023-03-21 13:12:37.108962</td>\n",
       "      <td>{'0': {'precision': 0.8936170212765957, 'recal...</td>\n",
       "      <td>0.963076</td>\n",
       "      <td>smote</td>\n",
       "    </tr>\n",
       "    <tr>\n",
       "      <th>3</th>\n",
       "      <td>baseline_model-XGBClassifier</td>\n",
       "      <td>58483d0fe9f9d3a425c2f8a74eb2656a</td>\n",
       "      <td>0.231376</td>\n",
       "      <td>2023-03-21 13:12:36.825185</td>\n",
       "      <td>{'0': {'precision': 0.8936170212765957, 'recal...</td>\n",
       "      <td>0.963076</td>\n",
       "      <td>smote</td>\n",
       "    </tr>\n",
       "    <tr>\n",
       "      <th>4</th>\n",
       "      <td>baseline_model-GaussianNB</td>\n",
       "      <td>fc49ccf788daeebd89d750dcd78c1211</td>\n",
       "      <td>0.234418</td>\n",
       "      <td>2023-03-21 13:04:03.616066</td>\n",
       "      <td>{'0': {'precision': 0.8936170212765957, 'recal...</td>\n",
       "      <td>0.963076</td>\n",
       "      <td>smote</td>\n",
       "    </tr>\n",
       "    <tr>\n",
       "      <th>...</th>\n",
       "      <td>...</td>\n",
       "      <td>...</td>\n",
       "      <td>...</td>\n",
       "      <td>...</td>\n",
       "      <td>...</td>\n",
       "      <td>...</td>\n",
       "      <td>...</td>\n",
       "    </tr>\n",
       "    <tr>\n",
       "      <th>251</th>\n",
       "      <td>baseline_model-CategoricalNB</td>\n",
       "      <td>54677281c5ce4cd8a635b3ea5da1413d</td>\n",
       "      <td>0.008174</td>\n",
       "      <td>2023-03-21 13:03:46.508290</td>\n",
       "      <td>{'0': {'precision': 0.16666666666666666, 'reca...</td>\n",
       "      <td>0.458421</td>\n",
       "      <td>imbalanced</td>\n",
       "    </tr>\n",
       "    <tr>\n",
       "      <th>252</th>\n",
       "      <td>baseline_model-CategoricalNB</td>\n",
       "      <td>c761dfa9a1e69813a2c6004a0c94bb6a</td>\n",
       "      <td>0.008661</td>\n",
       "      <td>2023-03-21 12:48:19.927129</td>\n",
       "      <td>{'0': {'precision': 0.16666666666666666, 'reca...</td>\n",
       "      <td>0.458421</td>\n",
       "      <td>imbalanced</td>\n",
       "    </tr>\n",
       "    <tr>\n",
       "      <th>253</th>\n",
       "      <td>baseline_model-KNeighborsClassifier</td>\n",
       "      <td>cff37144b470b64209cb631caa473cd4</td>\n",
       "      <td>0.009649</td>\n",
       "      <td>2023-03-21 12:48:19.658372</td>\n",
       "      <td>{'0': {'precision': 0.16666666666666666, 'reca...</td>\n",
       "      <td>0.458421</td>\n",
       "      <td>imbalanced</td>\n",
       "    </tr>\n",
       "    <tr>\n",
       "      <th>254</th>\n",
       "      <td>baseline_model-KNeighborsClassifier</td>\n",
       "      <td>464fefbee3054dced96dc05378bd3a3e</td>\n",
       "      <td>0.151212</td>\n",
       "      <td>2023-03-21 10:58:04.532535</td>\n",
       "      <td>{'0': {'precision': 0.16666666666666666, 'reca...</td>\n",
       "      <td>0.458421</td>\n",
       "      <td>imbalanced</td>\n",
       "    </tr>\n",
       "    <tr>\n",
       "      <th>255</th>\n",
       "      <td>baseline_model-KNeighborsClassifier</td>\n",
       "      <td>d2cf4ed9aee9f0cd98ddc9b368dd66c7</td>\n",
       "      <td>0.618442</td>\n",
       "      <td>2023-03-21 13:03:43.040822</td>\n",
       "      <td>{'0': {'precision': 0.16666666666666666, 'reca...</td>\n",
       "      <td>0.458421</td>\n",
       "      <td>imbalanced</td>\n",
       "    </tr>\n",
       "  </tbody>\n",
       "</table>\n",
       "<p>256 rows × 7 columns</p>\n",
       "</div>"
      ],
      "text/plain": [
       "                              model_name                         model_uid  \\\n",
       "0           baseline_model-XGBClassifier  293db453c74a8706a84186aa57ddb79b   \n",
       "1              baseline_model-GaussianNB  e747f92d988bc261c396d4903b70967c   \n",
       "2              baseline_model-GaussianNB  feb2247ad64965fa4565c9a900357420   \n",
       "3           baseline_model-XGBClassifier  58483d0fe9f9d3a425c2f8a74eb2656a   \n",
       "4              baseline_model-GaussianNB  fc49ccf788daeebd89d750dcd78c1211   \n",
       "..                                   ...                               ...   \n",
       "251         baseline_model-CategoricalNB  54677281c5ce4cd8a635b3ea5da1413d   \n",
       "252         baseline_model-CategoricalNB  c761dfa9a1e69813a2c6004a0c94bb6a   \n",
       "253  baseline_model-KNeighborsClassifier  cff37144b470b64209cb631caa473cd4   \n",
       "254  baseline_model-KNeighborsClassifier  464fefbee3054dced96dc05378bd3a3e   \n",
       "255  baseline_model-KNeighborsClassifier  d2cf4ed9aee9f0cd98ddc9b368dd66c7   \n",
       "\n",
       "     training_time               training_date  \\\n",
       "0         0.184204  2023-03-21 12:50:49.163254   \n",
       "1         0.212902  2023-03-21 12:56:53.459489   \n",
       "2         0.216362  2023-03-21 13:12:37.108962   \n",
       "3         0.231376  2023-03-21 13:12:36.825185   \n",
       "4         0.234418  2023-03-21 13:04:03.616066   \n",
       "..             ...                         ...   \n",
       "251       0.008174  2023-03-21 13:03:46.508290   \n",
       "252       0.008661  2023-03-21 12:48:19.927129   \n",
       "253       0.009649  2023-03-21 12:48:19.658372   \n",
       "254       0.151212  2023-03-21 10:58:04.532535   \n",
       "255       0.618442  2023-03-21 13:03:43.040822   \n",
       "\n",
       "                                           performance  f1_score_avg  \\\n",
       "0    {'0': {'precision': 0.8936170212765957, 'recal...      0.963076   \n",
       "1    {'0': {'precision': 0.8936170212765957, 'recal...      0.963076   \n",
       "2    {'0': {'precision': 0.8936170212765957, 'recal...      0.963076   \n",
       "3    {'0': {'precision': 0.8936170212765957, 'recal...      0.963076   \n",
       "4    {'0': {'precision': 0.8936170212765957, 'recal...      0.963076   \n",
       "..                                                 ...           ...   \n",
       "251  {'0': {'precision': 0.16666666666666666, 'reca...      0.458421   \n",
       "252  {'0': {'precision': 0.16666666666666666, 'reca...      0.458421   \n",
       "253  {'0': {'precision': 0.16666666666666666, 'reca...      0.458421   \n",
       "254  {'0': {'precision': 0.16666666666666666, 'reca...      0.458421   \n",
       "255  {'0': {'precision': 0.16666666666666666, 'reca...      0.458421   \n",
       "\n",
       "    data_configurations  \n",
       "0                 smote  \n",
       "1                 smote  \n",
       "2                 smote  \n",
       "3                 smote  \n",
       "4                 smote  \n",
       "..                  ...  \n",
       "251          imbalanced  \n",
       "252          imbalanced  \n",
       "253          imbalanced  \n",
       "254          imbalanced  \n",
       "255          imbalanced  \n",
       "\n",
       "[256 rows x 7 columns]"
      ]
     },
     "execution_count": 228,
     "metadata": {},
     "output_type": "execute_result"
    }
   ],
   "source": [
    "training_res_baseline"
   ]
  },
  {
   "attachments": {},
   "cell_type": "markdown",
   "metadata": {},
   "source": [
    "## Train the Alternative Models\n",
    "\n",
    "The binned value features are used in the datasets for this model training process. "
   ]
  },
  {
   "attachments": {},
   "cell_type": "markdown",
   "metadata": {},
   "source": [
    "### Original (imbalanced) data\n"
   ]
  },
  {
   "cell_type": "code",
   "execution_count": 229,
   "metadata": {},
   "outputs": [
    {
     "name": "stderr",
     "output_type": "stream",
     "text": [
      "  0%|          | 0/8 [00:00<?, ?it/s]/root/ml_process_feb23/venv2/lib/python3.8/site-packages/sklearn/linear_model/_logistic.py:458: ConvergenceWarning: lbfgs failed to converge (status=1):\n",
      "STOP: TOTAL NO. of ITERATIONS REACHED LIMIT.\n",
      "\n",
      "Increase the number of iterations (max_iter) or scale the data as shown in:\n",
      "    https://scikit-learn.org/stable/modules/preprocessing.html\n",
      "Please also refer to the documentation for alternative solver options:\n",
      "    https://scikit-learn.org/stable/modules/linear_model.html#logistic-regression\n",
      "  n_iter_i = _check_optimize_result(\n",
      "100%|██████████| 8/8 [00:06<00:00,  1.22it/s]\n"
     ]
    }
   ],
   "source": [
    "training_log, list_of_model_imbal = train_eval_model(\n",
    "    list_of_model[\"imbalanced\"],\n",
    "    \"alternative_model\",\n",
    "    x_train_bin,\n",
    "    y_train,\n",
    "    \"imbalanced\",\n",
    "    x_valid_bin,\n",
    "    y_valid,\n",
    "    \"/root/ml_process_feb23/logs/training_log_alternative.json\"\n",
    ")\n",
    "list_of_model[\"imbalanced\"] = copy.deepcopy(list_of_model_imbal)"
   ]
  },
  {
   "cell_type": "code",
   "execution_count": 230,
   "metadata": {},
   "outputs": [],
   "source": [
    "list_of_model[\"imbalanced\"] = copy.deepcopy(list_of_model_imbal)\n"
   ]
  },
  {
   "attachments": {},
   "cell_type": "markdown",
   "metadata": {},
   "source": [
    "### Balanced with undersampling\n"
   ]
  },
  {
   "cell_type": "code",
   "execution_count": 231,
   "metadata": {},
   "outputs": [
    {
     "name": "stderr",
     "output_type": "stream",
     "text": [
      "  0%|          | 0/8 [00:00<?, ?it/s]/root/ml_process_feb23/venv2/lib/python3.8/site-packages/sklearn/linear_model/_logistic.py:458: ConvergenceWarning: lbfgs failed to converge (status=1):\n",
      "STOP: TOTAL NO. of ITERATIONS REACHED LIMIT.\n",
      "\n",
      "Increase the number of iterations (max_iter) or scale the data as shown in:\n",
      "    https://scikit-learn.org/stable/modules/preprocessing.html\n",
      "Please also refer to the documentation for alternative solver options:\n",
      "    https://scikit-learn.org/stable/modules/linear_model.html#logistic-regression\n",
      "  n_iter_i = _check_optimize_result(\n",
      "100%|██████████| 8/8 [00:01<00:00,  7.41it/s]\n"
     ]
    }
   ],
   "source": [
    "training_log, list_of_model_rus = train_eval_model(\n",
    "    list_of_model[\"undersampling\"],\n",
    "    \"alternative_model\",\n",
    "    x_train_rus_bin,\n",
    "    y_train_rus,\n",
    "    \"undersampling\",\n",
    "    x_valid_bin,\n",
    "    y_valid,\n",
    "    \"/root/ml_process_feb23/logs/training_log_alternative.json\"\n",
    ")\n",
    "list_of_model[\"undersampling\"] = copy.deepcopy(list_of_model_rus)\n"
   ]
  },
  {
   "attachments": {},
   "cell_type": "markdown",
   "metadata": {},
   "source": [
    "### Balanced with oversampling\n"
   ]
  },
  {
   "cell_type": "code",
   "execution_count": 232,
   "metadata": {},
   "outputs": [
    {
     "name": "stderr",
     "output_type": "stream",
     "text": [
      "  0%|          | 0/8 [00:00<?, ?it/s]/root/ml_process_feb23/venv2/lib/python3.8/site-packages/sklearn/linear_model/_logistic.py:458: ConvergenceWarning: lbfgs failed to converge (status=1):\n",
      "STOP: TOTAL NO. of ITERATIONS REACHED LIMIT.\n",
      "\n",
      "Increase the number of iterations (max_iter) or scale the data as shown in:\n",
      "    https://scikit-learn.org/stable/modules/preprocessing.html\n",
      "Please also refer to the documentation for alternative solver options:\n",
      "    https://scikit-learn.org/stable/modules/linear_model.html#logistic-regression\n",
      "  n_iter_i = _check_optimize_result(\n",
      "100%|██████████| 8/8 [00:01<00:00,  6.78it/s]\n"
     ]
    }
   ],
   "source": [
    "training_log, list_of_model_ros = train_eval_model(\n",
    "    list_of_model[\"oversampling\"],\n",
    "    \"alternative_model\",\n",
    "    x_train_ros_bin,\n",
    "    y_train_ros,\n",
    "    \"oversampling\",\n",
    "    x_valid_bin,\n",
    "    y_valid,\n",
    "    \"/root/ml_process_feb23/logs/training_log_alternative.json\"\n",
    ")\n",
    "list_of_model[\"oversampling\"] = copy.deepcopy(list_of_model_ros)"
   ]
  },
  {
   "cell_type": "code",
   "execution_count": 233,
   "metadata": {},
   "outputs": [],
   "source": [
    "list_of_model[\"oversampling\"] = copy.deepcopy(list_of_model_ros)\n"
   ]
  },
  {
   "attachments": {},
   "cell_type": "markdown",
   "metadata": {},
   "source": [
    "### Balanced with SMOTE\n"
   ]
  },
  {
   "cell_type": "code",
   "execution_count": 234,
   "metadata": {},
   "outputs": [
    {
     "name": "stderr",
     "output_type": "stream",
     "text": [
      "  0%|          | 0/8 [00:00<?, ?it/s]/root/ml_process_feb23/venv2/lib/python3.8/site-packages/sklearn/linear_model/_logistic.py:458: ConvergenceWarning: lbfgs failed to converge (status=1):\n",
      "STOP: TOTAL NO. of ITERATIONS REACHED LIMIT.\n",
      "\n",
      "Increase the number of iterations (max_iter) or scale the data as shown in:\n",
      "    https://scikit-learn.org/stable/modules/preprocessing.html\n",
      "Please also refer to the documentation for alternative solver options:\n",
      "    https://scikit-learn.org/stable/modules/linear_model.html#logistic-regression\n",
      "  n_iter_i = _check_optimize_result(\n",
      "100%|██████████| 8/8 [00:04<00:00,  1.84it/s]\n"
     ]
    }
   ],
   "source": [
    "training_log, list_of_model_smote = train_eval_model(\n",
    "    list_of_model[\"smote\"],\n",
    "    \"alternative_model\",\n",
    "    x_train_smote_bin,\n",
    "    y_train_smote,\n",
    "    \"smote\",\n",
    "    x_valid_bin,\n",
    "    y_valid,\n",
    "    \"/root/ml_process_feb23/logs/training_log_alternative.json\"\n",
    ")\n",
    "list_of_model[\"smote\"] = copy.deepcopy(list_of_model_smote)"
   ]
  },
  {
   "cell_type": "code",
   "execution_count": 235,
   "metadata": {},
   "outputs": [],
   "source": [
    "list_of_model[\"smote\"] = copy.deepcopy(list_of_model_smote)"
   ]
  },
  {
   "attachments": {},
   "cell_type": "markdown",
   "metadata": {},
   "source": [
    "### Table of models performance\n",
    "\n",
    "Now let's compare the performance from each algorithm and each dataset.\n"
   ]
  },
  {
   "cell_type": "code",
   "execution_count": 236,
   "metadata": {},
   "outputs": [],
   "source": [
    "def training_log_to_df(training_log):\n",
    "    training_res = pd.DataFrame()\n",
    "\n",
    "    for log in tqdm(training_log):\n",
    "        training_res = pd.concat([training_res, pd.DataFrame(log)])\n",
    "    \n",
    "    training_res.sort_values([\"f1_score_avg\", \"training_time\"], ascending = [False, True], inplace = True)\n",
    "    training_res.reset_index(inplace = True, drop = True)\n",
    "    \n",
    "    return training_res\n"
   ]
  },
  {
   "cell_type": "code",
   "execution_count": 237,
   "metadata": {},
   "outputs": [
    {
     "name": "stderr",
     "output_type": "stream",
     "text": [
      "100%|██████████| 40/40 [00:00<00:00, 74.14it/s] \n"
     ]
    }
   ],
   "source": [
    "training_res_alternative = training_log_to_df(training_log)\n"
   ]
  },
  {
   "cell_type": "code",
   "execution_count": 215,
   "metadata": {},
   "outputs": [
    {
     "data": {
      "text/html": [
       "<div>\n",
       "<style scoped>\n",
       "    .dataframe tbody tr th:only-of-type {\n",
       "        vertical-align: middle;\n",
       "    }\n",
       "\n",
       "    .dataframe tbody tr th {\n",
       "        vertical-align: top;\n",
       "    }\n",
       "\n",
       "    .dataframe thead th {\n",
       "        text-align: right;\n",
       "    }\n",
       "</style>\n",
       "<table border=\"1\" class=\"dataframe\">\n",
       "  <thead>\n",
       "    <tr style=\"text-align: right;\">\n",
       "      <th></th>\n",
       "      <th>model_name</th>\n",
       "      <th>model_uid</th>\n",
       "      <th>training_time</th>\n",
       "      <th>training_date</th>\n",
       "      <th>performance</th>\n",
       "      <th>f1_score_avg</th>\n",
       "      <th>data_configurations</th>\n",
       "    </tr>\n",
       "  </thead>\n",
       "  <tbody>\n",
       "    <tr>\n",
       "      <th>0</th>\n",
       "      <td>alternative_model-RandomForestClassifier</td>\n",
       "      <td>a3b7d5d7ab765711fd6c6ce82c7ff60c</td>\n",
       "      <td>0.411460</td>\n",
       "      <td>2023-03-21 12:51:00.604553</td>\n",
       "      <td>{'0': {'precision': 0.9130434782608695, 'recal...</td>\n",
       "      <td>0.970230</td>\n",
       "      <td>oversampling</td>\n",
       "    </tr>\n",
       "    <tr>\n",
       "      <th>1</th>\n",
       "      <td>alternative_model-DecisionTreeClassifier</td>\n",
       "      <td>0d38df7b60fddb74b345045ac83f1349</td>\n",
       "      <td>0.016238</td>\n",
       "      <td>2023-03-21 12:55:46.976368</td>\n",
       "      <td>{'0': {'precision': 1.0, 'recall': 0.904761904...</td>\n",
       "      <td>0.968151</td>\n",
       "      <td>smote</td>\n",
       "    </tr>\n",
       "    <tr>\n",
       "      <th>2</th>\n",
       "      <td>alternative_model-DecisionTreeClassifier</td>\n",
       "      <td>17a7187227e6cbb04834704eadf32de5</td>\n",
       "      <td>0.020242</td>\n",
       "      <td>2023-03-21 12:52:54.915322</td>\n",
       "      <td>{'0': {'precision': 1.0, 'recall': 0.904761904...</td>\n",
       "      <td>0.968151</td>\n",
       "      <td>smote</td>\n",
       "    </tr>\n",
       "    <tr>\n",
       "      <th>3</th>\n",
       "      <td>alternative_model-RandomForestClassifier</td>\n",
       "      <td>870e3346a0c14d81b23fc81a59ed7a75</td>\n",
       "      <td>0.464469</td>\n",
       "      <td>2023-03-21 12:48:53.389892</td>\n",
       "      <td>{'0': {'precision': 0.8936170212765957, 'recal...</td>\n",
       "      <td>0.963076</td>\n",
       "      <td>oversampling</td>\n",
       "    </tr>\n",
       "    <tr>\n",
       "      <th>4</th>\n",
       "      <td>alternative_model-RandomForestClassifier</td>\n",
       "      <td>793341c5929959f1da6978d2c69bdc1f</td>\n",
       "      <td>0.643536</td>\n",
       "      <td>2023-03-21 12:50:56.547220</td>\n",
       "      <td>{'0': {'precision': 0.8936170212765957, 'recal...</td>\n",
       "      <td>0.963076</td>\n",
       "      <td>imbalanced</td>\n",
       "    </tr>\n",
       "    <tr>\n",
       "      <th>...</th>\n",
       "      <td>...</td>\n",
       "      <td>...</td>\n",
       "      <td>...</td>\n",
       "      <td>...</td>\n",
       "      <td>...</td>\n",
       "      <td>...</td>\n",
       "      <td>...</td>\n",
       "    </tr>\n",
       "    <tr>\n",
       "      <th>283</th>\n",
       "      <td>alternative_model-CategoricalNB</td>\n",
       "      <td>7735d38d29d18c4b7b150d02fec34751</td>\n",
       "      <td>0.008265</td>\n",
       "      <td>2023-03-21 10:58:25.214445</td>\n",
       "      <td>{'0': {'precision': 0.25287356321839083, 'reca...</td>\n",
       "      <td>0.495646</td>\n",
       "      <td>undersampling</td>\n",
       "    </tr>\n",
       "    <tr>\n",
       "      <th>284</th>\n",
       "      <td>alternative_model-KNeighborsClassifier</td>\n",
       "      <td>40b7fff23879612b4302b19359b65eff</td>\n",
       "      <td>0.008372</td>\n",
       "      <td>2023-03-21 13:11:58.858934</td>\n",
       "      <td>{'0': {'precision': 0.25287356321839083, 'reca...</td>\n",
       "      <td>0.495646</td>\n",
       "      <td>undersampling</td>\n",
       "    </tr>\n",
       "    <tr>\n",
       "      <th>285</th>\n",
       "      <td>alternative_model-CategoricalNB</td>\n",
       "      <td>6c4353d232ad06c83d1ee2e66448fbb6</td>\n",
       "      <td>0.008693</td>\n",
       "      <td>2023-03-21 12:57:11.633833</td>\n",
       "      <td>{'0': {'precision': 0.25287356321839083, 'reca...</td>\n",
       "      <td>0.495646</td>\n",
       "      <td>undersampling</td>\n",
       "    </tr>\n",
       "    <tr>\n",
       "      <th>286</th>\n",
       "      <td>alternative_model-KNeighborsClassifier</td>\n",
       "      <td>2db0c048c6339d9ef94e42d421b03847</td>\n",
       "      <td>0.009691</td>\n",
       "      <td>2023-03-21 12:52:48.540074</td>\n",
       "      <td>{'0': {'precision': 0.25287356321839083, 'reca...</td>\n",
       "      <td>0.495646</td>\n",
       "      <td>undersampling</td>\n",
       "    </tr>\n",
       "    <tr>\n",
       "      <th>287</th>\n",
       "      <td>alternative_model-KNeighborsClassifier</td>\n",
       "      <td>7aa97ef12906713d9f419afad82e484e</td>\n",
       "      <td>0.009850</td>\n",
       "      <td>2023-03-21 13:04:18.691594</td>\n",
       "      <td>{'0': {'precision': 0.25287356321839083, 'reca...</td>\n",
       "      <td>0.495646</td>\n",
       "      <td>undersampling</td>\n",
       "    </tr>\n",
       "  </tbody>\n",
       "</table>\n",
       "<p>288 rows × 7 columns</p>\n",
       "</div>"
      ],
      "text/plain": [
       "                                   model_name  \\\n",
       "0    alternative_model-RandomForestClassifier   \n",
       "1    alternative_model-DecisionTreeClassifier   \n",
       "2    alternative_model-DecisionTreeClassifier   \n",
       "3    alternative_model-RandomForestClassifier   \n",
       "4    alternative_model-RandomForestClassifier   \n",
       "..                                        ...   \n",
       "283           alternative_model-CategoricalNB   \n",
       "284    alternative_model-KNeighborsClassifier   \n",
       "285           alternative_model-CategoricalNB   \n",
       "286    alternative_model-KNeighborsClassifier   \n",
       "287    alternative_model-KNeighborsClassifier   \n",
       "\n",
       "                            model_uid  training_time  \\\n",
       "0    a3b7d5d7ab765711fd6c6ce82c7ff60c       0.411460   \n",
       "1    0d38df7b60fddb74b345045ac83f1349       0.016238   \n",
       "2    17a7187227e6cbb04834704eadf32de5       0.020242   \n",
       "3    870e3346a0c14d81b23fc81a59ed7a75       0.464469   \n",
       "4    793341c5929959f1da6978d2c69bdc1f       0.643536   \n",
       "..                                ...            ...   \n",
       "283  7735d38d29d18c4b7b150d02fec34751       0.008265   \n",
       "284  40b7fff23879612b4302b19359b65eff       0.008372   \n",
       "285  6c4353d232ad06c83d1ee2e66448fbb6       0.008693   \n",
       "286  2db0c048c6339d9ef94e42d421b03847       0.009691   \n",
       "287  7aa97ef12906713d9f419afad82e484e       0.009850   \n",
       "\n",
       "                  training_date  \\\n",
       "0    2023-03-21 12:51:00.604553   \n",
       "1    2023-03-21 12:55:46.976368   \n",
       "2    2023-03-21 12:52:54.915322   \n",
       "3    2023-03-21 12:48:53.389892   \n",
       "4    2023-03-21 12:50:56.547220   \n",
       "..                          ...   \n",
       "283  2023-03-21 10:58:25.214445   \n",
       "284  2023-03-21 13:11:58.858934   \n",
       "285  2023-03-21 12:57:11.633833   \n",
       "286  2023-03-21 12:52:48.540074   \n",
       "287  2023-03-21 13:04:18.691594   \n",
       "\n",
       "                                           performance  f1_score_avg  \\\n",
       "0    {'0': {'precision': 0.9130434782608695, 'recal...      0.970230   \n",
       "1    {'0': {'precision': 1.0, 'recall': 0.904761904...      0.968151   \n",
       "2    {'0': {'precision': 1.0, 'recall': 0.904761904...      0.968151   \n",
       "3    {'0': {'precision': 0.8936170212765957, 'recal...      0.963076   \n",
       "4    {'0': {'precision': 0.8936170212765957, 'recal...      0.963076   \n",
       "..                                                 ...           ...   \n",
       "283  {'0': {'precision': 0.25287356321839083, 'reca...      0.495646   \n",
       "284  {'0': {'precision': 0.25287356321839083, 'reca...      0.495646   \n",
       "285  {'0': {'precision': 0.25287356321839083, 'reca...      0.495646   \n",
       "286  {'0': {'precision': 0.25287356321839083, 'reca...      0.495646   \n",
       "287  {'0': {'precision': 0.25287356321839083, 'reca...      0.495646   \n",
       "\n",
       "    data_configurations  \n",
       "0          oversampling  \n",
       "1                 smote  \n",
       "2                 smote  \n",
       "3          oversampling  \n",
       "4            imbalanced  \n",
       "..                  ...  \n",
       "283       undersampling  \n",
       "284       undersampling  \n",
       "285       undersampling  \n",
       "286       undersampling  \n",
       "287       undersampling  \n",
       "\n",
       "[288 rows x 7 columns]"
      ]
     },
     "execution_count": 215,
     "metadata": {},
     "output_type": "execute_result"
    }
   ],
   "source": [
    "training_res_alternative"
   ]
  },
  {
   "cell_type": "code",
   "execution_count": 245,
   "metadata": {},
   "outputs": [
    {
     "data": {
      "text/html": [
       "<div>\n",
       "<style scoped>\n",
       "    .dataframe tbody tr th:only-of-type {\n",
       "        vertical-align: middle;\n",
       "    }\n",
       "\n",
       "    .dataframe tbody tr th {\n",
       "        vertical-align: top;\n",
       "    }\n",
       "\n",
       "    .dataframe thead th {\n",
       "        text-align: right;\n",
       "    }\n",
       "</style>\n",
       "<table border=\"1\" class=\"dataframe\">\n",
       "  <thead>\n",
       "    <tr style=\"text-align: right;\">\n",
       "      <th></th>\n",
       "      <th>0</th>\n",
       "    </tr>\n",
       "  </thead>\n",
       "  <tbody>\n",
       "    <tr>\n",
       "      <th>model_name</th>\n",
       "      <td>baseline_model-XGBClassifier</td>\n",
       "    </tr>\n",
       "    <tr>\n",
       "      <th>model_uid</th>\n",
       "      <td>293db453c74a8706a84186aa57ddb79b</td>\n",
       "    </tr>\n",
       "    <tr>\n",
       "      <th>training_time</th>\n",
       "      <td>0.184204</td>\n",
       "    </tr>\n",
       "    <tr>\n",
       "      <th>training_date</th>\n",
       "      <td>2023-03-21 12:50:49.163254</td>\n",
       "    </tr>\n",
       "    <tr>\n",
       "      <th>performance</th>\n",
       "      <td>{'0': {'precision': 0.8936170212765957, 'recal...</td>\n",
       "    </tr>\n",
       "    <tr>\n",
       "      <th>f1_score_avg</th>\n",
       "      <td>0.963076</td>\n",
       "    </tr>\n",
       "    <tr>\n",
       "      <th>data_configurations</th>\n",
       "      <td>smote</td>\n",
       "    </tr>\n",
       "  </tbody>\n",
       "</table>\n",
       "</div>"
      ],
      "text/plain": [
       "                                                                     0\n",
       "model_name                                baseline_model-XGBClassifier\n",
       "model_uid                             293db453c74a8706a84186aa57ddb79b\n",
       "training_time                                                 0.184204\n",
       "training_date                               2023-03-21 12:50:49.163254\n",
       "performance          {'0': {'precision': 0.8936170212765957, 'recal...\n",
       "f1_score_avg                                                  0.963076\n",
       "data_configurations                                              smote"
      ]
     },
     "execution_count": 245,
     "metadata": {},
     "output_type": "execute_result"
    }
   ],
   "source": [
    "training_res_baseline.head(1).T"
   ]
  },
  {
   "cell_type": "code",
   "execution_count": 246,
   "metadata": {},
   "outputs": [
    {
     "data": {
      "text/html": [
       "<div>\n",
       "<style scoped>\n",
       "    .dataframe tbody tr th:only-of-type {\n",
       "        vertical-align: middle;\n",
       "    }\n",
       "\n",
       "    .dataframe tbody tr th {\n",
       "        vertical-align: top;\n",
       "    }\n",
       "\n",
       "    .dataframe thead th {\n",
       "        text-align: right;\n",
       "    }\n",
       "</style>\n",
       "<table border=\"1\" class=\"dataframe\">\n",
       "  <thead>\n",
       "    <tr style=\"text-align: right;\">\n",
       "      <th></th>\n",
       "      <th>0</th>\n",
       "    </tr>\n",
       "  </thead>\n",
       "  <tbody>\n",
       "    <tr>\n",
       "      <th>model_name</th>\n",
       "      <td>alternative_model-RandomForestClassifier</td>\n",
       "    </tr>\n",
       "    <tr>\n",
       "      <th>model_uid</th>\n",
       "      <td>a3b7d5d7ab765711fd6c6ce82c7ff60c</td>\n",
       "    </tr>\n",
       "    <tr>\n",
       "      <th>training_time</th>\n",
       "      <td>0.41146</td>\n",
       "    </tr>\n",
       "    <tr>\n",
       "      <th>training_date</th>\n",
       "      <td>2023-03-21 12:51:00.604553</td>\n",
       "    </tr>\n",
       "    <tr>\n",
       "      <th>performance</th>\n",
       "      <td>{'0': {'precision': 0.9130434782608695, 'recal...</td>\n",
       "    </tr>\n",
       "    <tr>\n",
       "      <th>f1_score_avg</th>\n",
       "      <td>0.97023</td>\n",
       "    </tr>\n",
       "    <tr>\n",
       "      <th>data_configurations</th>\n",
       "      <td>oversampling</td>\n",
       "    </tr>\n",
       "  </tbody>\n",
       "</table>\n",
       "</div>"
      ],
      "text/plain": [
       "                                                                     0\n",
       "model_name                    alternative_model-RandomForestClassifier\n",
       "model_uid                             a3b7d5d7ab765711fd6c6ce82c7ff60c\n",
       "training_time                                                  0.41146\n",
       "training_date                               2023-03-21 12:51:00.604553\n",
       "performance          {'0': {'precision': 0.9130434782608695, 'recal...\n",
       "f1_score_avg                                                   0.97023\n",
       "data_configurations                                       oversampling"
      ]
     },
     "execution_count": 246,
     "metadata": {},
     "output_type": "execute_result"
    }
   ],
   "source": [
    "training_res_alternative.head(1).T\n"
   ]
  }
 ],
 "metadata": {
  "kernelspec": {
   "display_name": "venv",
   "language": "python",
   "name": "python3"
  },
  "language_info": {
   "codemirror_mode": {
    "name": "ipython",
    "version": 3
   },
   "file_extension": ".py",
   "mimetype": "text/x-python",
   "name": "python",
   "nbconvert_exporter": "python",
   "pygments_lexer": "ipython3",
   "version": "3.8.10"
  },
  "orig_nbformat": 4,
  "vscode": {
   "interpreter": {
    "hash": "c5b86207399c51f71f4a6f37b6e15eb447a1def4c5b4b45f7ac1063b6bb4c5fc"
   }
  }
 },
 "nbformat": 4,
 "nbformat_minor": 2
}

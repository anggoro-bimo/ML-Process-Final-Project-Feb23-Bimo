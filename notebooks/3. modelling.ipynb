{
 "cells": [
  {
   "cell_type": "code",
   "execution_count": null,
   "metadata": {},
   "outputs": [],
   "source": []
  }
 ],
 "metadata": {
  "kernelspec": {
   "display_name": "venv",
   "language": "python",
   "name": "python3"
  },
  "language_info": {
   "name": "python",
   "version": "3.8.10"
  },
  "orig_nbformat": 4,
  "vscode": {
   "interpreter": {
    "hash": "c5b86207399c51f71f4a6f37b6e15eb447a1def4c5b4b45f7ac1063b6bb4c5fc"
   }
  }
 },
 "nbformat": 4,
 "nbformat_minor": 2
}

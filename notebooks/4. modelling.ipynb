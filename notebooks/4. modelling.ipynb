{
 "cells": [
  {
   "attachments": {},
   "cell_type": "markdown",
   "metadata": {},
   "source": [
    "# Libraries, Modules, and Configuration File"
   ]
  },
  {
   "cell_type": "code",
   "execution_count": 204,
   "metadata": {},
   "outputs": [],
   "source": [
    "import pandas as pd\n",
    " \n",
    "from sklearn.linear_model import LogisticRegression\n",
    "from sklearn.svm import SVC\n",
    "from sklearn.tree import DecisionTreeClassifier\n",
    "from sklearn.ensemble import RandomForestClassifier\n",
    "from sklearn.neighbors import KNeighborsClassifier\n",
    "from xgboost import XGBClassifier\n",
    "from sklearn.naive_bayes import CategoricalNB, GaussianNB\n",
    "\n",
    "from sklearn.metrics import classification_report, ConfusionMatrixDisplay\n",
    "from sklearn.model_selection import RandomizedSearchCV, GridSearchCV\n",
    "\n",
    "from datetime import datetime\n",
    "from tqdm import tqdm\n",
    "import json\n",
    "import copy\n",
    "import hashlib\n",
    "\n",
    "import sys\n",
    "sys.path.append('/root/ml_process_feb23/')\n",
    "import src.util as utils\n",
    "config = utils.load_config()"
   ]
  },
  {
   "attachments": {},
   "cell_type": "markdown",
   "metadata": {},
   "source": [
    "# Load the Datasets"
   ]
  },
  {
   "cell_type": "code",
   "execution_count": 205,
   "metadata": {},
   "outputs": [],
   "source": [
    "def load_datasets(config):\n",
    "\n",
    "    df_train = utils.pkl_load(config['dataset_modelling_path'][0])\n",
    "    x_train = df_train.drop(['card'], axis = 1)\n",
    "    y_train = df_train['card']\n",
    "\n",
    "    df_valid = utils.pkl_load(config['dataset_modelling_path'][1])\n",
    "    x_valid = df_valid.drop(['card'], axis = 1)\n",
    "    y_valid = df_valid['card']\n",
    "\n",
    "    df_test = utils.pkl_load(config['dataset_modelling_path'][2])\n",
    "    x_test = df_test.drop(['card'], axis = 1)\n",
    "    y_test = df_test['card']\n",
    "\n",
    "    x_train_rus = utils.pkl_load(config[\"dataset_train_balanced_path\"][0])\n",
    "    y_train_rus = utils.pkl_load(config[\"dataset_train_balanced_path\"][1])\n",
    "\n",
    "    x_train_ros = utils.pkl_load(config[\"dataset_train_balanced_path\"][2])\n",
    "    y_train_ros = utils.pkl_load(config[\"dataset_train_balanced_path\"][3])\n",
    "\n",
    "    return x_train, y_train, \\\n",
    "           x_valid, y_valid, \\\n",
    "           x_test, y_test, \\\n",
    "           x_train_rus, y_train_rus, \\\n",
    "           x_train_ros, y_train_ros"
   ]
  },
  {
   "cell_type": "code",
   "execution_count": 206,
   "metadata": {},
   "outputs": [],
   "source": [
    "# Execute the function for loading datasets \n",
    "\n",
    "x_train, y_train, \\\n",
    "x_valid, y_valid, \\\n",
    "x_test, y_test, \\\n",
    "x_train_rus, y_train_rus, \\\n",
    "x_train_ros, y_train_ros = load_datasets(config)"
   ]
  },
  {
   "attachments": {},
   "cell_type": "markdown",
   "metadata": {},
   "source": [
    "## Selecting features to be trained"
   ]
  },
  {
   "cell_type": "code",
   "execution_count": 207,
   "metadata": {},
   "outputs": [
    {
     "data": {
      "text/plain": [
       "array(['reports', 'age', 'share', 'owner', 'selfemp', 'dependents',\n",
       "       'majorcards', 'active', 'income_log', 'expenditure_log',\n",
       "       'months_log', 'age_bin', 'reports_bin', 'dependents_bin',\n",
       "       'active_bin'], dtype=object)"
      ]
     },
     "execution_count": 207,
     "metadata": {},
     "output_type": "execute_result"
    }
   ],
   "source": [
    "# Checking all the predictors\n",
    "x_train.columns.values"
   ]
  },
  {
   "cell_type": "code",
   "execution_count": 208,
   "metadata": {},
   "outputs": [],
   "source": [
    "# Create instances for some binned features and its original value\n",
    "bins = config[\"binned_cols\"]\n",
    "ori_value = config[\"original_cols\"]"
   ]
  },
  {
   "attachments": {},
   "cell_type": "markdown",
   "metadata": {},
   "source": [
    "For the **baseline model**, I use the features with original value."
   ]
  },
  {
   "cell_type": "code",
   "execution_count": 209,
   "metadata": {},
   "outputs": [],
   "source": [
    "# Create the independent variables for baseline model\n",
    "x_train_base = x_train.drop(bins, axis = 1)\n",
    "x_train_rus_base = x_train_rus.drop(bins, axis = 1)\n",
    "x_train_ros_base = x_train_ros.drop(bins, axis = 1)\n",
    "x_valid_base = x_valid.drop(bins, axis = 1)\n",
    "x_test_base = x_test.drop(bins, axis = 1)"
   ]
  },
  {
   "attachments": {},
   "cell_type": "markdown",
   "metadata": {},
   "source": [
    "For the **alternative model**, I use the binned features."
   ]
  },
  {
   "cell_type": "code",
   "execution_count": 210,
   "metadata": {},
   "outputs": [],
   "source": [
    "# Create the independent variables for alternative model\n",
    "x_train_bin = x_train.drop(ori_value, axis = 1)\n",
    "x_train_rus_bin = x_train_rus.drop(ori_value, axis = 1)\n",
    "x_train_ros_bin = x_train_ros.drop(ori_value, axis = 1)\n",
    "x_valid_bin = x_valid.drop(ori_value, axis = 1)\n",
    "x_test_bin = x_test.drop(ori_value, axis = 1)"
   ]
  },
  {
   "attachments": {},
   "cell_type": "markdown",
   "metadata": {},
   "source": [
    "# Create Log Template"
   ]
  },
  {
   "cell_type": "code",
   "execution_count": 211,
   "metadata": {},
   "outputs": [],
   "source": [
    "def time_stamp():\n",
    "    return datetime.now()"
   ]
  },
  {
   "cell_type": "code",
   "execution_count": 212,
   "metadata": {},
   "outputs": [],
   "source": [
    "def create_log_template():\n",
    "    logger = {\n",
    "        \"model_name\" : [],\n",
    "        \"model_uid\" : [],\n",
    "        \"training_time\" : [],\n",
    "        \"training_date\" : [],\n",
    "        \"performance\" : [],\n",
    "        \"accuracy\" :[],\n",
    "        \"f1_score_avg\" : [],\n",
    "        \"data_configurations\" : [],\n",
    "    }\n",
    "\n",
    "    return logger"
   ]
  },
  {
   "cell_type": "code",
   "execution_count": 213,
   "metadata": {},
   "outputs": [],
   "source": [
    "def training_log_updater(current_log, log_path):\n",
    "    current_log = current_log.copy()\n",
    "\n",
    "    try:\n",
    "        with open(log_path, \"r\") as file:\n",
    "            last_log = json.load(file)\n",
    "        file.close()\n",
    "    except FileNotFoundError as ffe:\n",
    "        with open(log_path, \"w\") as file:\n",
    "            file.write(\"[]\")\n",
    "        file.close()\n",
    "        with open(log_path, \"r\") as file:\n",
    "            last_log = json.load(file)\n",
    "        file.close()\n",
    "    \n",
    "    last_log.append(current_log)\n",
    "\n",
    "    with open(log_path, \"w\") as file:\n",
    "        json.dump(last_log, file)\n",
    "        file.close()\n",
    "\n",
    "    return last_log"
   ]
  },
  {
   "attachments": {},
   "cell_type": "markdown",
   "metadata": {},
   "source": [
    "# Training and Evaluation"
   ]
  },
  {
   "attachments": {},
   "cell_type": "markdown",
   "metadata": {},
   "source": [
    "## Create Model Object"
   ]
  },
  {
   "attachments": {},
   "cell_type": "markdown",
   "metadata": {},
   "source": [
    "Create instance for each algorithm function"
   ]
  },
  {
   "cell_type": "code",
   "execution_count": 214,
   "metadata": {},
   "outputs": [],
   "source": [
    "lgr      = LogisticRegression(random_state = 12)      # Logistic regression\n",
    "svm      = SVC(random_state = 23)                     # Support Vector Machine \n",
    "dtc      = DecisionTreeClassifier(random_state = 34)  # Decision tree Classifier\n",
    "rfc      = RandomForestClassifier(random_state = 45)  # Random Forest Classifier\n",
    "knn      = KNeighborsClassifier()                     # k-Nearest Neighbors CLassifier\n",
    "xgb      = XGBClassifier(random_state = 67)           # XG Boost Classifier\n",
    "nb_cat   = CategoricalNB()                            # Categorical Naive Bayes Classifier\n",
    "nb_gauss = GaussianNB()                               # Gaussian Naive Bayes Classifier"
   ]
  },
  {
   "cell_type": "code",
   "execution_count": 215,
   "metadata": {},
   "outputs": [],
   "source": [
    "list_of_model = {\n",
    "    \"imbalanced\" : [\n",
    "        { \"model_name\": lgr.__class__.__name__, \"model_object\": lgr, \"model_uid\": \"\"},\n",
    "        { \"model_name\": svm.__class__.__name__, \"model_object\": svm, \"model_uid\": \"\"},\n",
    "        { \"model_name\": dtc.__class__.__name__, \"model_object\": dtc, \"model_uid\": \"\"},\n",
    "        { \"model_name\": rfc.__class__.__name__, \"model_object\": rfc, \"model_uid\": \"\"},\n",
    "        { \"model_name\": knn.__class__.__name__, \"model_object\": knn, \"model_uid\": \"\"},\n",
    "        { \"model_name\": xgb.__class__.__name__, \"model_object\": xgb, \"model_uid\": \"\"},\n",
    "        { \"model_name\": nb_cat.__class__.__name__, \"model_object\": knn, \"model_uid\": \"\"},\n",
    "        { \"model_name\": nb_gauss.__class__.__name__, \"model_object\": xgb, \"model_uid\": \"\"}\n",
    "        ],\n",
    "    \"undersampling\" : [\n",
    "        { \"model_name\": lgr.__class__.__name__, \"model_object\": lgr, \"model_uid\": \"\"},\n",
    "        { \"model_name\": svm.__class__.__name__, \"model_object\": svm, \"model_uid\": \"\"},\n",
    "        { \"model_name\": dtc.__class__.__name__, \"model_object\": dtc, \"model_uid\": \"\"},\n",
    "        { \"model_name\": rfc.__class__.__name__, \"model_object\": rfc, \"model_uid\": \"\"},\n",
    "        { \"model_name\": knn.__class__.__name__, \"model_object\": knn, \"model_uid\": \"\"},\n",
    "        { \"model_name\": xgb.__class__.__name__, \"model_object\": xgb, \"model_uid\": \"\"},\n",
    "        { \"model_name\": nb_cat.__class__.__name__, \"model_object\": knn, \"model_uid\": \"\"},\n",
    "        { \"model_name\": nb_gauss.__class__.__name__, \"model_object\": xgb, \"model_uid\": \"\"}\n",
    "        ],\n",
    "    \"oversampling\" : [\n",
    "        { \"model_name\": lgr.__class__.__name__, \"model_object\": lgr, \"model_uid\": \"\"},\n",
    "        { \"model_name\": svm.__class__.__name__, \"model_object\": svm, \"model_uid\": \"\"},\n",
    "        { \"model_name\": dtc.__class__.__name__, \"model_object\": dtc, \"model_uid\": \"\"},\n",
    "        { \"model_name\": rfc.__class__.__name__, \"model_object\": rfc, \"model_uid\": \"\"},\n",
    "        { \"model_name\": knn.__class__.__name__, \"model_object\": knn, \"model_uid\": \"\"},\n",
    "        { \"model_name\": xgb.__class__.__name__, \"model_object\": xgb, \"model_uid\": \"\"},\n",
    "        { \"model_name\": nb_cat.__class__.__name__, \"model_object\": knn, \"model_uid\": \"\"},\n",
    "        { \"model_name\": nb_gauss.__class__.__name__, \"model_object\": xgb, \"model_uid\": \"\"}\n",
    "        ],\n",
    "    }"
   ]
  },
  {
   "cell_type": "code",
   "execution_count": 216,
   "metadata": {},
   "outputs": [],
   "source": [
    "def train_eval_model(list_of_model, prefix_model_name, x_train, y_train, data_configuration_name, x_valid, y_valid, log_path):\n",
    "\n",
    "    list_of_model = copy.deepcopy(list_of_model)\n",
    "    logger = create_log_template()\n",
    "\n",
    "    for model in tqdm(list_of_model):    \n",
    "        model_name = prefix_model_name + \"-\" + model[\"model_name\"]\n",
    "\n",
    "        start_time = time_stamp()\n",
    "        model[\"model_object\"].fit(x_train, y_train)\n",
    "        finished_time = time_stamp()\n",
    "\n",
    "        elapsed_time = finished_time - start_time\n",
    "        elapsed_time = elapsed_time.total_seconds()\n",
    "\n",
    "        y_pred = model[\"model_object\"].predict(x_valid)\n",
    "        performance = classification_report(y_valid, y_pred, output_dict = True)\n",
    "\n",
    "        plain_id = str(start_time) + str(finished_time)\n",
    "        chiper_id = hashlib.md5(plain_id.encode()).hexdigest()\n",
    "\n",
    "        model[\"model_uid\"] = chiper_id\n",
    "\n",
    "        logger[\"model_name\"].append(model_name)\n",
    "        logger[\"model_uid\"].append(chiper_id)\n",
    "        logger[\"training_time\"].append(elapsed_time)\n",
    "        logger[\"training_date\"].append(str(start_time))\n",
    "        logger[\"performance\"].append(performance)\n",
    "        logger[\"f1_score_avg\"].append(performance[\"macro avg\"][\"f1-score\"])\n",
    "        logger[\"accuracy\"].append(performance[\"accuracy\"])\n",
    "        logger[\"data_configurations\"].append(data_configuration_name)\n",
    "\n",
    "    training_log = training_log_updater(logger, log_path)\n",
    "\n",
    "    return training_log, list_of_model"
   ]
  },
  {
   "cell_type": "code",
   "execution_count": 217,
   "metadata": {},
   "outputs": [],
   "source": [
    "def training_log_to_df(training_log):\n",
    "    training_res = pd.DataFrame()\n",
    "\n",
    "    for log in tqdm(training_log):\n",
    "        training_res = pd.concat([training_res, pd.DataFrame(log)])\n",
    "    \n",
    "    training_res.sort_values([\"accuracy\", \"training_time\"], ascending = [False, True], inplace = True)\n",
    "    training_res.reset_index(inplace = True, drop = True)\n",
    "    \n",
    "    return training_res"
   ]
  },
  {
   "attachments": {},
   "cell_type": "markdown",
   "metadata": {},
   "source": [
    "## Train and Evaluate the Baseline Models"
   ]
  },
  {
   "attachments": {},
   "cell_type": "markdown",
   "metadata": {},
   "source": [
    "### Original (imbalanced) data"
   ]
  },
  {
   "cell_type": "code",
   "execution_count": 218,
   "metadata": {},
   "outputs": [
    {
     "name": "stderr",
     "output_type": "stream",
     "text": [
      "  0%|          | 0/8 [00:00<?, ?it/s]/root/ml_process_feb23/venv2/lib/python3.8/site-packages/sklearn/linear_model/_logistic.py:458: ConvergenceWarning: lbfgs failed to converge (status=1):\n",
      "STOP: TOTAL NO. of ITERATIONS REACHED LIMIT.\n",
      "\n",
      "Increase the number of iterations (max_iter) or scale the data as shown in:\n",
      "    https://scikit-learn.org/stable/modules/preprocessing.html\n",
      "Please also refer to the documentation for alternative solver options:\n",
      "    https://scikit-learn.org/stable/modules/linear_model.html#logistic-regression\n",
      "  n_iter_i = _check_optimize_result(\n",
      "100%|██████████| 8/8 [00:05<00:00,  1.34it/s]\n"
     ]
    }
   ],
   "source": [
    "training_log, list_of_model_imbal = train_eval_model(\n",
    "    list_of_model[\"imbalanced\"],\n",
    "    \"baseline_model\",\n",
    "    x_train_base,\n",
    "    y_train,\n",
    "    \"imbalanced\",\n",
    "    x_valid_base,\n",
    "    y_valid,\n",
    "    \"/root/ml_process_feb23/logs/training_log_baseline.json\"\n",
    ")"
   ]
  },
  {
   "cell_type": "code",
   "execution_count": 219,
   "metadata": {},
   "outputs": [],
   "source": [
    "list_of_model[\"imbalanced\"] = copy.deepcopy(list_of_model_imbal)"
   ]
  },
  {
   "attachments": {},
   "cell_type": "markdown",
   "metadata": {},
   "source": [
    "### Balanced with undersampling"
   ]
  },
  {
   "cell_type": "code",
   "execution_count": 220,
   "metadata": {},
   "outputs": [
    {
     "name": "stderr",
     "output_type": "stream",
     "text": [
      "  0%|          | 0/8 [00:00<?, ?it/s]/root/ml_process_feb23/venv2/lib/python3.8/site-packages/sklearn/linear_model/_logistic.py:458: ConvergenceWarning: lbfgs failed to converge (status=1):\n",
      "STOP: TOTAL NO. of ITERATIONS REACHED LIMIT.\n",
      "\n",
      "Increase the number of iterations (max_iter) or scale the data as shown in:\n",
      "    https://scikit-learn.org/stable/modules/preprocessing.html\n",
      "Please also refer to the documentation for alternative solver options:\n",
      "    https://scikit-learn.org/stable/modules/linear_model.html#logistic-regression\n",
      "  n_iter_i = _check_optimize_result(\n",
      "100%|██████████| 8/8 [00:01<00:00,  6.28it/s]\n"
     ]
    }
   ],
   "source": [
    "training_log, list_of_model_rus = train_eval_model(\n",
    "    list_of_model[\"undersampling\"],\n",
    "    \"baseline_model\",\n",
    "    x_train_rus_base,\n",
    "    y_train_rus,\n",
    "    \"undersampling\",\n",
    "    x_valid_base,\n",
    "    y_valid,\n",
    "    \"/root/ml_process_feb23/logs/training_log_baseline.json\"\n",
    ")"
   ]
  },
  {
   "cell_type": "code",
   "execution_count": 221,
   "metadata": {},
   "outputs": [],
   "source": [
    "list_of_model[\"undersampling\"] = copy.deepcopy(list_of_model_rus)"
   ]
  },
  {
   "attachments": {},
   "cell_type": "markdown",
   "metadata": {},
   "source": [
    "### Balanced with oversampling"
   ]
  },
  {
   "cell_type": "code",
   "execution_count": 222,
   "metadata": {},
   "outputs": [
    {
     "name": "stderr",
     "output_type": "stream",
     "text": [
      "  0%|          | 0/8 [00:00<?, ?it/s]/root/ml_process_feb23/venv2/lib/python3.8/site-packages/sklearn/linear_model/_logistic.py:458: ConvergenceWarning: lbfgs failed to converge (status=1):\n",
      "STOP: TOTAL NO. of ITERATIONS REACHED LIMIT.\n",
      "\n",
      "Increase the number of iterations (max_iter) or scale the data as shown in:\n",
      "    https://scikit-learn.org/stable/modules/preprocessing.html\n",
      "Please also refer to the documentation for alternative solver options:\n",
      "    https://scikit-learn.org/stable/modules/linear_model.html#logistic-regression\n",
      "  n_iter_i = _check_optimize_result(\n",
      "100%|██████████| 8/8 [00:01<00:00,  5.78it/s]\n"
     ]
    }
   ],
   "source": [
    "training_log, list_of_model_ros = train_eval_model(\n",
    "    list_of_model[\"oversampling\"],\n",
    "    \"baseline_model\",\n",
    "    x_train_ros_base,\n",
    "    y_train_ros,\n",
    "    \"oversampling\",\n",
    "    x_valid_base,\n",
    "    y_valid,\n",
    "    \"/root/ml_process_feb23/logs/training_log_baseline.json\"\n",
    ")"
   ]
  },
  {
   "cell_type": "code",
   "execution_count": 223,
   "metadata": {},
   "outputs": [],
   "source": [
    "list_of_model[\"oversampling\"] = copy.deepcopy(list_of_model_ros)"
   ]
  },
  {
   "attachments": {},
   "cell_type": "markdown",
   "metadata": {},
   "source": [
    "### Table of models performance\n",
    "\n",
    "Now let's compare the performance from each algorithm and each dataset."
   ]
  },
  {
   "cell_type": "code",
   "execution_count": 224,
   "metadata": {},
   "outputs": [
    {
     "name": "stderr",
     "output_type": "stream",
     "text": [
      "100%|██████████| 3/3 [00:00<00:00, 234.92it/s]\n"
     ]
    }
   ],
   "source": [
    "training_res_baseline = training_log_to_df(training_log)"
   ]
  },
  {
   "cell_type": "code",
   "execution_count": 225,
   "metadata": {},
   "outputs": [
    {
     "data": {
      "text/html": [
       "<div>\n",
       "<style scoped>\n",
       "    .dataframe tbody tr th:only-of-type {\n",
       "        vertical-align: middle;\n",
       "    }\n",
       "\n",
       "    .dataframe tbody tr th {\n",
       "        vertical-align: top;\n",
       "    }\n",
       "\n",
       "    .dataframe thead th {\n",
       "        text-align: right;\n",
       "    }\n",
       "</style>\n",
       "<table border=\"1\" class=\"dataframe\">\n",
       "  <thead>\n",
       "    <tr style=\"text-align: right;\">\n",
       "      <th></th>\n",
       "      <th>model_name</th>\n",
       "      <th>model_uid</th>\n",
       "      <th>training_time</th>\n",
       "      <th>training_date</th>\n",
       "      <th>performance</th>\n",
       "      <th>accuracy</th>\n",
       "      <th>f1_score_avg</th>\n",
       "      <th>data_configurations</th>\n",
       "    </tr>\n",
       "  </thead>\n",
       "  <tbody>\n",
       "    <tr>\n",
       "      <th>0</th>\n",
       "      <td>baseline_model-XGBClassifier</td>\n",
       "      <td>3e9f704772851f1a8012f9e91a3c5861</td>\n",
       "      <td>0.105120</td>\n",
       "      <td>2023-04-18 02:39:20.243487</td>\n",
       "      <td>{'0': {'precision': 0.9767441860465116, 'recal...</td>\n",
       "      <td>0.994595</td>\n",
       "      <td>0.992363</td>\n",
       "      <td>undersampling</td>\n",
       "    </tr>\n",
       "    <tr>\n",
       "      <th>1</th>\n",
       "      <td>baseline_model-GaussianNB</td>\n",
       "      <td>770f9d4c24547eb924abf02a17082087</td>\n",
       "      <td>0.119712</td>\n",
       "      <td>2023-04-18 02:39:20.418464</td>\n",
       "      <td>{'0': {'precision': 0.9767441860465116, 'recal...</td>\n",
       "      <td>0.994595</td>\n",
       "      <td>0.992363</td>\n",
       "      <td>undersampling</td>\n",
       "    </tr>\n",
       "    <tr>\n",
       "      <th>2</th>\n",
       "      <td>baseline_model-LogisticRegression</td>\n",
       "      <td>de5f32823a58830db3e680f0eca56bbb</td>\n",
       "      <td>0.138720</td>\n",
       "      <td>2023-04-18 02:39:19.296925</td>\n",
       "      <td>{'0': {'precision': 0.9767441860465116, 'recal...</td>\n",
       "      <td>0.994595</td>\n",
       "      <td>0.992363</td>\n",
       "      <td>undersampling</td>\n",
       "    </tr>\n",
       "    <tr>\n",
       "      <th>3</th>\n",
       "      <td>baseline_model-LogisticRegression</td>\n",
       "      <td>186505434c6e390a315d15cd2d6faad8</td>\n",
       "      <td>0.152133</td>\n",
       "      <td>2023-04-18 02:39:21.084132</td>\n",
       "      <td>{'0': {'precision': 0.9767441860465116, 'recal...</td>\n",
       "      <td>0.994595</td>\n",
       "      <td>0.992363</td>\n",
       "      <td>oversampling</td>\n",
       "    </tr>\n",
       "    <tr>\n",
       "      <th>4</th>\n",
       "      <td>baseline_model-GaussianNB</td>\n",
       "      <td>e12804fb6422f212f14b3ba0b35548b4</td>\n",
       "      <td>0.178960</td>\n",
       "      <td>2023-04-18 02:39:22.256030</td>\n",
       "      <td>{'0': {'precision': 0.9767441860465116, 'recal...</td>\n",
       "      <td>0.994595</td>\n",
       "      <td>0.992363</td>\n",
       "      <td>oversampling</td>\n",
       "    </tr>\n",
       "    <tr>\n",
       "      <th>5</th>\n",
       "      <td>baseline_model-XGBClassifier</td>\n",
       "      <td>98d6e2445de4a5148f9ef0c98d48dea7</td>\n",
       "      <td>0.190267</td>\n",
       "      <td>2023-04-18 02:39:22.006761</td>\n",
       "      <td>{'0': {'precision': 0.9767441860465116, 'recal...</td>\n",
       "      <td>0.994595</td>\n",
       "      <td>0.992363</td>\n",
       "      <td>oversampling</td>\n",
       "    </tr>\n",
       "    <tr>\n",
       "      <th>6</th>\n",
       "      <td>baseline_model-XGBClassifier</td>\n",
       "      <td>64445d3bb103da96b480d10b99bb3f0a</td>\n",
       "      <td>0.215955</td>\n",
       "      <td>2023-04-18 02:39:15.818257</td>\n",
       "      <td>{'0': {'precision': 0.9767441860465116, 'recal...</td>\n",
       "      <td>0.994595</td>\n",
       "      <td>0.992363</td>\n",
       "      <td>imbalanced</td>\n",
       "    </tr>\n",
       "    <tr>\n",
       "      <th>7</th>\n",
       "      <td>baseline_model-RandomForestClassifier</td>\n",
       "      <td>912e6566d98af4c398a783786cd15380</td>\n",
       "      <td>0.461469</td>\n",
       "      <td>2023-04-18 02:39:21.466982</td>\n",
       "      <td>{'0': {'precision': 0.9767441860465116, 'recal...</td>\n",
       "      <td>0.994595</td>\n",
       "      <td>0.992363</td>\n",
       "      <td>oversampling</td>\n",
       "    </tr>\n",
       "    <tr>\n",
       "      <th>8</th>\n",
       "      <td>baseline_model-RandomForestClassifier</td>\n",
       "      <td>37d44c33076a60a746681af90f79c330</td>\n",
       "      <td>0.498505</td>\n",
       "      <td>2023-04-18 02:39:19.647411</td>\n",
       "      <td>{'0': {'precision': 0.9767441860465116, 'recal...</td>\n",
       "      <td>0.994595</td>\n",
       "      <td>0.992363</td>\n",
       "      <td>undersampling</td>\n",
       "    </tr>\n",
       "    <tr>\n",
       "      <th>9</th>\n",
       "      <td>baseline_model-RandomForestClassifier</td>\n",
       "      <td>60824816101143c1f52b63238a71eefa</td>\n",
       "      <td>0.583766</td>\n",
       "      <td>2023-04-18 02:39:15.128743</td>\n",
       "      <td>{'0': {'precision': 0.9767441860465116, 'recal...</td>\n",
       "      <td>0.994595</td>\n",
       "      <td>0.992363</td>\n",
       "      <td>imbalanced</td>\n",
       "    </tr>\n",
       "    <tr>\n",
       "      <th>10</th>\n",
       "      <td>baseline_model-GaussianNB</td>\n",
       "      <td>b414b6c40fa9236bd4e0d9427076dbd1</td>\n",
       "      <td>1.277904</td>\n",
       "      <td>2023-04-18 02:39:16.158728</td>\n",
       "      <td>{'0': {'precision': 0.9767441860465116, 'recal...</td>\n",
       "      <td>0.994595</td>\n",
       "      <td>0.992363</td>\n",
       "      <td>imbalanced</td>\n",
       "    </tr>\n",
       "    <tr>\n",
       "      <th>11</th>\n",
       "      <td>baseline_model-LogisticRegression</td>\n",
       "      <td>5ce91d27c42374855429c8df0a15e58f</td>\n",
       "      <td>3.140206</td>\n",
       "      <td>2023-04-18 02:39:11.505285</td>\n",
       "      <td>{'0': {'precision': 0.9767441860465116, 'recal...</td>\n",
       "      <td>0.994595</td>\n",
       "      <td>0.992363</td>\n",
       "      <td>imbalanced</td>\n",
       "    </tr>\n",
       "    <tr>\n",
       "      <th>12</th>\n",
       "      <td>baseline_model-DecisionTreeClassifier</td>\n",
       "      <td>be0fa406cf04594b53f1fe69cc817c96</td>\n",
       "      <td>0.017862</td>\n",
       "      <td>2023-04-18 02:39:19.599031</td>\n",
       "      <td>{'0': {'precision': 0.9761904761904762, 'recal...</td>\n",
       "      <td>0.989189</td>\n",
       "      <td>0.984599</td>\n",
       "      <td>undersampling</td>\n",
       "    </tr>\n",
       "    <tr>\n",
       "      <th>13</th>\n",
       "      <td>baseline_model-DecisionTreeClassifier</td>\n",
       "      <td>18eaaed11524e68eb5bd0d7419dd56d2</td>\n",
       "      <td>0.010065</td>\n",
       "      <td>2023-04-18 02:39:21.422276</td>\n",
       "      <td>{'0': {'precision': 0.975609756097561, 'recall...</td>\n",
       "      <td>0.983784</td>\n",
       "      <td>0.976701</td>\n",
       "      <td>oversampling</td>\n",
       "    </tr>\n",
       "    <tr>\n",
       "      <th>14</th>\n",
       "      <td>baseline_model-DecisionTreeClassifier</td>\n",
       "      <td>2430642a98765eb4ad61ff6f92c67a50</td>\n",
       "      <td>0.008929</td>\n",
       "      <td>2023-04-18 02:39:14.975075</td>\n",
       "      <td>{'0': {'precision': 0.975, 'recall': 0.9285714...</td>\n",
       "      <td>0.978378</td>\n",
       "      <td>0.968665</td>\n",
       "      <td>imbalanced</td>\n",
       "    </tr>\n",
       "    <tr>\n",
       "      <th>15</th>\n",
       "      <td>baseline_model-SVC</td>\n",
       "      <td>d3eb14dbd5982362a15d55b9911d03e4</td>\n",
       "      <td>0.129800</td>\n",
       "      <td>2023-04-18 02:39:21.252928</td>\n",
       "      <td>{'0': {'precision': 0.8571428571428571, 'recal...</td>\n",
       "      <td>0.962162</td>\n",
       "      <td>0.948994</td>\n",
       "      <td>oversampling</td>\n",
       "    </tr>\n",
       "    <tr>\n",
       "      <th>16</th>\n",
       "      <td>baseline_model-CategoricalNB</td>\n",
       "      <td>b2024c2ccf7a3135630d03f545b01cd3</td>\n",
       "      <td>0.005534</td>\n",
       "      <td>2023-04-18 02:39:22.214188</td>\n",
       "      <td>{'0': {'precision': 0.8333333333333334, 'recal...</td>\n",
       "      <td>0.924324</td>\n",
       "      <td>0.892191</td>\n",
       "      <td>oversampling</td>\n",
       "    </tr>\n",
       "    <tr>\n",
       "      <th>17</th>\n",
       "      <td>baseline_model-KNeighborsClassifier</td>\n",
       "      <td>11c03d510aea12451981e144b4c62810</td>\n",
       "      <td>0.005541</td>\n",
       "      <td>2023-04-18 02:39:21.964238</td>\n",
       "      <td>{'0': {'precision': 0.8333333333333334, 'recal...</td>\n",
       "      <td>0.924324</td>\n",
       "      <td>0.892191</td>\n",
       "      <td>oversampling</td>\n",
       "    </tr>\n",
       "    <tr>\n",
       "      <th>18</th>\n",
       "      <td>baseline_model-SVC</td>\n",
       "      <td>42af1db529313ff81e8cf3723177a051</td>\n",
       "      <td>0.040045</td>\n",
       "      <td>2023-04-18 02:39:19.521681</td>\n",
       "      <td>{'0': {'precision': 0.75, 'recall': 1.0, 'f1-s...</td>\n",
       "      <td>0.924324</td>\n",
       "      <td>0.902836</td>\n",
       "      <td>undersampling</td>\n",
       "    </tr>\n",
       "    <tr>\n",
       "      <th>19</th>\n",
       "      <td>baseline_model-KNeighborsClassifier</td>\n",
       "      <td>c1d04cfd5977f76dcde2896a78605b4e</td>\n",
       "      <td>0.004984</td>\n",
       "      <td>2023-04-18 02:39:15.759364</td>\n",
       "      <td>{'0': {'precision': 0.9, 'recall': 0.642857142...</td>\n",
       "      <td>0.902703</td>\n",
       "      <td>0.844799</td>\n",
       "      <td>imbalanced</td>\n",
       "    </tr>\n",
       "    <tr>\n",
       "      <th>20</th>\n",
       "      <td>baseline_model-CategoricalNB</td>\n",
       "      <td>1131d5197c0daaabb181c24558ef0b0a</td>\n",
       "      <td>0.009996</td>\n",
       "      <td>2023-04-18 02:39:16.085574</td>\n",
       "      <td>{'0': {'precision': 0.9, 'recall': 0.642857142...</td>\n",
       "      <td>0.902703</td>\n",
       "      <td>0.844799</td>\n",
       "      <td>imbalanced</td>\n",
       "    </tr>\n",
       "    <tr>\n",
       "      <th>21</th>\n",
       "      <td>baseline_model-CategoricalNB</td>\n",
       "      <td>344e0f2edd9372b646f90f45de004acd</td>\n",
       "      <td>0.003464</td>\n",
       "      <td>2023-04-18 02:39:20.366678</td>\n",
       "      <td>{'0': {'precision': 0.7333333333333333, 'recal...</td>\n",
       "      <td>0.886486</td>\n",
       "      <td>0.842208</td>\n",
       "      <td>undersampling</td>\n",
       "    </tr>\n",
       "    <tr>\n",
       "      <th>22</th>\n",
       "      <td>baseline_model-KNeighborsClassifier</td>\n",
       "      <td>71efeb3ab2e71704a4a9409d71d192b3</td>\n",
       "      <td>0.004488</td>\n",
       "      <td>2023-04-18 02:39:20.184784</td>\n",
       "      <td>{'0': {'precision': 0.7333333333333333, 'recal...</td>\n",
       "      <td>0.886486</td>\n",
       "      <td>0.842208</td>\n",
       "      <td>undersampling</td>\n",
       "    </tr>\n",
       "    <tr>\n",
       "      <th>23</th>\n",
       "      <td>baseline_model-SVC</td>\n",
       "      <td>a8dbe83e527212a057e02ed142c8e8ed</td>\n",
       "      <td>0.148757</td>\n",
       "      <td>2023-04-18 02:39:14.665998</td>\n",
       "      <td>{'0': {'precision': 1.0, 'recall': 0.5, 'f1-sc...</td>\n",
       "      <td>0.886486</td>\n",
       "      <td>0.799131</td>\n",
       "      <td>imbalanced</td>\n",
       "    </tr>\n",
       "  </tbody>\n",
       "</table>\n",
       "</div>"
      ],
      "text/plain": [
       "                               model_name                         model_uid  \\\n",
       "0            baseline_model-XGBClassifier  3e9f704772851f1a8012f9e91a3c5861   \n",
       "1               baseline_model-GaussianNB  770f9d4c24547eb924abf02a17082087   \n",
       "2       baseline_model-LogisticRegression  de5f32823a58830db3e680f0eca56bbb   \n",
       "3       baseline_model-LogisticRegression  186505434c6e390a315d15cd2d6faad8   \n",
       "4               baseline_model-GaussianNB  e12804fb6422f212f14b3ba0b35548b4   \n",
       "5            baseline_model-XGBClassifier  98d6e2445de4a5148f9ef0c98d48dea7   \n",
       "6            baseline_model-XGBClassifier  64445d3bb103da96b480d10b99bb3f0a   \n",
       "7   baseline_model-RandomForestClassifier  912e6566d98af4c398a783786cd15380   \n",
       "8   baseline_model-RandomForestClassifier  37d44c33076a60a746681af90f79c330   \n",
       "9   baseline_model-RandomForestClassifier  60824816101143c1f52b63238a71eefa   \n",
       "10              baseline_model-GaussianNB  b414b6c40fa9236bd4e0d9427076dbd1   \n",
       "11      baseline_model-LogisticRegression  5ce91d27c42374855429c8df0a15e58f   \n",
       "12  baseline_model-DecisionTreeClassifier  be0fa406cf04594b53f1fe69cc817c96   \n",
       "13  baseline_model-DecisionTreeClassifier  18eaaed11524e68eb5bd0d7419dd56d2   \n",
       "14  baseline_model-DecisionTreeClassifier  2430642a98765eb4ad61ff6f92c67a50   \n",
       "15                     baseline_model-SVC  d3eb14dbd5982362a15d55b9911d03e4   \n",
       "16           baseline_model-CategoricalNB  b2024c2ccf7a3135630d03f545b01cd3   \n",
       "17    baseline_model-KNeighborsClassifier  11c03d510aea12451981e144b4c62810   \n",
       "18                     baseline_model-SVC  42af1db529313ff81e8cf3723177a051   \n",
       "19    baseline_model-KNeighborsClassifier  c1d04cfd5977f76dcde2896a78605b4e   \n",
       "20           baseline_model-CategoricalNB  1131d5197c0daaabb181c24558ef0b0a   \n",
       "21           baseline_model-CategoricalNB  344e0f2edd9372b646f90f45de004acd   \n",
       "22    baseline_model-KNeighborsClassifier  71efeb3ab2e71704a4a9409d71d192b3   \n",
       "23                     baseline_model-SVC  a8dbe83e527212a057e02ed142c8e8ed   \n",
       "\n",
       "    training_time               training_date  \\\n",
       "0        0.105120  2023-04-18 02:39:20.243487   \n",
       "1        0.119712  2023-04-18 02:39:20.418464   \n",
       "2        0.138720  2023-04-18 02:39:19.296925   \n",
       "3        0.152133  2023-04-18 02:39:21.084132   \n",
       "4        0.178960  2023-04-18 02:39:22.256030   \n",
       "5        0.190267  2023-04-18 02:39:22.006761   \n",
       "6        0.215955  2023-04-18 02:39:15.818257   \n",
       "7        0.461469  2023-04-18 02:39:21.466982   \n",
       "8        0.498505  2023-04-18 02:39:19.647411   \n",
       "9        0.583766  2023-04-18 02:39:15.128743   \n",
       "10       1.277904  2023-04-18 02:39:16.158728   \n",
       "11       3.140206  2023-04-18 02:39:11.505285   \n",
       "12       0.017862  2023-04-18 02:39:19.599031   \n",
       "13       0.010065  2023-04-18 02:39:21.422276   \n",
       "14       0.008929  2023-04-18 02:39:14.975075   \n",
       "15       0.129800  2023-04-18 02:39:21.252928   \n",
       "16       0.005534  2023-04-18 02:39:22.214188   \n",
       "17       0.005541  2023-04-18 02:39:21.964238   \n",
       "18       0.040045  2023-04-18 02:39:19.521681   \n",
       "19       0.004984  2023-04-18 02:39:15.759364   \n",
       "20       0.009996  2023-04-18 02:39:16.085574   \n",
       "21       0.003464  2023-04-18 02:39:20.366678   \n",
       "22       0.004488  2023-04-18 02:39:20.184784   \n",
       "23       0.148757  2023-04-18 02:39:14.665998   \n",
       "\n",
       "                                          performance  accuracy  f1_score_avg  \\\n",
       "0   {'0': {'precision': 0.9767441860465116, 'recal...  0.994595      0.992363   \n",
       "1   {'0': {'precision': 0.9767441860465116, 'recal...  0.994595      0.992363   \n",
       "2   {'0': {'precision': 0.9767441860465116, 'recal...  0.994595      0.992363   \n",
       "3   {'0': {'precision': 0.9767441860465116, 'recal...  0.994595      0.992363   \n",
       "4   {'0': {'precision': 0.9767441860465116, 'recal...  0.994595      0.992363   \n",
       "5   {'0': {'precision': 0.9767441860465116, 'recal...  0.994595      0.992363   \n",
       "6   {'0': {'precision': 0.9767441860465116, 'recal...  0.994595      0.992363   \n",
       "7   {'0': {'precision': 0.9767441860465116, 'recal...  0.994595      0.992363   \n",
       "8   {'0': {'precision': 0.9767441860465116, 'recal...  0.994595      0.992363   \n",
       "9   {'0': {'precision': 0.9767441860465116, 'recal...  0.994595      0.992363   \n",
       "10  {'0': {'precision': 0.9767441860465116, 'recal...  0.994595      0.992363   \n",
       "11  {'0': {'precision': 0.9767441860465116, 'recal...  0.994595      0.992363   \n",
       "12  {'0': {'precision': 0.9761904761904762, 'recal...  0.989189      0.984599   \n",
       "13  {'0': {'precision': 0.975609756097561, 'recall...  0.983784      0.976701   \n",
       "14  {'0': {'precision': 0.975, 'recall': 0.9285714...  0.978378      0.968665   \n",
       "15  {'0': {'precision': 0.8571428571428571, 'recal...  0.962162      0.948994   \n",
       "16  {'0': {'precision': 0.8333333333333334, 'recal...  0.924324      0.892191   \n",
       "17  {'0': {'precision': 0.8333333333333334, 'recal...  0.924324      0.892191   \n",
       "18  {'0': {'precision': 0.75, 'recall': 1.0, 'f1-s...  0.924324      0.902836   \n",
       "19  {'0': {'precision': 0.9, 'recall': 0.642857142...  0.902703      0.844799   \n",
       "20  {'0': {'precision': 0.9, 'recall': 0.642857142...  0.902703      0.844799   \n",
       "21  {'0': {'precision': 0.7333333333333333, 'recal...  0.886486      0.842208   \n",
       "22  {'0': {'precision': 0.7333333333333333, 'recal...  0.886486      0.842208   \n",
       "23  {'0': {'precision': 1.0, 'recall': 0.5, 'f1-sc...  0.886486      0.799131   \n",
       "\n",
       "   data_configurations  \n",
       "0        undersampling  \n",
       "1        undersampling  \n",
       "2        undersampling  \n",
       "3         oversampling  \n",
       "4         oversampling  \n",
       "5         oversampling  \n",
       "6           imbalanced  \n",
       "7         oversampling  \n",
       "8        undersampling  \n",
       "9           imbalanced  \n",
       "10          imbalanced  \n",
       "11          imbalanced  \n",
       "12       undersampling  \n",
       "13        oversampling  \n",
       "14          imbalanced  \n",
       "15        oversampling  \n",
       "16        oversampling  \n",
       "17        oversampling  \n",
       "18       undersampling  \n",
       "19          imbalanced  \n",
       "20          imbalanced  \n",
       "21       undersampling  \n",
       "22       undersampling  \n",
       "23          imbalanced  "
      ]
     },
     "execution_count": 225,
     "metadata": {},
     "output_type": "execute_result"
    }
   ],
   "source": [
    "training_res_baseline"
   ]
  },
  {
   "attachments": {},
   "cell_type": "markdown",
   "metadata": {},
   "source": [
    "### Interpretation\n",
    "\n"
   ]
  },
  {
   "attachments": {},
   "cell_type": "markdown",
   "metadata": {},
   "source": [
    "The best model that trained from the original value columns is:"
   ]
  },
  {
   "cell_type": "code",
   "execution_count": 239,
   "metadata": {},
   "outputs": [
    {
     "data": {
      "text/html": [
       "<div>\n",
       "<style scoped>\n",
       "    .dataframe tbody tr th:only-of-type {\n",
       "        vertical-align: middle;\n",
       "    }\n",
       "\n",
       "    .dataframe tbody tr th {\n",
       "        vertical-align: top;\n",
       "    }\n",
       "\n",
       "    .dataframe thead th {\n",
       "        text-align: right;\n",
       "    }\n",
       "</style>\n",
       "<table border=\"1\" class=\"dataframe\">\n",
       "  <thead>\n",
       "    <tr style=\"text-align: right;\">\n",
       "      <th></th>\n",
       "      <th>model_name</th>\n",
       "      <th>training_time</th>\n",
       "      <th>accuracy</th>\n",
       "      <th>data_configurations</th>\n",
       "    </tr>\n",
       "  </thead>\n",
       "  <tbody>\n",
       "    <tr>\n",
       "      <th>0</th>\n",
       "      <td>baseline_model-XGBClassifier</td>\n",
       "      <td>0.10512</td>\n",
       "      <td>0.994595</td>\n",
       "      <td>undersampling</td>\n",
       "    </tr>\n",
       "  </tbody>\n",
       "</table>\n",
       "</div>"
      ],
      "text/plain": [
       "                     model_name  training_time  accuracy data_configurations\n",
       "0  baseline_model-XGBClassifier        0.10512  0.994595       undersampling"
      ]
     },
     "execution_count": 239,
     "metadata": {},
     "output_type": "execute_result"
    }
   ],
   "source": [
    "training_res_baseline[['model_name', 'training_time', 'accuracy', 'data_configurations']].head(1)\n"
   ]
  },
  {
   "attachments": {},
   "cell_type": "markdown",
   "metadata": {},
   "source": [
    "## Train and Evaluate the Alternative Models\n",
    "\n",
    "The binned value features are used in the datasets for this model training process. "
   ]
  },
  {
   "attachments": {},
   "cell_type": "markdown",
   "metadata": {},
   "source": [
    "### Original (imbalanced) data\n"
   ]
  },
  {
   "cell_type": "code",
   "execution_count": 228,
   "metadata": {},
   "outputs": [
    {
     "name": "stderr",
     "output_type": "stream",
     "text": [
      "100%|██████████| 8/8 [00:01<00:00,  4.84it/s]\n"
     ]
    }
   ],
   "source": [
    "training_log, list_of_model_imbal = train_eval_model(\n",
    "    list_of_model[\"imbalanced\"],\n",
    "    \"alternative_model\",\n",
    "    x_train_bin,\n",
    "    y_train,\n",
    "    \"imbalanced\",\n",
    "    x_valid_bin,\n",
    "    y_valid,\n",
    "    \"/root/ml_process_feb23/logs/training_log_alternative.json\"\n",
    ")\n",
    "list_of_model[\"imbalanced\"] = copy.deepcopy(list_of_model_imbal)"
   ]
  },
  {
   "cell_type": "code",
   "execution_count": 229,
   "metadata": {},
   "outputs": [],
   "source": [
    "list_of_model[\"imbalanced\"] = copy.deepcopy(list_of_model_imbal)\n"
   ]
  },
  {
   "attachments": {},
   "cell_type": "markdown",
   "metadata": {},
   "source": [
    "### Balanced with undersampling\n"
   ]
  },
  {
   "cell_type": "code",
   "execution_count": 230,
   "metadata": {},
   "outputs": [
    {
     "name": "stderr",
     "output_type": "stream",
     "text": [
      "100%|██████████| 8/8 [00:01<00:00,  6.80it/s]\n"
     ]
    }
   ],
   "source": [
    "training_log, list_of_model_rus = train_eval_model(\n",
    "    list_of_model[\"undersampling\"],\n",
    "    \"alternative_model\",\n",
    "    x_train_rus_bin,\n",
    "    y_train_rus,\n",
    "    \"undersampling\",\n",
    "    x_valid_bin,\n",
    "    y_valid,\n",
    "    \"/root/ml_process_feb23/logs/training_log_alternative.json\"\n",
    ")\n",
    "list_of_model[\"undersampling\"] = copy.deepcopy(list_of_model_rus)\n"
   ]
  },
  {
   "attachments": {},
   "cell_type": "markdown",
   "metadata": {},
   "source": [
    "### Balanced with oversampling\n"
   ]
  },
  {
   "cell_type": "code",
   "execution_count": 231,
   "metadata": {},
   "outputs": [
    {
     "name": "stderr",
     "output_type": "stream",
     "text": [
      "100%|██████████| 8/8 [00:01<00:00,  6.73it/s]\n"
     ]
    }
   ],
   "source": [
    "training_log, list_of_model_ros = train_eval_model(\n",
    "    list_of_model[\"oversampling\"],\n",
    "    \"alternative_model\",\n",
    "    x_train_ros_bin,\n",
    "    y_train_ros,\n",
    "    \"oversampling\",\n",
    "    x_valid_bin,\n",
    "    y_valid,\n",
    "    \"/root/ml_process_feb23/logs/training_log_alternative.json\"\n",
    ")\n",
    "list_of_model[\"oversampling\"] = copy.deepcopy(list_of_model_ros)"
   ]
  },
  {
   "cell_type": "code",
   "execution_count": 232,
   "metadata": {},
   "outputs": [],
   "source": [
    "list_of_model[\"oversampling\"] = copy.deepcopy(list_of_model_ros)\n"
   ]
  },
  {
   "attachments": {},
   "cell_type": "markdown",
   "metadata": {},
   "source": [
    "### Table of models performance\n",
    "\n",
    "Now let's compare the performance from each algorithm and each dataset.\n"
   ]
  },
  {
   "cell_type": "code",
   "execution_count": 233,
   "metadata": {},
   "outputs": [
    {
     "name": "stderr",
     "output_type": "stream",
     "text": [
      "100%|██████████| 3/3 [00:00<00:00, 184.05it/s]\n"
     ]
    }
   ],
   "source": [
    "training_res_alternative = training_log_to_df(training_log)"
   ]
  },
  {
   "cell_type": "code",
   "execution_count": 234,
   "metadata": {},
   "outputs": [
    {
     "data": {
      "text/html": [
       "<div>\n",
       "<style scoped>\n",
       "    .dataframe tbody tr th:only-of-type {\n",
       "        vertical-align: middle;\n",
       "    }\n",
       "\n",
       "    .dataframe tbody tr th {\n",
       "        vertical-align: top;\n",
       "    }\n",
       "\n",
       "    .dataframe thead th {\n",
       "        text-align: right;\n",
       "    }\n",
       "</style>\n",
       "<table border=\"1\" class=\"dataframe\">\n",
       "  <thead>\n",
       "    <tr style=\"text-align: right;\">\n",
       "      <th></th>\n",
       "      <th>model_name</th>\n",
       "      <th>model_uid</th>\n",
       "      <th>training_time</th>\n",
       "      <th>training_date</th>\n",
       "      <th>performance</th>\n",
       "      <th>accuracy</th>\n",
       "      <th>f1_score_avg</th>\n",
       "      <th>data_configurations</th>\n",
       "    </tr>\n",
       "  </thead>\n",
       "  <tbody>\n",
       "    <tr>\n",
       "      <th>0</th>\n",
       "      <td>alternative_model-DecisionTreeClassifier</td>\n",
       "      <td>cf6b46e367f60f3581b1a3c1c48ec2e1</td>\n",
       "      <td>0.005678</td>\n",
       "      <td>2023-04-18 02:39:27.503109</td>\n",
       "      <td>{'0': {'precision': 1.0, 'recall': 1.0, 'f1-sc...</td>\n",
       "      <td>1.000000</td>\n",
       "      <td>1.000000</td>\n",
       "      <td>imbalanced</td>\n",
       "    </tr>\n",
       "    <tr>\n",
       "      <th>1</th>\n",
       "      <td>alternative_model-DecisionTreeClassifier</td>\n",
       "      <td>e0258f84011385c01f05820f2176a5e7</td>\n",
       "      <td>0.005928</td>\n",
       "      <td>2023-04-18 02:39:31.686764</td>\n",
       "      <td>{'0': {'precision': 1.0, 'recall': 0.976190476...</td>\n",
       "      <td>0.994595</td>\n",
       "      <td>0.992234</td>\n",
       "      <td>oversampling</td>\n",
       "    </tr>\n",
       "    <tr>\n",
       "      <th>2</th>\n",
       "      <td>alternative_model-SVC</td>\n",
       "      <td>fd2bcb9c7b4f5b2cfec1c6e790094463</td>\n",
       "      <td>0.017479</td>\n",
       "      <td>2023-04-18 02:39:27.457352</td>\n",
       "      <td>{'0': {'precision': 0.9767441860465116, 'recal...</td>\n",
       "      <td>0.994595</td>\n",
       "      <td>0.992363</td>\n",
       "      <td>imbalanced</td>\n",
       "    </tr>\n",
       "    <tr>\n",
       "      <th>3</th>\n",
       "      <td>alternative_model-SVC</td>\n",
       "      <td>bfc01cecb37f746dac177a7debb9c905</td>\n",
       "      <td>0.028600</td>\n",
       "      <td>2023-04-18 02:39:30.139319</td>\n",
       "      <td>{'0': {'precision': 0.9767441860465116, 'recal...</td>\n",
       "      <td>0.994595</td>\n",
       "      <td>0.992363</td>\n",
       "      <td>undersampling</td>\n",
       "    </tr>\n",
       "    <tr>\n",
       "      <th>4</th>\n",
       "      <td>alternative_model-SVC</td>\n",
       "      <td>e1e7f47f6045552a76b50d89b913805a</td>\n",
       "      <td>0.048587</td>\n",
       "      <td>2023-04-18 02:39:31.620210</td>\n",
       "      <td>{'0': {'precision': 0.9767441860465116, 'recal...</td>\n",
       "      <td>0.994595</td>\n",
       "      <td>0.992363</td>\n",
       "      <td>oversampling</td>\n",
       "    </tr>\n",
       "    <tr>\n",
       "      <th>5</th>\n",
       "      <td>alternative_model-LogisticRegression</td>\n",
       "      <td>e10436bade1a8baca3e8e911ee91bbe6</td>\n",
       "      <td>0.054571</td>\n",
       "      <td>2023-04-18 02:39:31.532861</td>\n",
       "      <td>{'0': {'precision': 0.9767441860465116, 'recal...</td>\n",
       "      <td>0.994595</td>\n",
       "      <td>0.992363</td>\n",
       "      <td>oversampling</td>\n",
       "    </tr>\n",
       "    <tr>\n",
       "      <th>6</th>\n",
       "      <td>alternative_model-LogisticRegression</td>\n",
       "      <td>43507a3284cc7a5ae8ec277613de18de</td>\n",
       "      <td>0.067897</td>\n",
       "      <td>2023-04-18 02:39:30.032949</td>\n",
       "      <td>{'0': {'precision': 0.9767441860465116, 'recal...</td>\n",
       "      <td>0.994595</td>\n",
       "      <td>0.992363</td>\n",
       "      <td>undersampling</td>\n",
       "    </tr>\n",
       "    <tr>\n",
       "      <th>7</th>\n",
       "      <td>alternative_model-LogisticRegression</td>\n",
       "      <td>f12966efbcbd7ed55894733b73e8f537</td>\n",
       "      <td>0.074081</td>\n",
       "      <td>2023-04-18 02:39:27.365353</td>\n",
       "      <td>{'0': {'precision': 0.9767441860465116, 'recal...</td>\n",
       "      <td>0.994595</td>\n",
       "      <td>0.992363</td>\n",
       "      <td>imbalanced</td>\n",
       "    </tr>\n",
       "    <tr>\n",
       "      <th>8</th>\n",
       "      <td>alternative_model-GaussianNB</td>\n",
       "      <td>f9d02c8bafcbd3051b093760dc9ff64e</td>\n",
       "      <td>0.103735</td>\n",
       "      <td>2023-04-18 02:39:31.088398</td>\n",
       "      <td>{'0': {'precision': 0.9767441860465116, 'recal...</td>\n",
       "      <td>0.994595</td>\n",
       "      <td>0.992363</td>\n",
       "      <td>undersampling</td>\n",
       "    </tr>\n",
       "    <tr>\n",
       "      <th>9</th>\n",
       "      <td>alternative_model-XGBClassifier</td>\n",
       "      <td>8c51f4c0ebafd68acf2c90910ff64c80</td>\n",
       "      <td>0.175422</td>\n",
       "      <td>2023-04-18 02:39:30.850137</td>\n",
       "      <td>{'0': {'precision': 0.9767441860465116, 'recal...</td>\n",
       "      <td>0.994595</td>\n",
       "      <td>0.992363</td>\n",
       "      <td>undersampling</td>\n",
       "    </tr>\n",
       "    <tr>\n",
       "      <th>10</th>\n",
       "      <td>alternative_model-GaussianNB</td>\n",
       "      <td>326c4702830b82d7e5a7c79ee06d9d6b</td>\n",
       "      <td>0.270340</td>\n",
       "      <td>2023-04-18 02:39:28.720131</td>\n",
       "      <td>{'0': {'precision': 1.0, 'recall': 0.976190476...</td>\n",
       "      <td>0.994595</td>\n",
       "      <td>0.992234</td>\n",
       "      <td>imbalanced</td>\n",
       "    </tr>\n",
       "    <tr>\n",
       "      <th>11</th>\n",
       "      <td>alternative_model-XGBClassifier</td>\n",
       "      <td>a34df6d2b507c7039b7ac01c4b4051d5</td>\n",
       "      <td>0.440618</td>\n",
       "      <td>2023-04-18 02:39:28.198419</td>\n",
       "      <td>{'0': {'precision': 1.0, 'recall': 0.976190476...</td>\n",
       "      <td>0.994595</td>\n",
       "      <td>0.992234</td>\n",
       "      <td>imbalanced</td>\n",
       "    </tr>\n",
       "    <tr>\n",
       "      <th>12</th>\n",
       "      <td>alternative_model-RandomForestClassifier</td>\n",
       "      <td>ae558973c2d75e65aee870f4efed5de4</td>\n",
       "      <td>0.455026</td>\n",
       "      <td>2023-04-18 02:39:31.735422</td>\n",
       "      <td>{'0': {'precision': 0.9767441860465116, 'recal...</td>\n",
       "      <td>0.994595</td>\n",
       "      <td>0.992363</td>\n",
       "      <td>oversampling</td>\n",
       "    </tr>\n",
       "    <tr>\n",
       "      <th>13</th>\n",
       "      <td>alternative_model-RandomForestClassifier</td>\n",
       "      <td>28fe1a234d3bb9ee61cbfa86a2bfce0b</td>\n",
       "      <td>0.505111</td>\n",
       "      <td>2023-04-18 02:39:30.267919</td>\n",
       "      <td>{'0': {'precision': 0.9767441860465116, 'recal...</td>\n",
       "      <td>0.994595</td>\n",
       "      <td>0.992363</td>\n",
       "      <td>undersampling</td>\n",
       "    </tr>\n",
       "    <tr>\n",
       "      <th>14</th>\n",
       "      <td>alternative_model-RandomForestClassifier</td>\n",
       "      <td>3559183e398c929978689ea7781cfcb4</td>\n",
       "      <td>0.540175</td>\n",
       "      <td>2023-04-18 02:39:27.529685</td>\n",
       "      <td>{'0': {'precision': 0.9767441860465116, 'recal...</td>\n",
       "      <td>0.994595</td>\n",
       "      <td>0.992363</td>\n",
       "      <td>imbalanced</td>\n",
       "    </tr>\n",
       "    <tr>\n",
       "      <th>15</th>\n",
       "      <td>alternative_model-CategoricalNB</td>\n",
       "      <td>a4140fa6aff72107e070aadf09829f61</td>\n",
       "      <td>0.005008</td>\n",
       "      <td>2023-04-18 02:39:28.663441</td>\n",
       "      <td>{'0': {'precision': 0.9761904761904762, 'recal...</td>\n",
       "      <td>0.989189</td>\n",
       "      <td>0.984599</td>\n",
       "      <td>imbalanced</td>\n",
       "    </tr>\n",
       "    <tr>\n",
       "      <th>16</th>\n",
       "      <td>alternative_model-KNeighborsClassifier</td>\n",
       "      <td>0fa79b6aaf24e450d773f64745885d73</td>\n",
       "      <td>0.005423</td>\n",
       "      <td>2023-04-18 02:39:28.149311</td>\n",
       "      <td>{'0': {'precision': 0.9761904761904762, 'recal...</td>\n",
       "      <td>0.989189</td>\n",
       "      <td>0.984599</td>\n",
       "      <td>imbalanced</td>\n",
       "    </tr>\n",
       "    <tr>\n",
       "      <th>17</th>\n",
       "      <td>alternative_model-DecisionTreeClassifier</td>\n",
       "      <td>9b1778a1a6beb6ad44bcce7ec4bab196</td>\n",
       "      <td>0.021912</td>\n",
       "      <td>2023-04-18 02:39:30.197028</td>\n",
       "      <td>{'0': {'precision': 0.9761904761904762, 'recal...</td>\n",
       "      <td>0.989189</td>\n",
       "      <td>0.984599</td>\n",
       "      <td>undersampling</td>\n",
       "    </tr>\n",
       "    <tr>\n",
       "      <th>18</th>\n",
       "      <td>alternative_model-XGBClassifier</td>\n",
       "      <td>8a7107f9094fa648e69e54918f5170ac</td>\n",
       "      <td>0.177955</td>\n",
       "      <td>2023-04-18 02:39:32.273573</td>\n",
       "      <td>{'0': {'precision': 0.9761904761904762, 'recal...</td>\n",
       "      <td>0.989189</td>\n",
       "      <td>0.984599</td>\n",
       "      <td>oversampling</td>\n",
       "    </tr>\n",
       "    <tr>\n",
       "      <th>19</th>\n",
       "      <td>alternative_model-GaussianNB</td>\n",
       "      <td>5881e206d0a520ebd041a21a7c7d5997</td>\n",
       "      <td>0.187768</td>\n",
       "      <td>2023-04-18 02:39:32.515893</td>\n",
       "      <td>{'0': {'precision': 0.9761904761904762, 'recal...</td>\n",
       "      <td>0.989189</td>\n",
       "      <td>0.984599</td>\n",
       "      <td>oversampling</td>\n",
       "    </tr>\n",
       "    <tr>\n",
       "      <th>20</th>\n",
       "      <td>alternative_model-CategoricalNB</td>\n",
       "      <td>22befebad83cac42388211ad27194db4</td>\n",
       "      <td>0.005723</td>\n",
       "      <td>2023-04-18 02:39:32.469070</td>\n",
       "      <td>{'0': {'precision': 0.9534883720930233, 'recal...</td>\n",
       "      <td>0.983784</td>\n",
       "      <td>0.977090</td>\n",
       "      <td>oversampling</td>\n",
       "    </tr>\n",
       "    <tr>\n",
       "      <th>21</th>\n",
       "      <td>alternative_model-KNeighborsClassifier</td>\n",
       "      <td>57356bb8720a849f9ecbf05859213f82</td>\n",
       "      <td>0.010696</td>\n",
       "      <td>2023-04-18 02:39:32.224925</td>\n",
       "      <td>{'0': {'precision': 0.9534883720930233, 'recal...</td>\n",
       "      <td>0.983784</td>\n",
       "      <td>0.977090</td>\n",
       "      <td>oversampling</td>\n",
       "    </tr>\n",
       "    <tr>\n",
       "      <th>22</th>\n",
       "      <td>alternative_model-KNeighborsClassifier</td>\n",
       "      <td>940a78a4721dfb6b0412f16cfd95722c</td>\n",
       "      <td>0.003551</td>\n",
       "      <td>2023-04-18 02:39:30.815502</td>\n",
       "      <td>{'0': {'precision': 0.9130434782608695, 'recal...</td>\n",
       "      <td>0.978378</td>\n",
       "      <td>0.970181</td>\n",
       "      <td>undersampling</td>\n",
       "    </tr>\n",
       "    <tr>\n",
       "      <th>23</th>\n",
       "      <td>alternative_model-CategoricalNB</td>\n",
       "      <td>c72c7322de4bf486ddd969e4c7a9ed1d</td>\n",
       "      <td>0.007755</td>\n",
       "      <td>2023-04-18 02:39:31.043499</td>\n",
       "      <td>{'0': {'precision': 0.9130434782608695, 'recal...</td>\n",
       "      <td>0.978378</td>\n",
       "      <td>0.970181</td>\n",
       "      <td>undersampling</td>\n",
       "    </tr>\n",
       "  </tbody>\n",
       "</table>\n",
       "</div>"
      ],
      "text/plain": [
       "                                  model_name  \\\n",
       "0   alternative_model-DecisionTreeClassifier   \n",
       "1   alternative_model-DecisionTreeClassifier   \n",
       "2                      alternative_model-SVC   \n",
       "3                      alternative_model-SVC   \n",
       "4                      alternative_model-SVC   \n",
       "5       alternative_model-LogisticRegression   \n",
       "6       alternative_model-LogisticRegression   \n",
       "7       alternative_model-LogisticRegression   \n",
       "8               alternative_model-GaussianNB   \n",
       "9            alternative_model-XGBClassifier   \n",
       "10              alternative_model-GaussianNB   \n",
       "11           alternative_model-XGBClassifier   \n",
       "12  alternative_model-RandomForestClassifier   \n",
       "13  alternative_model-RandomForestClassifier   \n",
       "14  alternative_model-RandomForestClassifier   \n",
       "15           alternative_model-CategoricalNB   \n",
       "16    alternative_model-KNeighborsClassifier   \n",
       "17  alternative_model-DecisionTreeClassifier   \n",
       "18           alternative_model-XGBClassifier   \n",
       "19              alternative_model-GaussianNB   \n",
       "20           alternative_model-CategoricalNB   \n",
       "21    alternative_model-KNeighborsClassifier   \n",
       "22    alternative_model-KNeighborsClassifier   \n",
       "23           alternative_model-CategoricalNB   \n",
       "\n",
       "                           model_uid  training_time  \\\n",
       "0   cf6b46e367f60f3581b1a3c1c48ec2e1       0.005678   \n",
       "1   e0258f84011385c01f05820f2176a5e7       0.005928   \n",
       "2   fd2bcb9c7b4f5b2cfec1c6e790094463       0.017479   \n",
       "3   bfc01cecb37f746dac177a7debb9c905       0.028600   \n",
       "4   e1e7f47f6045552a76b50d89b913805a       0.048587   \n",
       "5   e10436bade1a8baca3e8e911ee91bbe6       0.054571   \n",
       "6   43507a3284cc7a5ae8ec277613de18de       0.067897   \n",
       "7   f12966efbcbd7ed55894733b73e8f537       0.074081   \n",
       "8   f9d02c8bafcbd3051b093760dc9ff64e       0.103735   \n",
       "9   8c51f4c0ebafd68acf2c90910ff64c80       0.175422   \n",
       "10  326c4702830b82d7e5a7c79ee06d9d6b       0.270340   \n",
       "11  a34df6d2b507c7039b7ac01c4b4051d5       0.440618   \n",
       "12  ae558973c2d75e65aee870f4efed5de4       0.455026   \n",
       "13  28fe1a234d3bb9ee61cbfa86a2bfce0b       0.505111   \n",
       "14  3559183e398c929978689ea7781cfcb4       0.540175   \n",
       "15  a4140fa6aff72107e070aadf09829f61       0.005008   \n",
       "16  0fa79b6aaf24e450d773f64745885d73       0.005423   \n",
       "17  9b1778a1a6beb6ad44bcce7ec4bab196       0.021912   \n",
       "18  8a7107f9094fa648e69e54918f5170ac       0.177955   \n",
       "19  5881e206d0a520ebd041a21a7c7d5997       0.187768   \n",
       "20  22befebad83cac42388211ad27194db4       0.005723   \n",
       "21  57356bb8720a849f9ecbf05859213f82       0.010696   \n",
       "22  940a78a4721dfb6b0412f16cfd95722c       0.003551   \n",
       "23  c72c7322de4bf486ddd969e4c7a9ed1d       0.007755   \n",
       "\n",
       "                 training_date  \\\n",
       "0   2023-04-18 02:39:27.503109   \n",
       "1   2023-04-18 02:39:31.686764   \n",
       "2   2023-04-18 02:39:27.457352   \n",
       "3   2023-04-18 02:39:30.139319   \n",
       "4   2023-04-18 02:39:31.620210   \n",
       "5   2023-04-18 02:39:31.532861   \n",
       "6   2023-04-18 02:39:30.032949   \n",
       "7   2023-04-18 02:39:27.365353   \n",
       "8   2023-04-18 02:39:31.088398   \n",
       "9   2023-04-18 02:39:30.850137   \n",
       "10  2023-04-18 02:39:28.720131   \n",
       "11  2023-04-18 02:39:28.198419   \n",
       "12  2023-04-18 02:39:31.735422   \n",
       "13  2023-04-18 02:39:30.267919   \n",
       "14  2023-04-18 02:39:27.529685   \n",
       "15  2023-04-18 02:39:28.663441   \n",
       "16  2023-04-18 02:39:28.149311   \n",
       "17  2023-04-18 02:39:30.197028   \n",
       "18  2023-04-18 02:39:32.273573   \n",
       "19  2023-04-18 02:39:32.515893   \n",
       "20  2023-04-18 02:39:32.469070   \n",
       "21  2023-04-18 02:39:32.224925   \n",
       "22  2023-04-18 02:39:30.815502   \n",
       "23  2023-04-18 02:39:31.043499   \n",
       "\n",
       "                                          performance  accuracy  f1_score_avg  \\\n",
       "0   {'0': {'precision': 1.0, 'recall': 1.0, 'f1-sc...  1.000000      1.000000   \n",
       "1   {'0': {'precision': 1.0, 'recall': 0.976190476...  0.994595      0.992234   \n",
       "2   {'0': {'precision': 0.9767441860465116, 'recal...  0.994595      0.992363   \n",
       "3   {'0': {'precision': 0.9767441860465116, 'recal...  0.994595      0.992363   \n",
       "4   {'0': {'precision': 0.9767441860465116, 'recal...  0.994595      0.992363   \n",
       "5   {'0': {'precision': 0.9767441860465116, 'recal...  0.994595      0.992363   \n",
       "6   {'0': {'precision': 0.9767441860465116, 'recal...  0.994595      0.992363   \n",
       "7   {'0': {'precision': 0.9767441860465116, 'recal...  0.994595      0.992363   \n",
       "8   {'0': {'precision': 0.9767441860465116, 'recal...  0.994595      0.992363   \n",
       "9   {'0': {'precision': 0.9767441860465116, 'recal...  0.994595      0.992363   \n",
       "10  {'0': {'precision': 1.0, 'recall': 0.976190476...  0.994595      0.992234   \n",
       "11  {'0': {'precision': 1.0, 'recall': 0.976190476...  0.994595      0.992234   \n",
       "12  {'0': {'precision': 0.9767441860465116, 'recal...  0.994595      0.992363   \n",
       "13  {'0': {'precision': 0.9767441860465116, 'recal...  0.994595      0.992363   \n",
       "14  {'0': {'precision': 0.9767441860465116, 'recal...  0.994595      0.992363   \n",
       "15  {'0': {'precision': 0.9761904761904762, 'recal...  0.989189      0.984599   \n",
       "16  {'0': {'precision': 0.9761904761904762, 'recal...  0.989189      0.984599   \n",
       "17  {'0': {'precision': 0.9761904761904762, 'recal...  0.989189      0.984599   \n",
       "18  {'0': {'precision': 0.9761904761904762, 'recal...  0.989189      0.984599   \n",
       "19  {'0': {'precision': 0.9761904761904762, 'recal...  0.989189      0.984599   \n",
       "20  {'0': {'precision': 0.9534883720930233, 'recal...  0.983784      0.977090   \n",
       "21  {'0': {'precision': 0.9534883720930233, 'recal...  0.983784      0.977090   \n",
       "22  {'0': {'precision': 0.9130434782608695, 'recal...  0.978378      0.970181   \n",
       "23  {'0': {'precision': 0.9130434782608695, 'recal...  0.978378      0.970181   \n",
       "\n",
       "   data_configurations  \n",
       "0           imbalanced  \n",
       "1         oversampling  \n",
       "2           imbalanced  \n",
       "3        undersampling  \n",
       "4         oversampling  \n",
       "5         oversampling  \n",
       "6        undersampling  \n",
       "7           imbalanced  \n",
       "8        undersampling  \n",
       "9        undersampling  \n",
       "10          imbalanced  \n",
       "11          imbalanced  \n",
       "12        oversampling  \n",
       "13       undersampling  \n",
       "14          imbalanced  \n",
       "15          imbalanced  \n",
       "16          imbalanced  \n",
       "17       undersampling  \n",
       "18        oversampling  \n",
       "19        oversampling  \n",
       "20        oversampling  \n",
       "21        oversampling  \n",
       "22       undersampling  \n",
       "23       undersampling  "
      ]
     },
     "execution_count": 234,
     "metadata": {},
     "output_type": "execute_result"
    }
   ],
   "source": [
    "training_res_alternative"
   ]
  },
  {
   "attachments": {},
   "cell_type": "markdown",
   "metadata": {},
   "source": [
    "### Interpretation"
   ]
  },
  {
   "attachments": {},
   "cell_type": "markdown",
   "metadata": {},
   "source": [
    "The best model that trained from the binned value columns is:"
   ]
  },
  {
   "cell_type": "code",
   "execution_count": 240,
   "metadata": {},
   "outputs": [
    {
     "data": {
      "text/html": [
       "<div>\n",
       "<style scoped>\n",
       "    .dataframe tbody tr th:only-of-type {\n",
       "        vertical-align: middle;\n",
       "    }\n",
       "\n",
       "    .dataframe tbody tr th {\n",
       "        vertical-align: top;\n",
       "    }\n",
       "\n",
       "    .dataframe thead th {\n",
       "        text-align: right;\n",
       "    }\n",
       "</style>\n",
       "<table border=\"1\" class=\"dataframe\">\n",
       "  <thead>\n",
       "    <tr style=\"text-align: right;\">\n",
       "      <th></th>\n",
       "      <th>model_name</th>\n",
       "      <th>training_time</th>\n",
       "      <th>accuracy</th>\n",
       "      <th>data_configurations</th>\n",
       "    </tr>\n",
       "  </thead>\n",
       "  <tbody>\n",
       "    <tr>\n",
       "      <th>0</th>\n",
       "      <td>alternative_model-DecisionTreeClassifier</td>\n",
       "      <td>0.005678</td>\n",
       "      <td>1.0</td>\n",
       "      <td>imbalanced</td>\n",
       "    </tr>\n",
       "  </tbody>\n",
       "</table>\n",
       "</div>"
      ],
      "text/plain": [
       "                                 model_name  training_time  accuracy  \\\n",
       "0  alternative_model-DecisionTreeClassifier       0.005678       1.0   \n",
       "\n",
       "  data_configurations  \n",
       "0          imbalanced  "
      ]
     },
     "execution_count": 240,
     "metadata": {},
     "output_type": "execute_result"
    }
   ],
   "source": [
    "training_res_alternative[['model_name', 'training_time', 'accuracy', 'data_configurations']].head(1)\n"
   ]
  },
  {
   "attachments": {},
   "cell_type": "markdown",
   "metadata": {},
   "source": [
    "Since the best model accuracy in the alternative models is perfect, I will not do any hyperparameter tuning."
   ]
  },
  {
   "attachments": {},
   "cell_type": "markdown",
   "metadata": {},
   "source": [
    "## Best Model"
   ]
  },
  {
   "attachments": {},
   "cell_type": "markdown",
   "metadata": {},
   "source": [
    "The best model is produced by the original (imbalanced) data configuration, with the binned columns, and trained by Decision Tree Classifier algorithm."
   ]
  },
  {
   "cell_type": "code",
   "execution_count": 246,
   "metadata": {},
   "outputs": [],
   "source": [
    "# Create model fitting for the best model\n",
    "\n",
    "best_model = dtc.fit(x_train_bin, y_train)\n"
   ]
  },
  {
   "attachments": {},
   "cell_type": "markdown",
   "metadata": {},
   "source": [
    "### Metrics Analysis and Evaluation\n",
    "\n",
    "After fitting the best model, let's check the confusion matrix and classification report to analyze the model prediction. "
   ]
  },
  {
   "cell_type": "code",
   "execution_count": 247,
   "metadata": {},
   "outputs": [
    {
     "name": "stdout",
     "output_type": "stream",
     "text": [
      "              precision    recall  f1-score   support\n",
      "\n",
      "           0       1.00      1.00      1.00        42\n",
      "           1       1.00      1.00      1.00       143\n",
      "\n",
      "    accuracy                           1.00       185\n",
      "   macro avg       1.00      1.00      1.00       185\n",
      "weighted avg       1.00      1.00      1.00       185\n",
      "\n"
     ]
    },
    {
     "data": {
      "image/png": "[encoded data removed]",
      "text/plain": [
       "<Figure size 640x480 with 2 Axes>"
      ]
     },
     "metadata": {},
     "output_type": "display_data"
    }
   ],
   "source": [
    "# Run the model on the validation data\n",
    "\n",
    "y_pred = best_model.predict(x_valid_bin)\n",
    "\n",
    "report_on_valid = classification_report(y_valid, y_pred, output_dict = True)\n",
    "\n",
    "ConfusionMatrixDisplay.from_predictions(y_valid, y_pred)\n",
    "print(classification_report(y_valid, y_pred))\n"
   ]
  },
  {
   "cell_type": "code",
   "execution_count": 248,
   "metadata": {},
   "outputs": [
    {
     "name": "stdout",
     "output_type": "stream",
     "text": [
      "              precision    recall  f1-score   support\n",
      "\n",
      "           0       0.92      0.96      0.94        50\n",
      "           1       0.99      0.98      0.98       174\n",
      "\n",
      "    accuracy                           0.97       224\n",
      "   macro avg       0.96      0.97      0.96       224\n",
      "weighted avg       0.97      0.97      0.97       224\n",
      "\n"
     ]
    },
    {
     "data": {
      "image/png": "[encoded data removed]",
      "text/plain": [
       "<Figure size 640x480 with 2 Axes>"
      ]
     },
     "metadata": {},
     "output_type": "display_data"
    }
   ],
   "source": [
    "# Run the model on the test data\n",
    "\n",
    "y_pred = best_model.predict(x_test_bin)\n",
    "\n",
    "report_on_test = classification_report(y_test, y_pred, output_dict = True)\n",
    "\n",
    "ConfusionMatrixDisplay.from_predictions(y_test, y_pred)\n",
    "print(classification_report(y_test, y_pred))"
   ]
  },
  {
   "cell_type": "code",
   "execution_count": 249,
   "metadata": {},
   "outputs": [
    {
     "name": "stdout",
     "output_type": "stream",
     "text": [
      "The accuracy score difference between testing and validation datasets is: -0.026786\n"
     ]
    }
   ],
   "source": [
    "acc_on_valid = report_on_valid[\"accuracy\"]\n",
    "acc_on_valid\n",
    "\n",
    "acc_on_test = report_on_test[\"accuracy\"]\n",
    "acc_on_test\n",
    "\n",
    "print(f\"The accuracy score difference between testing and validation datasets is: {round(acc_on_test - acc_on_valid, 6)}\")"
   ]
  },
  {
   "cell_type": "markdown",
   "metadata": {},
   "source": [
    "In credit card approval prediction, it is crucial to predict correctly the **accuracy score**, which means the machine learning model is able to predict the approval status of the applications as approved that originally got approved, and vice versa.\n",
    "\n",
    "If the defect in credit card approval prediction can be kept at a very low level, the credit card issuer will not have a problem handling the credit default status."
   ]
  },
  {
   "attachments": {},
   "cell_type": "markdown",
   "metadata": {},
   "source": [
    "## Conclusion"
   ]
  },
  {
   "attachments": {},
   "cell_type": "markdown",
   "metadata": {},
   "source": [
    "In credit card approval prediction, it is crucial to predict correctly the **accuracy score**, which means the machine learning model can predict the approval status of the applications as approved that originally got approved, and vice versa.\n",
    "\n",
    "\n",
    "If the defect in credit card approval prediction can be kept at a very low level, the credit card issuer will not have a problem handling the credit default status.\n",
    "\n",
    "In this problem, the original dataset configuration which has an imbalance result on the target column works better to predict the new data, with perfect accuracy, 100%.\n",
    "\n",
    "The binned values on several features also made the model smoother to learn from the predictors than the original value on the same features which made the data distribution wider."
   ]
  },
  {
   "cell_type": "code",
   "execution_count": 251,
   "metadata": {},
   "outputs": [
    {
     "data": {
      "text/html": [
       "<style>#sk-container-id-1 {color: black;background-color: white;}#sk-container-id-1 pre{padding: 0;}#sk-container-id-1 div.sk-toggleable {background-color: white;}#sk-container-id-1 label.sk-toggleable__label {cursor: pointer;display: block;width: 100%;margin-bottom: 0;padding: 0.3em;box-sizing: border-box;text-align: center;}#sk-container-id-1 label.sk-toggleable__label-arrow:before {content: \"▸\";float: left;margin-right: 0.25em;color: #696969;}#sk-container-id-1 label.sk-toggleable__label-arrow:hover:before {color: black;}#sk-container-id-1 div.sk-estimator:hover label.sk-toggleable__label-arrow:before {color: black;}#sk-container-id-1 div.sk-toggleable__content {max-height: 0;max-width: 0;overflow: hidden;text-align: left;background-color: #f0f8ff;}#sk-container-id-1 div.sk-toggleable__content pre {margin: 0.2em;color: black;border-radius: 0.25em;background-color: #f0f8ff;}#sk-container-id-1 input.sk-toggleable__control:checked~div.sk-toggleable__content {max-height: 200px;max-width: 100%;overflow: auto;}#sk-container-id-1 input.sk-toggleable__control:checked~label.sk-toggleable__label-arrow:before {content: \"▾\";}#sk-container-id-1 div.sk-estimator input.sk-toggleable__control:checked~label.sk-toggleable__label {background-color: #d4ebff;}#sk-container-id-1 div.sk-label input.sk-toggleable__control:checked~label.sk-toggleable__label {background-color: #d4ebff;}#sk-container-id-1 input.sk-hidden--visually {border: 0;clip: rect(1px 1px 1px 1px);clip: rect(1px, 1px, 1px, 1px);height: 1px;margin: -1px;overflow: hidden;padding: 0;position: absolute;width: 1px;}#sk-container-id-1 div.sk-estimator {font-family: monospace;background-color: #f0f8ff;border: 1px dotted black;border-radius: 0.25em;box-sizing: border-box;margin-bottom: 0.5em;}#sk-container-id-1 div.sk-estimator:hover {background-color: #d4ebff;}#sk-container-id-1 div.sk-parallel-item::after {content: \"\";width: 100%;border-bottom: 1px solid gray;flex-grow: 1;}#sk-container-id-1 div.sk-label:hover label.sk-toggleable__label {background-color: #d4ebff;}#sk-container-id-1 div.sk-serial::before {content: \"\";position: absolute;border-left: 1px solid gray;box-sizing: border-box;top: 0;bottom: 0;left: 50%;z-index: 0;}#sk-container-id-1 div.sk-serial {display: flex;flex-direction: column;align-items: center;background-color: white;padding-right: 0.2em;padding-left: 0.2em;position: relative;}#sk-container-id-1 div.sk-item {position: relative;z-index: 1;}#sk-container-id-1 div.sk-parallel {display: flex;align-items: stretch;justify-content: center;background-color: white;position: relative;}#sk-container-id-1 div.sk-item::before, #sk-container-id-1 div.sk-parallel-item::before {content: \"\";position: absolute;border-left: 1px solid gray;box-sizing: border-box;top: 0;bottom: 0;left: 50%;z-index: -1;}#sk-container-id-1 div.sk-parallel-item {display: flex;flex-direction: column;z-index: 1;position: relative;background-color: white;}#sk-container-id-1 div.sk-parallel-item:first-child::after {align-self: flex-end;width: 50%;}#sk-container-id-1 div.sk-parallel-item:last-child::after {align-self: flex-start;width: 50%;}#sk-container-id-1 div.sk-parallel-item:only-child::after {width: 0;}#sk-container-id-1 div.sk-dashed-wrapped {border: 1px dashed gray;margin: 0 0.4em 0.5em 0.4em;box-sizing: border-box;padding-bottom: 0.4em;background-color: white;}#sk-container-id-1 div.sk-label label {font-family: monospace;font-weight: bold;display: inline-block;line-height: 1.2em;}#sk-container-id-1 div.sk-label-container {text-align: center;}#sk-container-id-1 div.sk-container {/* jupyter's `normalize.less` sets `[hidden] { display: none; }` but bootstrap.min.css set `[hidden] { display: none !important; }` so we also need the `!important` here to be able to override the default hidden behavior on the sphinx rendered scikit-learn.org. See: https://github.com/scikit-learn/scikit-learn/issues/21755 */display: inline-block !important;position: relative;}#sk-container-id-1 div.sk-text-repr-fallback {display: none;}</style><div id=\"sk-container-id-1\" class=\"sk-top-container\"><div class=\"sk-text-repr-fallback\"><pre>DecisionTreeClassifier(random_state=34)</pre><b>In a Jupyter environment, please rerun this cell to show the HTML representation or trust the notebook. <br />On GitHub, the HTML representation is unable to render, please try loading this page with nbviewer.org.</b></div><div class=\"sk-container\" hidden><div class=\"sk-item\"><div class=\"sk-estimator sk-toggleable\"><input class=\"sk-toggleable__control sk-hidden--visually\" id=\"sk-estimator-id-1\" type=\"checkbox\" checked><label for=\"sk-estimator-id-1\" class=\"sk-toggleable__label sk-toggleable__label-arrow\">DecisionTreeClassifier</label><div class=\"sk-toggleable__content\"><pre>DecisionTreeClassifier(random_state=34)</pre></div></div></div></div></div>"
      ],
      "text/plain": [
       "DecisionTreeClassifier(random_state=34)"
      ]
     },
     "execution_count": 251,
     "metadata": {},
     "output_type": "execute_result"
    }
   ],
   "source": [
    "# Save the best model\n",
    "utils.pkl_dump(best_model, config[\"production_model_path\"])\n",
    "best_model\n"
   ]
  }
 ],
 "metadata": {
  "kernelspec": {
   "display_name": "venv2",
   "language": "python",
   "name": "python3"
  },
  "language_info": {
   "codemirror_mode": {
    "name": "ipython",
    "version": 3
   },
   "file_extension": ".py",
   "mimetype": "text/x-python",
   "name": "python",
   "nbconvert_exporter": "python",
   "pygments_lexer": "ipython3",
   "version": "3.8.10"
  },
  "orig_nbformat": 4,
  "vscode": {
   "interpreter": {
    "hash": "4372300a058c3c7af6fc5d0912ae3184a1f34df86a045297a4ccc6fb51ceb69c"
   }
  }
 },
 "nbformat": 4,
 "nbformat_minor": 2
}

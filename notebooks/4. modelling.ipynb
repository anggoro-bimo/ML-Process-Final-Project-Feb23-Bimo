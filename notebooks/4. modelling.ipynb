{
 "cells": [
  {
   "attachments": {},
   "cell_type": "markdown",
   "metadata": {},
   "source": [
    "# Libraries, Modules, and Configuration File"
   ]
  },
  {
   "cell_type": "code",
   "execution_count": 2,
   "metadata": {},
   "outputs": [],
   "source": [
    "import pandas as pd\n",
    " \n",
    "from sklearn.linear_model import LogisticRegression\n",
    "from sklearn.svm import SVC\n",
    "from sklearn.tree import DecisionTreeClassifier\n",
    "from sklearn.ensemble import RandomForestClassifier\n",
    "from sklearn.neighbors import KNeighborsClassifier\n",
    "from xgboost import XGBClassifier\n",
    "from sklearn.naive_bayes import CategoricalNB, GaussianNB\n",
    "\n",
    "from sklearn.metrics import classification_report, ConfusionMatrixDisplay\n",
    "from sklearn.model_selection import RandomizedSearchCV, GridSearchCV\n",
    "\n",
    "from datetime import datetime\n",
    "from tqdm import tqdm\n",
    "import json\n",
    "import copy\n",
    "import hashlib\n",
    "\n",
    "import sys\n",
    "sys.path.append('/root/ml_process_feb23/')\n",
    "import src.util as utils\n",
    "config = utils.load_config()"
   ]
  },
  {
   "attachments": {},
   "cell_type": "markdown",
   "metadata": {},
   "source": [
    "# Load the Datasets"
   ]
  },
  {
   "cell_type": "code",
   "execution_count": 159,
   "metadata": {},
   "outputs": [],
   "source": [
    "def load_datasets(config):\n",
    "\n",
    "    df_train = utils.pkl_load(config['dataset_modelling_path'][0])\n",
    "    x_train = df_train.drop(['card'], axis = 1)\n",
    "    y_train = df_train['card']\n",
    "\n",
    "    df_valid = utils.pkl_load(config['dataset_modelling_path'][1])\n",
    "    x_valid = df_valid.drop(['card'], axis = 1)\n",
    "    y_valid = df_valid['card']\n",
    "\n",
    "    df_test = utils.pkl_load(config['dataset_modelling_path'][2])\n",
    "    x_test = df_test.drop(['card'], axis = 1)\n",
    "    y_test = df_test['card']\n",
    "\n",
    "    x_train_rus = utils.pkl_load(config[\"dataset_train_balanced_path\"][0])\n",
    "    y_train_rus = utils.pkl_load(config[\"dataset_train_balanced_path\"][1])\n",
    "\n",
    "    x_train_ros = utils.pkl_load(config[\"dataset_train_balanced_path\"][2])\n",
    "    y_train_ros = utils.pkl_load(config[\"dataset_train_balanced_path\"][3])\n",
    "\n",
    "    x_train_smote = utils.pkl_load(config[\"dataset_train_balanced_path\"][4])\n",
    "    y_train_smote = utils.pkl_load(config[\"dataset_train_balanced_path\"][5])\n",
    "\n",
    "    return x_train, y_train, \\\n",
    "           x_valid, y_valid, \\\n",
    "           x_test, y_test, \\\n",
    "           x_train_rus, y_train_rus, \\\n",
    "           x_train_ros, y_train_ros, \\\n",
    "           x_train_smote, y_train_smote"
   ]
  },
  {
   "cell_type": "code",
   "execution_count": 160,
   "metadata": {},
   "outputs": [],
   "source": [
    "# Execute the function for loading datasets \n",
    "\n",
    "x_train, y_train, \\\n",
    "x_valid, y_valid, \\\n",
    "x_test, y_test, \\\n",
    "x_train_rus, y_train_rus, \\\n",
    "x_train_ros, y_train_ros, \\\n",
    "x_train_smote, y_train_smote = load_datasets(config)"
   ]
  },
  {
   "attachments": {},
   "cell_type": "markdown",
   "metadata": {},
   "source": [
    "## Selecting features to be trained"
   ]
  },
  {
   "cell_type": "code",
   "execution_count": 5,
   "metadata": {},
   "outputs": [
    {
     "data": {
      "text/plain": [
       "array(['reports', 'age', 'share', 'owner', 'selfemp', 'dependents',\n",
       "       'majorcards', 'active', 'income_log', 'expenditure_log',\n",
       "       'months_log', 'age_bin', 'reports_bin', 'dependents_bin',\n",
       "       'active_bin'], dtype=object)"
      ]
     },
     "execution_count": 5,
     "metadata": {},
     "output_type": "execute_result"
    }
   ],
   "source": [
    "# Checking all the predictors\n",
    "x_train.columns.values"
   ]
  },
  {
   "cell_type": "code",
   "execution_count": 161,
   "metadata": {},
   "outputs": [],
   "source": [
    "# Create instances for some binned features and its original value\n",
    "bins = config[\"binned_cols\"]\n",
    "ori_value = config[\"original_cols\"]"
   ]
  },
  {
   "attachments": {},
   "cell_type": "markdown",
   "metadata": {},
   "source": [
    "For the **baseline model**, I use the features with original value."
   ]
  },
  {
   "cell_type": "code",
   "execution_count": 7,
   "metadata": {},
   "outputs": [],
   "source": [
    "# Create the independent variables for baseline model\n",
    "x_train_base = x_train.drop(bins, axis = 1)\n",
    "x_train_rus_base = x_train_rus.drop(bins, axis = 1)\n",
    "x_train_ros_base = x_train_ros.drop(bins, axis = 1)\n",
    "x_train_smote_base = x_train_smote.drop(bins, axis = 1)\n",
    "x_valid_base = x_valid.drop(bins, axis = 1)\n",
    "x_test_base = x_test.drop(bins, axis = 1)"
   ]
  },
  {
   "attachments": {},
   "cell_type": "markdown",
   "metadata": {},
   "source": [
    "For the **alternative model**, I use the binned features."
   ]
  },
  {
   "cell_type": "code",
   "execution_count": 8,
   "metadata": {},
   "outputs": [],
   "source": [
    "# Create the independent variables for alternative model\n",
    "x_train_bin = x_train.drop(ori_value, axis = 1)\n",
    "x_train_rus_bin = x_train_rus.drop(ori_value, axis = 1)\n",
    "x_train_ros_bin = x_train_ros.drop(ori_value, axis = 1)\n",
    "x_train_smote_bin = x_train_smote.drop(ori_value, axis = 1)\n",
    "x_valid_bin = x_valid.drop(ori_value, axis = 1)\n",
    "x_test_bin = x_test.drop(ori_value, axis = 1)"
   ]
  },
  {
   "attachments": {},
   "cell_type": "markdown",
   "metadata": {},
   "source": [
    "# Create Log Template"
   ]
  },
  {
   "cell_type": "code",
   "execution_count": 9,
   "metadata": {},
   "outputs": [],
   "source": [
    "def time_stamp():\n",
    "    return datetime.now()"
   ]
  },
  {
   "cell_type": "code",
   "execution_count": 10,
   "metadata": {},
   "outputs": [],
   "source": [
    "def create_log_template():\n",
    "    logger = {\n",
    "        \"model_name\" : [],\n",
    "        \"model_uid\" : [],\n",
    "        \"training_time\" : [],\n",
    "        \"training_date\" : [],\n",
    "        \"performance\" : [],\n",
    "        \"accuracy\" :[],\n",
    "        \"f1_score_avg\" : [],\n",
    "        \"data_configurations\" : [],\n",
    "    }\n",
    "\n",
    "    return logger"
   ]
  },
  {
   "cell_type": "code",
   "execution_count": 11,
   "metadata": {},
   "outputs": [],
   "source": [
    "def training_log_updater(current_log, log_path):\n",
    "    current_log = current_log.copy()\n",
    "\n",
    "    try:\n",
    "        with open(log_path, \"r\") as file:\n",
    "            last_log = json.load(file)\n",
    "        file.close()\n",
    "    except FileNotFoundError as ffe:\n",
    "        with open(log_path, \"w\") as file:\n",
    "            file.write(\"[]\")\n",
    "        file.close()\n",
    "        with open(log_path, \"r\") as file:\n",
    "            last_log = json.load(file)\n",
    "        file.close()\n",
    "    \n",
    "    last_log.append(current_log)\n",
    "\n",
    "    with open(log_path, \"w\") as file:\n",
    "        json.dump(last_log, file)\n",
    "        file.close()\n",
    "\n",
    "    return last_log"
   ]
  },
  {
   "attachments": {},
   "cell_type": "markdown",
   "metadata": {},
   "source": [
    "# Training and Evaluation"
   ]
  },
  {
   "attachments": {},
   "cell_type": "markdown",
   "metadata": {},
   "source": [
    "## Create Model Object"
   ]
  },
  {
   "attachments": {},
   "cell_type": "markdown",
   "metadata": {},
   "source": [
    "Create instance for each algorithm function"
   ]
  },
  {
   "cell_type": "code",
   "execution_count": 12,
   "metadata": {},
   "outputs": [],
   "source": [
    "lgr      = LogisticRegression(random_state = 12)      # Logistic regression\n",
    "svm      = SVC(random_state = 23)                     # Support Vector Machine \n",
    "dct      = DecisionTreeClassifier(random_state = 34)  # Decision tree Classifier\n",
    "rfc      = RandomForestClassifier(random_state = 45)  # Random Forest Classifier\n",
    "knn      = KNeighborsClassifier()                     # k-Nearest Neighbors CLassifier\n",
    "xgb      = XGBClassifier(random_state = 67)           # XG Boost Classifier\n",
    "nb_cat   = CategoricalNB()                            # Categorical Naive Bayes Classifier\n",
    "nb_gauss = GaussianNB()                               # Gaussian Naive Bayes Classifier"
   ]
  },
  {
   "cell_type": "code",
   "execution_count": 51,
   "metadata": {},
   "outputs": [],
   "source": [
    "list_of_model = {\n",
    "    \"imbalanced\" : [\n",
    "        { \"model_name\": lgr.__class__.__name__, \"model_object\": lgr, \"model_uid\": \"\"},\n",
    "        { \"model_name\": svm.__class__.__name__, \"model_object\": dct, \"model_uid\": \"\"},\n",
    "        { \"model_name\": dct.__class__.__name__, \"model_object\": dct, \"model_uid\": \"\"},\n",
    "        { \"model_name\": rfc.__class__.__name__, \"model_object\": rfc, \"model_uid\": \"\"},\n",
    "        { \"model_name\": knn.__class__.__name__, \"model_object\": knn, \"model_uid\": \"\"},\n",
    "        { \"model_name\": xgb.__class__.__name__, \"model_object\": xgb, \"model_uid\": \"\"},\n",
    "        { \"model_name\": nb_cat.__class__.__name__, \"model_object\": knn, \"model_uid\": \"\"},\n",
    "        { \"model_name\": nb_gauss.__class__.__name__, \"model_object\": xgb, \"model_uid\": \"\"}\n",
    "        ],\n",
    "    \"undersampling\" : [\n",
    "        { \"model_name\": lgr.__class__.__name__, \"model_object\": lgr, \"model_uid\": \"\"},\n",
    "        { \"model_name\": svm.__class__.__name__, \"model_object\": dct, \"model_uid\": \"\"},\n",
    "        { \"model_name\": dct.__class__.__name__, \"model_object\": dct, \"model_uid\": \"\"},\n",
    "        { \"model_name\": rfc.__class__.__name__, \"model_object\": rfc, \"model_uid\": \"\"},\n",
    "        { \"model_name\": knn.__class__.__name__, \"model_object\": knn, \"model_uid\": \"\"},\n",
    "        { \"model_name\": xgb.__class__.__name__, \"model_object\": xgb, \"model_uid\": \"\"},\n",
    "        { \"model_name\": nb_cat.__class__.__name__, \"model_object\": knn, \"model_uid\": \"\"},\n",
    "        { \"model_name\": nb_gauss.__class__.__name__, \"model_object\": xgb, \"model_uid\": \"\"}\n",
    "        ],\n",
    "    \"oversampling\" : [\n",
    "        { \"model_name\": lgr.__class__.__name__, \"model_object\": lgr, \"model_uid\": \"\"},\n",
    "        { \"model_name\": svm.__class__.__name__, \"model_object\": dct, \"model_uid\": \"\"},\n",
    "        { \"model_name\": dct.__class__.__name__, \"model_object\": dct, \"model_uid\": \"\"},\n",
    "        { \"model_name\": rfc.__class__.__name__, \"model_object\": rfc, \"model_uid\": \"\"},\n",
    "        { \"model_name\": knn.__class__.__name__, \"model_object\": knn, \"model_uid\": \"\"},\n",
    "        { \"model_name\": xgb.__class__.__name__, \"model_object\": xgb, \"model_uid\": \"\"},\n",
    "        { \"model_name\": nb_cat.__class__.__name__, \"model_object\": knn, \"model_uid\": \"\"},\n",
    "        { \"model_name\": nb_gauss.__class__.__name__, \"model_object\": xgb, \"model_uid\": \"\"}\n",
    "        ],\n",
    "    \"smote\" : [\n",
    "        { \"model_name\": lgr.__class__.__name__, \"model_object\": lgr, \"model_uid\": \"\"},\n",
    "        { \"model_name\": svm.__class__.__name__, \"model_object\": dct, \"model_uid\": \"\"},\n",
    "        { \"model_name\": dct.__class__.__name__, \"model_object\": dct, \"model_uid\": \"\"},\n",
    "        { \"model_name\": rfc.__class__.__name__, \"model_object\": rfc, \"model_uid\": \"\"},\n",
    "        { \"model_name\": knn.__class__.__name__, \"model_object\": knn, \"model_uid\": \"\"},\n",
    "        { \"model_name\": xgb.__class__.__name__, \"model_object\": xgb, \"model_uid\": \"\"},\n",
    "        { \"model_name\": nb_cat.__class__.__name__, \"model_object\": knn, \"model_uid\": \"\"},\n",
    "        { \"model_name\": nb_gauss.__class__.__name__, \"model_object\": xgb, \"model_uid\": \"\"}\n",
    "        ],\n",
    "    }"
   ]
  },
  {
   "cell_type": "code",
   "execution_count": 52,
   "metadata": {},
   "outputs": [],
   "source": [
    "def train_eval_model(list_of_model, prefix_model_name, x_train, y_train, data_configuration_name, x_valid, y_valid, log_path):\n",
    "\n",
    "    list_of_model = copy.deepcopy(list_of_model)\n",
    "    logger = create_log_template()\n",
    "\n",
    "    for model in tqdm(list_of_model):    \n",
    "        model_name = prefix_model_name + \"-\" + model[\"model_name\"]\n",
    "\n",
    "        start_time = time_stamp()\n",
    "        model[\"model_object\"].fit(x_train, y_train)\n",
    "        finished_time = time_stamp()\n",
    "\n",
    "        elapsed_time = finished_time - start_time\n",
    "        elapsed_time = elapsed_time.total_seconds()\n",
    "\n",
    "        y_pred = model[\"model_object\"].predict(x_valid)\n",
    "        performance = classification_report(y_valid, y_pred, output_dict = True)\n",
    "\n",
    "        plain_id = str(start_time) + str(finished_time)\n",
    "        chiper_id = hashlib.md5(plain_id.encode()).hexdigest()\n",
    "\n",
    "        model[\"model_uid\"] = chiper_id\n",
    "\n",
    "        logger[\"model_name\"].append(model_name)\n",
    "        logger[\"model_uid\"].append(chiper_id)\n",
    "        logger[\"training_time\"].append(elapsed_time)\n",
    "        logger[\"training_date\"].append(str(start_time))\n",
    "        logger[\"performance\"].append(performance)\n",
    "        logger[\"f1_score_avg\"].append(performance[\"macro avg\"][\"f1-score\"])\n",
    "        logger[\"accuracy\"].append(performance[\"accuracy\"])\n",
    "        logger[\"data_configurations\"].append(data_configuration_name)\n",
    "\n",
    "    training_log = training_log_updater(logger, log_path)\n",
    "\n",
    "    return training_log, list_of_model"
   ]
  },
  {
   "cell_type": "code",
   "execution_count": 53,
   "metadata": {},
   "outputs": [],
   "source": [
    "def training_log_to_df(training_log):\n",
    "    training_res = pd.DataFrame()\n",
    "\n",
    "    for log in tqdm(training_log):\n",
    "        training_res = pd.concat([training_res, pd.DataFrame(log)])\n",
    "    \n",
    "    training_res.sort_values([\"accuracy\", \"training_time\"], ascending = [False, True], inplace = True)\n",
    "    training_res.reset_index(inplace = True, drop = True)\n",
    "    \n",
    "    return training_res"
   ]
  },
  {
   "attachments": {},
   "cell_type": "markdown",
   "metadata": {},
   "source": [
    "## Train and Evaluate the Baseline Models"
   ]
  },
  {
   "attachments": {},
   "cell_type": "markdown",
   "metadata": {},
   "source": [
    "### Original (imbalanced) data"
   ]
  },
  {
   "cell_type": "code",
   "execution_count": 79,
   "metadata": {},
   "outputs": [
    {
     "name": "stderr",
     "output_type": "stream",
     "text": [
      "  0%|          | 0/8 [00:00<?, ?it/s]/root/ml_process_feb23/venv2/lib/python3.8/site-packages/sklearn/linear_model/_logistic.py:458: ConvergenceWarning: lbfgs failed to converge (status=1):\n",
      "STOP: TOTAL NO. of ITERATIONS REACHED LIMIT.\n",
      "\n",
      "Increase the number of iterations (max_iter) or scale the data as shown in:\n",
      "    https://scikit-learn.org/stable/modules/preprocessing.html\n",
      "Please also refer to the documentation for alternative solver options:\n",
      "    https://scikit-learn.org/stable/modules/linear_model.html#logistic-regression\n",
      "  n_iter_i = _check_optimize_result(\n",
      "100%|██████████| 8/8 [00:01<00:00,  6.58it/s]\n"
     ]
    }
   ],
   "source": [
    "training_log, list_of_model_imbal = train_eval_model(\n",
    "    list_of_model[\"imbalanced\"],\n",
    "    \"baseline_model\",\n",
    "    x_train_base,\n",
    "    y_train,\n",
    "    \"imbalanced\",\n",
    "    x_valid_base,\n",
    "    y_valid,\n",
    "    \"/root/ml_process_feb23/logs/training_log_baseline.json\"\n",
    ")"
   ]
  },
  {
   "cell_type": "code",
   "execution_count": 80,
   "metadata": {},
   "outputs": [],
   "source": [
    "list_of_model[\"imbalanced\"] = copy.deepcopy(list_of_model_imbal)"
   ]
  },
  {
   "attachments": {},
   "cell_type": "markdown",
   "metadata": {},
   "source": [
    "### Balanced with undersampling"
   ]
  },
  {
   "cell_type": "code",
   "execution_count": 81,
   "metadata": {},
   "outputs": [
    {
     "name": "stderr",
     "output_type": "stream",
     "text": [
      "  0%|          | 0/8 [00:00<?, ?it/s]/root/ml_process_feb23/venv2/lib/python3.8/site-packages/sklearn/linear_model/_logistic.py:458: ConvergenceWarning: lbfgs failed to converge (status=1):\n",
      "STOP: TOTAL NO. of ITERATIONS REACHED LIMIT.\n",
      "\n",
      "Increase the number of iterations (max_iter) or scale the data as shown in:\n",
      "    https://scikit-learn.org/stable/modules/preprocessing.html\n",
      "Please also refer to the documentation for alternative solver options:\n",
      "    https://scikit-learn.org/stable/modules/linear_model.html#logistic-regression\n",
      "  n_iter_i = _check_optimize_result(\n",
      "100%|██████████| 8/8 [00:07<00:00,  1.09it/s]\n"
     ]
    }
   ],
   "source": [
    "training_log, list_of_model_rus = train_eval_model(\n",
    "    list_of_model[\"undersampling\"],\n",
    "    \"baseline_model\",\n",
    "    x_train_rus_base,\n",
    "    y_train_rus,\n",
    "    \"undersampling\",\n",
    "    x_valid_base,\n",
    "    y_valid,\n",
    "    \"/root/ml_process_feb23/logs/training_log_baseline.json\"\n",
    ")"
   ]
  },
  {
   "cell_type": "code",
   "execution_count": 82,
   "metadata": {},
   "outputs": [],
   "source": [
    "list_of_model[\"undersampling\"] = copy.deepcopy(list_of_model_rus)"
   ]
  },
  {
   "attachments": {},
   "cell_type": "markdown",
   "metadata": {},
   "source": [
    "### Balanced with oversampling"
   ]
  },
  {
   "cell_type": "code",
   "execution_count": 83,
   "metadata": {},
   "outputs": [
    {
     "name": "stderr",
     "output_type": "stream",
     "text": [
      "  0%|          | 0/8 [00:00<?, ?it/s]/root/ml_process_feb23/venv2/lib/python3.8/site-packages/sklearn/linear_model/_logistic.py:458: ConvergenceWarning: lbfgs failed to converge (status=1):\n",
      "STOP: TOTAL NO. of ITERATIONS REACHED LIMIT.\n",
      "\n",
      "Increase the number of iterations (max_iter) or scale the data as shown in:\n",
      "    https://scikit-learn.org/stable/modules/preprocessing.html\n",
      "Please also refer to the documentation for alternative solver options:\n",
      "    https://scikit-learn.org/stable/modules/linear_model.html#logistic-regression\n",
      "  n_iter_i = _check_optimize_result(\n",
      "100%|██████████| 8/8 [00:01<00:00,  7.30it/s]\n"
     ]
    }
   ],
   "source": [
    "training_log, list_of_model_ros = train_eval_model(\n",
    "    list_of_model[\"oversampling\"],\n",
    "    \"baseline_model\",\n",
    "    x_train_ros_base,\n",
    "    y_train_ros,\n",
    "    \"oversampling\",\n",
    "    x_valid_base,\n",
    "    y_valid,\n",
    "    \"/root/ml_process_feb23/logs/training_log_baseline.json\"\n",
    ")"
   ]
  },
  {
   "cell_type": "code",
   "execution_count": 84,
   "metadata": {},
   "outputs": [],
   "source": [
    "list_of_model[\"oversampling\"] = copy.deepcopy(list_of_model_ros)"
   ]
  },
  {
   "attachments": {},
   "cell_type": "markdown",
   "metadata": {},
   "source": [
    "### Balanced with SMOTE"
   ]
  },
  {
   "cell_type": "code",
   "execution_count": 85,
   "metadata": {},
   "outputs": [
    {
     "name": "stderr",
     "output_type": "stream",
     "text": [
      "  0%|          | 0/8 [00:00<?, ?it/s]/root/ml_process_feb23/venv2/lib/python3.8/site-packages/sklearn/linear_model/_logistic.py:458: ConvergenceWarning: lbfgs failed to converge (status=1):\n",
      "STOP: TOTAL NO. of ITERATIONS REACHED LIMIT.\n",
      "\n",
      "Increase the number of iterations (max_iter) or scale the data as shown in:\n",
      "    https://scikit-learn.org/stable/modules/preprocessing.html\n",
      "Please also refer to the documentation for alternative solver options:\n",
      "    https://scikit-learn.org/stable/modules/linear_model.html#logistic-regression\n",
      "  n_iter_i = _check_optimize_result(\n",
      "100%|██████████| 8/8 [00:01<00:00,  6.49it/s]\n"
     ]
    }
   ],
   "source": [
    "training_log, list_of_model_smote = train_eval_model(\n",
    "    list_of_model[\"smote\"],\n",
    "    \"baseline_model\",\n",
    "    x_train_smote_base,\n",
    "    y_train_smote,\n",
    "    \"smote\",\n",
    "    x_valid_base,\n",
    "    y_valid,\n",
    "    \"/root/ml_process_feb23/logs/training_log_baseline.json\"\n",
    ")"
   ]
  },
  {
   "cell_type": "code",
   "execution_count": 86,
   "metadata": {},
   "outputs": [],
   "source": [
    "list_of_model[\"smote\"] = copy.deepcopy(list_of_model_smote)"
   ]
  },
  {
   "attachments": {},
   "cell_type": "markdown",
   "metadata": {},
   "source": [
    "### Table of models performance\n",
    "\n",
    "Now let's compare the performance from each algorithm and each dataset."
   ]
  },
  {
   "cell_type": "code",
   "execution_count": 87,
   "metadata": {},
   "outputs": [
    {
     "name": "stderr",
     "output_type": "stream",
     "text": [
      "100%|██████████| 12/12 [00:00<00:00, 246.79it/s]\n"
     ]
    }
   ],
   "source": [
    "training_res_baseline = training_log_to_df(training_log)"
   ]
  },
  {
   "cell_type": "code",
   "execution_count": 88,
   "metadata": {},
   "outputs": [
    {
     "data": {
      "text/html": [
       "<div>\n",
       "<style scoped>\n",
       "    .dataframe tbody tr th:only-of-type {\n",
       "        vertical-align: middle;\n",
       "    }\n",
       "\n",
       "    .dataframe tbody tr th {\n",
       "        vertical-align: top;\n",
       "    }\n",
       "\n",
       "    .dataframe thead th {\n",
       "        text-align: right;\n",
       "    }\n",
       "</style>\n",
       "<table border=\"1\" class=\"dataframe\">\n",
       "  <thead>\n",
       "    <tr style=\"text-align: right;\">\n",
       "      <th></th>\n",
       "      <th>model_name</th>\n",
       "      <th>model_uid</th>\n",
       "      <th>training_time</th>\n",
       "      <th>training_date</th>\n",
       "      <th>performance</th>\n",
       "      <th>accuracy</th>\n",
       "      <th>f1_score_avg</th>\n",
       "      <th>data_configurations</th>\n",
       "    </tr>\n",
       "  </thead>\n",
       "  <tbody>\n",
       "    <tr>\n",
       "      <th>0</th>\n",
       "      <td>baseline_model-LogisticRegression</td>\n",
       "      <td>e05af11453e630a63ed660118117c723</td>\n",
       "      <td>0.094299</td>\n",
       "      <td>2023-04-17 13:34:42.798044</td>\n",
       "      <td>{'0': {'precision': 0.9767441860465116, 'recal...</td>\n",
       "      <td>0.994595</td>\n",
       "      <td>0.992363</td>\n",
       "      <td>undersampling</td>\n",
       "    </tr>\n",
       "    <tr>\n",
       "      <th>1</th>\n",
       "      <td>baseline_model-LogisticRegression</td>\n",
       "      <td>02acb7ea497911a5608e164a637edcaa</td>\n",
       "      <td>0.095698</td>\n",
       "      <td>2023-04-17 13:34:51.334564</td>\n",
       "      <td>{'0': {'precision': 0.9767441860465116, 'recal...</td>\n",
       "      <td>0.994595</td>\n",
       "      <td>0.992363</td>\n",
       "      <td>oversampling</td>\n",
       "    </tr>\n",
       "    <tr>\n",
       "      <th>2</th>\n",
       "      <td>baseline_model-LogisticRegression</td>\n",
       "      <td>5440e5912edd0bd09822f55c663da47f</td>\n",
       "      <td>0.095952</td>\n",
       "      <td>2023-04-17 13:19:42.253566</td>\n",
       "      <td>{'0': {'precision': 0.9767441860465116, 'recal...</td>\n",
       "      <td>0.994595</td>\n",
       "      <td>0.992363</td>\n",
       "      <td>undersampling</td>\n",
       "    </tr>\n",
       "    <tr>\n",
       "      <th>3</th>\n",
       "      <td>baseline_model-LogisticRegression</td>\n",
       "      <td>1027e33c5378714ec2063239a894ea4d</td>\n",
       "      <td>0.102869</td>\n",
       "      <td>2023-04-17 13:34:52.851794</td>\n",
       "      <td>{'0': {'precision': 0.9767441860465116, 'recal...</td>\n",
       "      <td>0.994595</td>\n",
       "      <td>0.992363</td>\n",
       "      <td>smote</td>\n",
       "    </tr>\n",
       "    <tr>\n",
       "      <th>4</th>\n",
       "      <td>baseline_model-LogisticRegression</td>\n",
       "      <td>a8f8872b8fe56a3e0ac6a9acdaea2b40</td>\n",
       "      <td>0.119912</td>\n",
       "      <td>2023-04-17 13:33:37.830512</td>\n",
       "      <td>{'0': {'precision': 0.9767441860465116, 'recal...</td>\n",
       "      <td>0.994595</td>\n",
       "      <td>0.992363</td>\n",
       "      <td>undersampling</td>\n",
       "    </tr>\n",
       "    <tr>\n",
       "      <th>...</th>\n",
       "      <td>...</td>\n",
       "      <td>...</td>\n",
       "      <td>...</td>\n",
       "      <td>...</td>\n",
       "      <td>...</td>\n",
       "      <td>...</td>\n",
       "      <td>...</td>\n",
       "      <td>...</td>\n",
       "    </tr>\n",
       "    <tr>\n",
       "      <th>91</th>\n",
       "      <td>baseline_model-CategoricalNB</td>\n",
       "      <td>b431028e78c4ced2f00768c8907d16ab</td>\n",
       "      <td>0.003167</td>\n",
       "      <td>2023-04-17 13:33:36.959350</td>\n",
       "      <td>{'0': {'precision': 0.8888888888888888, 'recal...</td>\n",
       "      <td>0.848649</td>\n",
       "      <td>0.721505</td>\n",
       "      <td>imbalanced</td>\n",
       "    </tr>\n",
       "    <tr>\n",
       "      <th>92</th>\n",
       "      <td>baseline_model-CategoricalNB</td>\n",
       "      <td>bc3ad974a1dae28656a0756677386fb5</td>\n",
       "      <td>0.003467</td>\n",
       "      <td>2023-04-17 13:34:41.426772</td>\n",
       "      <td>{'0': {'precision': 0.8888888888888888, 'recal...</td>\n",
       "      <td>0.848649</td>\n",
       "      <td>0.721505</td>\n",
       "      <td>imbalanced</td>\n",
       "    </tr>\n",
       "    <tr>\n",
       "      <th>93</th>\n",
       "      <td>baseline_model-CategoricalNB</td>\n",
       "      <td>d640e3d28706aff7db8fb6b4a8d55c0d</td>\n",
       "      <td>0.003738</td>\n",
       "      <td>2023-04-17 13:19:41.378085</td>\n",
       "      <td>{'0': {'precision': 0.8888888888888888, 'recal...</td>\n",
       "      <td>0.848649</td>\n",
       "      <td>0.721505</td>\n",
       "      <td>imbalanced</td>\n",
       "    </tr>\n",
       "    <tr>\n",
       "      <th>94</th>\n",
       "      <td>baseline_model-KNeighborsClassifier</td>\n",
       "      <td>4d96d36cfbb247ac554ae6eea008644b</td>\n",
       "      <td>0.022244</td>\n",
       "      <td>2023-04-17 13:33:36.302303</td>\n",
       "      <td>{'0': {'precision': 0.8888888888888888, 'recal...</td>\n",
       "      <td>0.848649</td>\n",
       "      <td>0.721505</td>\n",
       "      <td>imbalanced</td>\n",
       "    </tr>\n",
       "    <tr>\n",
       "      <th>95</th>\n",
       "      <td>baseline_model-KNeighborsClassifier</td>\n",
       "      <td>3af0224c509368c8085c8321e4e6f287</td>\n",
       "      <td>0.078975</td>\n",
       "      <td>2023-04-17 13:19:38.794785</td>\n",
       "      <td>{'0': {'precision': 0.8888888888888888, 'recal...</td>\n",
       "      <td>0.848649</td>\n",
       "      <td>0.721505</td>\n",
       "      <td>imbalanced</td>\n",
       "    </tr>\n",
       "  </tbody>\n",
       "</table>\n",
       "<p>96 rows × 8 columns</p>\n",
       "</div>"
      ],
      "text/plain": [
       "                             model_name                         model_uid  \\\n",
       "0     baseline_model-LogisticRegression  e05af11453e630a63ed660118117c723   \n",
       "1     baseline_model-LogisticRegression  02acb7ea497911a5608e164a637edcaa   \n",
       "2     baseline_model-LogisticRegression  5440e5912edd0bd09822f55c663da47f   \n",
       "3     baseline_model-LogisticRegression  1027e33c5378714ec2063239a894ea4d   \n",
       "4     baseline_model-LogisticRegression  a8f8872b8fe56a3e0ac6a9acdaea2b40   \n",
       "..                                  ...                               ...   \n",
       "91         baseline_model-CategoricalNB  b431028e78c4ced2f00768c8907d16ab   \n",
       "92         baseline_model-CategoricalNB  bc3ad974a1dae28656a0756677386fb5   \n",
       "93         baseline_model-CategoricalNB  d640e3d28706aff7db8fb6b4a8d55c0d   \n",
       "94  baseline_model-KNeighborsClassifier  4d96d36cfbb247ac554ae6eea008644b   \n",
       "95  baseline_model-KNeighborsClassifier  3af0224c509368c8085c8321e4e6f287   \n",
       "\n",
       "    training_time               training_date  \\\n",
       "0        0.094299  2023-04-17 13:34:42.798044   \n",
       "1        0.095698  2023-04-17 13:34:51.334564   \n",
       "2        0.095952  2023-04-17 13:19:42.253566   \n",
       "3        0.102869  2023-04-17 13:34:52.851794   \n",
       "4        0.119912  2023-04-17 13:33:37.830512   \n",
       "..            ...                         ...   \n",
       "91       0.003167  2023-04-17 13:33:36.959350   \n",
       "92       0.003467  2023-04-17 13:34:41.426772   \n",
       "93       0.003738  2023-04-17 13:19:41.378085   \n",
       "94       0.022244  2023-04-17 13:33:36.302303   \n",
       "95       0.078975  2023-04-17 13:19:38.794785   \n",
       "\n",
       "                                          performance  accuracy  f1_score_avg  \\\n",
       "0   {'0': {'precision': 0.9767441860465116, 'recal...  0.994595      0.992363   \n",
       "1   {'0': {'precision': 0.9767441860465116, 'recal...  0.994595      0.992363   \n",
       "2   {'0': {'precision': 0.9767441860465116, 'recal...  0.994595      0.992363   \n",
       "3   {'0': {'precision': 0.9767441860465116, 'recal...  0.994595      0.992363   \n",
       "4   {'0': {'precision': 0.9767441860465116, 'recal...  0.994595      0.992363   \n",
       "..                                                ...       ...           ...   \n",
       "91  {'0': {'precision': 0.8888888888888888, 'recal...  0.848649      0.721505   \n",
       "92  {'0': {'precision': 0.8888888888888888, 'recal...  0.848649      0.721505   \n",
       "93  {'0': {'precision': 0.8888888888888888, 'recal...  0.848649      0.721505   \n",
       "94  {'0': {'precision': 0.8888888888888888, 'recal...  0.848649      0.721505   \n",
       "95  {'0': {'precision': 0.8888888888888888, 'recal...  0.848649      0.721505   \n",
       "\n",
       "   data_configurations  \n",
       "0        undersampling  \n",
       "1         oversampling  \n",
       "2        undersampling  \n",
       "3                smote  \n",
       "4        undersampling  \n",
       "..                 ...  \n",
       "91          imbalanced  \n",
       "92          imbalanced  \n",
       "93          imbalanced  \n",
       "94          imbalanced  \n",
       "95          imbalanced  \n",
       "\n",
       "[96 rows x 8 columns]"
      ]
     },
     "execution_count": 88,
     "metadata": {},
     "output_type": "execute_result"
    }
   ],
   "source": [
    "training_res_baseline"
   ]
  },
  {
   "attachments": {},
   "cell_type": "markdown",
   "metadata": {},
   "source": [
    "### Interpretation\n",
    "\n"
   ]
  },
  {
   "cell_type": "code",
   "execution_count": 89,
   "metadata": {},
   "outputs": [
    {
     "name": "stdout",
     "output_type": "stream",
     "text": [
      "From the baseline models, the best accuracy value is 0.9945945945945946\n"
     ]
    }
   ],
   "source": [
    "best_acc = training_res_baseline.loc[0, \"accuracy\"]\n",
    "best_acc\n",
    "print(f\"From the baseline models, the best accuracy value is {best_acc}\")"
   ]
  },
  {
   "attachments": {},
   "cell_type": "markdown",
   "metadata": {},
   "source": [
    "To check the training consistency, I train the models three times.\n",
    "\n",
    "The top 10 performers are:"
   ]
  },
  {
   "cell_type": "code",
   "execution_count": 111,
   "metadata": {},
   "outputs": [
    {
     "data": {
      "text/html": [
       "<div>\n",
       "<style scoped>\n",
       "    .dataframe tbody tr th:only-of-type {\n",
       "        vertical-align: middle;\n",
       "    }\n",
       "\n",
       "    .dataframe tbody tr th {\n",
       "        vertical-align: top;\n",
       "    }\n",
       "\n",
       "    .dataframe thead th {\n",
       "        text-align: right;\n",
       "    }\n",
       "</style>\n",
       "<table border=\"1\" class=\"dataframe\">\n",
       "  <thead>\n",
       "    <tr style=\"text-align: right;\">\n",
       "      <th></th>\n",
       "      <th>model_name</th>\n",
       "      <th>model_uid</th>\n",
       "      <th>training_time</th>\n",
       "      <th>accuracy</th>\n",
       "      <th>data_configurations</th>\n",
       "    </tr>\n",
       "  </thead>\n",
       "  <tbody>\n",
       "    <tr>\n",
       "      <th>0</th>\n",
       "      <td>baseline_model-LogisticRegression</td>\n",
       "      <td>e05af11453e630a63ed660118117c723</td>\n",
       "      <td>0.094299</td>\n",
       "      <td>0.994595</td>\n",
       "      <td>undersampling</td>\n",
       "    </tr>\n",
       "    <tr>\n",
       "      <th>1</th>\n",
       "      <td>baseline_model-LogisticRegression</td>\n",
       "      <td>02acb7ea497911a5608e164a637edcaa</td>\n",
       "      <td>0.095698</td>\n",
       "      <td>0.994595</td>\n",
       "      <td>oversampling</td>\n",
       "    </tr>\n",
       "    <tr>\n",
       "      <th>2</th>\n",
       "      <td>baseline_model-LogisticRegression</td>\n",
       "      <td>5440e5912edd0bd09822f55c663da47f</td>\n",
       "      <td>0.095952</td>\n",
       "      <td>0.994595</td>\n",
       "      <td>undersampling</td>\n",
       "    </tr>\n",
       "    <tr>\n",
       "      <th>3</th>\n",
       "      <td>baseline_model-LogisticRegression</td>\n",
       "      <td>1027e33c5378714ec2063239a894ea4d</td>\n",
       "      <td>0.102869</td>\n",
       "      <td>0.994595</td>\n",
       "      <td>smote</td>\n",
       "    </tr>\n",
       "    <tr>\n",
       "      <th>4</th>\n",
       "      <td>baseline_model-LogisticRegression</td>\n",
       "      <td>a8f8872b8fe56a3e0ac6a9acdaea2b40</td>\n",
       "      <td>0.119912</td>\n",
       "      <td>0.994595</td>\n",
       "      <td>undersampling</td>\n",
       "    </tr>\n",
       "    <tr>\n",
       "      <th>5</th>\n",
       "      <td>baseline_model-LogisticRegression</td>\n",
       "      <td>73a76926f57d85e735e536d85fe0faa8</td>\n",
       "      <td>0.149617</td>\n",
       "      <td>0.994595</td>\n",
       "      <td>smote</td>\n",
       "    </tr>\n",
       "    <tr>\n",
       "      <th>6</th>\n",
       "      <td>baseline_model-GaussianNB</td>\n",
       "      <td>2b0cb3894a2506d3b2dbc2ef3cb80b41</td>\n",
       "      <td>0.152180</td>\n",
       "      <td>0.994595</td>\n",
       "      <td>smote</td>\n",
       "    </tr>\n",
       "    <tr>\n",
       "      <th>7</th>\n",
       "      <td>baseline_model-XGBClassifier</td>\n",
       "      <td>abf611f6eb5072bf6601000702f80605</td>\n",
       "      <td>0.157732</td>\n",
       "      <td>0.994595</td>\n",
       "      <td>smote</td>\n",
       "    </tr>\n",
       "    <tr>\n",
       "      <th>8</th>\n",
       "      <td>baseline_model-GaussianNB</td>\n",
       "      <td>bdafaa46f34c11c6e038257e23e9fa53</td>\n",
       "      <td>0.160388</td>\n",
       "      <td>0.994595</td>\n",
       "      <td>smote</td>\n",
       "    </tr>\n",
       "    <tr>\n",
       "      <th>9</th>\n",
       "      <td>baseline_model-XGBClassifier</td>\n",
       "      <td>ac21222152ec7ff10fc9b901f5202871</td>\n",
       "      <td>0.161019</td>\n",
       "      <td>0.994595</td>\n",
       "      <td>smote</td>\n",
       "    </tr>\n",
       "  </tbody>\n",
       "</table>\n",
       "</div>"
      ],
      "text/plain": [
       "                          model_name                         model_uid  \\\n",
       "0  baseline_model-LogisticRegression  e05af11453e630a63ed660118117c723   \n",
       "1  baseline_model-LogisticRegression  02acb7ea497911a5608e164a637edcaa   \n",
       "2  baseline_model-LogisticRegression  5440e5912edd0bd09822f55c663da47f   \n",
       "3  baseline_model-LogisticRegression  1027e33c5378714ec2063239a894ea4d   \n",
       "4  baseline_model-LogisticRegression  a8f8872b8fe56a3e0ac6a9acdaea2b40   \n",
       "5  baseline_model-LogisticRegression  73a76926f57d85e735e536d85fe0faa8   \n",
       "6          baseline_model-GaussianNB  2b0cb3894a2506d3b2dbc2ef3cb80b41   \n",
       "7       baseline_model-XGBClassifier  abf611f6eb5072bf6601000702f80605   \n",
       "8          baseline_model-GaussianNB  bdafaa46f34c11c6e038257e23e9fa53   \n",
       "9       baseline_model-XGBClassifier  ac21222152ec7ff10fc9b901f5202871   \n",
       "\n",
       "   training_time  accuracy data_configurations  \n",
       "0       0.094299  0.994595       undersampling  \n",
       "1       0.095698  0.994595        oversampling  \n",
       "2       0.095952  0.994595       undersampling  \n",
       "3       0.102869  0.994595               smote  \n",
       "4       0.119912  0.994595       undersampling  \n",
       "5       0.149617  0.994595               smote  \n",
       "6       0.152180  0.994595               smote  \n",
       "7       0.157732  0.994595               smote  \n",
       "8       0.160388  0.994595               smote  \n",
       "9       0.161019  0.994595               smote  "
      ]
     },
     "execution_count": 111,
     "metadata": {},
     "output_type": "execute_result"
    }
   ],
   "source": [
    "training_res_baseline[['model_name', 'model_uid', 'training_time', 'accuracy', 'data_configurations']].head(10)\n"
   ]
  },
  {
   "attachments": {},
   "cell_type": "markdown",
   "metadata": {},
   "source": [
    "The logistic regression is the the best algorithm to predict the outcome with original values predictors, the data configurations are the balanced ones: undersampling, oversampling and SMOTE. "
   ]
  },
  {
   "attachments": {},
   "cell_type": "markdown",
   "metadata": {},
   "source": [
    "## Train and Evaluate the Alternative Models\n",
    "\n",
    "The binned value features are used in the datasets for this model training process. "
   ]
  },
  {
   "attachments": {},
   "cell_type": "markdown",
   "metadata": {},
   "source": [
    "### Original (imbalanced) data\n"
   ]
  },
  {
   "cell_type": "code",
   "execution_count": 91,
   "metadata": {},
   "outputs": [
    {
     "name": "stderr",
     "output_type": "stream",
     "text": [
      "100%|██████████| 8/8 [00:02<00:00,  2.71it/s]\n"
     ]
    }
   ],
   "source": [
    "training_log, list_of_model_imbal = train_eval_model(\n",
    "    list_of_model[\"imbalanced\"],\n",
    "    \"alternative_model\",\n",
    "    x_train_bin,\n",
    "    y_train,\n",
    "    \"imbalanced\",\n",
    "    x_valid_bin,\n",
    "    y_valid,\n",
    "    \"/root/ml_process_feb23/logs/training_log_alternative.json\"\n",
    ")\n",
    "list_of_model[\"imbalanced\"] = copy.deepcopy(list_of_model_imbal)"
   ]
  },
  {
   "cell_type": "code",
   "execution_count": 92,
   "metadata": {},
   "outputs": [],
   "source": [
    "list_of_model[\"imbalanced\"] = copy.deepcopy(list_of_model_imbal)\n"
   ]
  },
  {
   "attachments": {},
   "cell_type": "markdown",
   "metadata": {},
   "source": [
    "### Balanced with undersampling\n"
   ]
  },
  {
   "cell_type": "code",
   "execution_count": 93,
   "metadata": {},
   "outputs": [
    {
     "name": "stderr",
     "output_type": "stream",
     "text": [
      "100%|██████████| 8/8 [00:00<00:00,  8.48it/s]\n"
     ]
    }
   ],
   "source": [
    "training_log, list_of_model_rus = train_eval_model(\n",
    "    list_of_model[\"undersampling\"],\n",
    "    \"alternative_model\",\n",
    "    x_train_rus_bin,\n",
    "    y_train_rus,\n",
    "    \"undersampling\",\n",
    "    x_valid_bin,\n",
    "    y_valid,\n",
    "    \"/root/ml_process_feb23/logs/training_log_alternative.json\"\n",
    ")\n",
    "list_of_model[\"undersampling\"] = copy.deepcopy(list_of_model_rus)\n"
   ]
  },
  {
   "attachments": {},
   "cell_type": "markdown",
   "metadata": {},
   "source": [
    "### Balanced with oversampling\n"
   ]
  },
  {
   "cell_type": "code",
   "execution_count": 94,
   "metadata": {},
   "outputs": [
    {
     "name": "stderr",
     "output_type": "stream",
     "text": [
      "100%|██████████| 8/8 [00:01<00:00,  6.90it/s]\n"
     ]
    }
   ],
   "source": [
    "training_log, list_of_model_ros = train_eval_model(\n",
    "    list_of_model[\"oversampling\"],\n",
    "    \"alternative_model\",\n",
    "    x_train_ros_bin,\n",
    "    y_train_ros,\n",
    "    \"oversampling\",\n",
    "    x_valid_bin,\n",
    "    y_valid,\n",
    "    \"/root/ml_process_feb23/logs/training_log_alternative.json\"\n",
    ")\n",
    "list_of_model[\"oversampling\"] = copy.deepcopy(list_of_model_ros)"
   ]
  },
  {
   "cell_type": "code",
   "execution_count": 95,
   "metadata": {},
   "outputs": [],
   "source": [
    "list_of_model[\"oversampling\"] = copy.deepcopy(list_of_model_ros)\n"
   ]
  },
  {
   "attachments": {},
   "cell_type": "markdown",
   "metadata": {},
   "source": [
    "### Balanced with SMOTE\n"
   ]
  },
  {
   "cell_type": "code",
   "execution_count": 96,
   "metadata": {},
   "outputs": [
    {
     "name": "stderr",
     "output_type": "stream",
     "text": [
      "100%|██████████| 8/8 [00:04<00:00,  1.74it/s]\n"
     ]
    }
   ],
   "source": [
    "training_log, list_of_model_smote = train_eval_model(\n",
    "    list_of_model[\"smote\"],\n",
    "    \"alternative_model\",\n",
    "    x_train_smote_bin,\n",
    "    y_train_smote,\n",
    "    \"smote\",\n",
    "    x_valid_bin,\n",
    "    y_valid,\n",
    "    \"/root/ml_process_feb23/logs/training_log_alternative.json\"\n",
    ")\n",
    "list_of_model[\"smote\"] = copy.deepcopy(list_of_model_smote)"
   ]
  },
  {
   "cell_type": "code",
   "execution_count": 97,
   "metadata": {},
   "outputs": [],
   "source": [
    "list_of_model[\"smote\"] = copy.deepcopy(list_of_model_smote)"
   ]
  },
  {
   "attachments": {},
   "cell_type": "markdown",
   "metadata": {},
   "source": [
    "### Table of models performance\n",
    "\n",
    "Now let's compare the performance from each algorithm and each dataset.\n"
   ]
  },
  {
   "cell_type": "code",
   "execution_count": 98,
   "metadata": {},
   "outputs": [
    {
     "name": "stderr",
     "output_type": "stream",
     "text": [
      "100%|██████████| 12/12 [00:00<00:00, 156.44it/s]\n"
     ]
    }
   ],
   "source": [
    "training_res_alternative = training_log_to_df(training_log)"
   ]
  },
  {
   "cell_type": "code",
   "execution_count": 99,
   "metadata": {},
   "outputs": [
    {
     "data": {
      "text/html": [
       "<div>\n",
       "<style scoped>\n",
       "    .dataframe tbody tr th:only-of-type {\n",
       "        vertical-align: middle;\n",
       "    }\n",
       "\n",
       "    .dataframe tbody tr th {\n",
       "        vertical-align: top;\n",
       "    }\n",
       "\n",
       "    .dataframe thead th {\n",
       "        text-align: right;\n",
       "    }\n",
       "</style>\n",
       "<table border=\"1\" class=\"dataframe\">\n",
       "  <thead>\n",
       "    <tr style=\"text-align: right;\">\n",
       "      <th></th>\n",
       "      <th>model_name</th>\n",
       "      <th>model_uid</th>\n",
       "      <th>training_time</th>\n",
       "      <th>training_date</th>\n",
       "      <th>performance</th>\n",
       "      <th>accuracy</th>\n",
       "      <th>f1_score_avg</th>\n",
       "      <th>data_configurations</th>\n",
       "    </tr>\n",
       "  </thead>\n",
       "  <tbody>\n",
       "    <tr>\n",
       "      <th>0</th>\n",
       "      <td>alternative_model-DecisionTreeClassifier</td>\n",
       "      <td>2e9a4d936f813b2e5c239e3e076a28b7</td>\n",
       "      <td>0.005874</td>\n",
       "      <td>2023-04-17 13:19:58.598995</td>\n",
       "      <td>{'0': {'precision': 1.0, 'recall': 1.0, 'f1-sc...</td>\n",
       "      <td>1.000000</td>\n",
       "      <td>1.000000</td>\n",
       "      <td>oversampling</td>\n",
       "    </tr>\n",
       "    <tr>\n",
       "      <th>1</th>\n",
       "      <td>alternative_model-DecisionTreeClassifier</td>\n",
       "      <td>67f7789896ef0951df244a38a78ddac4</td>\n",
       "      <td>0.008243</td>\n",
       "      <td>2023-04-17 13:34:00.381831</td>\n",
       "      <td>{'0': {'precision': 1.0, 'recall': 1.0, 'f1-sc...</td>\n",
       "      <td>1.000000</td>\n",
       "      <td>1.000000</td>\n",
       "      <td>oversampling</td>\n",
       "    </tr>\n",
       "    <tr>\n",
       "      <th>2</th>\n",
       "      <td>alternative_model-SVC</td>\n",
       "      <td>6fc9745629c93cb863a0f910c15df548</td>\n",
       "      <td>0.008293</td>\n",
       "      <td>2023-04-17 13:34:00.363779</td>\n",
       "      <td>{'0': {'precision': 1.0, 'recall': 1.0, 'f1-sc...</td>\n",
       "      <td>1.000000</td>\n",
       "      <td>1.000000</td>\n",
       "      <td>oversampling</td>\n",
       "    </tr>\n",
       "    <tr>\n",
       "      <th>3</th>\n",
       "      <td>alternative_model-DecisionTreeClassifier</td>\n",
       "      <td>4107460a3a5a4b077169426d7e0a2c5d</td>\n",
       "      <td>0.009116</td>\n",
       "      <td>2023-04-17 13:34:03.173881</td>\n",
       "      <td>{'0': {'precision': 1.0, 'recall': 1.0, 'f1-sc...</td>\n",
       "      <td>1.000000</td>\n",
       "      <td>1.000000</td>\n",
       "      <td>smote</td>\n",
       "    </tr>\n",
       "    <tr>\n",
       "      <th>4</th>\n",
       "      <td>alternative_model-SVC</td>\n",
       "      <td>112fed117c5e698c780a8a9cbc5e2729</td>\n",
       "      <td>0.009574</td>\n",
       "      <td>2023-04-17 13:19:58.573691</td>\n",
       "      <td>{'0': {'precision': 1.0, 'recall': 1.0, 'f1-sc...</td>\n",
       "      <td>1.000000</td>\n",
       "      <td>1.000000</td>\n",
       "      <td>oversampling</td>\n",
       "    </tr>\n",
       "    <tr>\n",
       "      <th>...</th>\n",
       "      <td>...</td>\n",
       "      <td>...</td>\n",
       "      <td>...</td>\n",
       "      <td>...</td>\n",
       "      <td>...</td>\n",
       "      <td>...</td>\n",
       "      <td>...</td>\n",
       "      <td>...</td>\n",
       "    </tr>\n",
       "    <tr>\n",
       "      <th>91</th>\n",
       "      <td>alternative_model-XGBClassifier</td>\n",
       "      <td>c1e1ba894db655fd3c98a78d1c5ee406</td>\n",
       "      <td>0.066607</td>\n",
       "      <td>2023-04-17 13:19:56.269863</td>\n",
       "      <td>{'0': {'precision': 0.972972972972973, 'recall...</td>\n",
       "      <td>0.962162</td>\n",
       "      <td>0.943669</td>\n",
       "      <td>imbalanced</td>\n",
       "    </tr>\n",
       "    <tr>\n",
       "      <th>92</th>\n",
       "      <td>alternative_model-GaussianNB</td>\n",
       "      <td>261286d0e432525018d1710aa4837205</td>\n",
       "      <td>0.233045</td>\n",
       "      <td>2023-04-17 13:33:56.803241</td>\n",
       "      <td>{'0': {'precision': 0.972972972972973, 'recall...</td>\n",
       "      <td>0.962162</td>\n",
       "      <td>0.943669</td>\n",
       "      <td>imbalanced</td>\n",
       "    </tr>\n",
       "    <tr>\n",
       "      <th>93</th>\n",
       "      <td>alternative_model-XGBClassifier</td>\n",
       "      <td>201d0651c97b0c540b145493d9a2cc1d</td>\n",
       "      <td>0.293331</td>\n",
       "      <td>2023-04-17 13:33:56.437338</td>\n",
       "      <td>{'0': {'precision': 0.972972972972973, 'recall...</td>\n",
       "      <td>0.962162</td>\n",
       "      <td>0.943669</td>\n",
       "      <td>imbalanced</td>\n",
       "    </tr>\n",
       "    <tr>\n",
       "      <th>94</th>\n",
       "      <td>alternative_model-GaussianNB</td>\n",
       "      <td>27ee60d9debce268964378228c9d4923</td>\n",
       "      <td>0.398659</td>\n",
       "      <td>2023-04-17 13:35:01.389485</td>\n",
       "      <td>{'0': {'precision': 0.972972972972973, 'recall...</td>\n",
       "      <td>0.962162</td>\n",
       "      <td>0.943669</td>\n",
       "      <td>imbalanced</td>\n",
       "    </tr>\n",
       "    <tr>\n",
       "      <th>95</th>\n",
       "      <td>alternative_model-XGBClassifier</td>\n",
       "      <td>351c00970828468b8f92f50898a0c5cd</td>\n",
       "      <td>0.756487</td>\n",
       "      <td>2023-04-17 13:35:00.567235</td>\n",
       "      <td>{'0': {'precision': 0.972972972972973, 'recall...</td>\n",
       "      <td>0.962162</td>\n",
       "      <td>0.943669</td>\n",
       "      <td>imbalanced</td>\n",
       "    </tr>\n",
       "  </tbody>\n",
       "</table>\n",
       "<p>96 rows × 8 columns</p>\n",
       "</div>"
      ],
      "text/plain": [
       "                                  model_name  \\\n",
       "0   alternative_model-DecisionTreeClassifier   \n",
       "1   alternative_model-DecisionTreeClassifier   \n",
       "2                      alternative_model-SVC   \n",
       "3   alternative_model-DecisionTreeClassifier   \n",
       "4                      alternative_model-SVC   \n",
       "..                                       ...   \n",
       "91           alternative_model-XGBClassifier   \n",
       "92              alternative_model-GaussianNB   \n",
       "93           alternative_model-XGBClassifier   \n",
       "94              alternative_model-GaussianNB   \n",
       "95           alternative_model-XGBClassifier   \n",
       "\n",
       "                           model_uid  training_time  \\\n",
       "0   2e9a4d936f813b2e5c239e3e076a28b7       0.005874   \n",
       "1   67f7789896ef0951df244a38a78ddac4       0.008243   \n",
       "2   6fc9745629c93cb863a0f910c15df548       0.008293   \n",
       "3   4107460a3a5a4b077169426d7e0a2c5d       0.009116   \n",
       "4   112fed117c5e698c780a8a9cbc5e2729       0.009574   \n",
       "..                               ...            ...   \n",
       "91  c1e1ba894db655fd3c98a78d1c5ee406       0.066607   \n",
       "92  261286d0e432525018d1710aa4837205       0.233045   \n",
       "93  201d0651c97b0c540b145493d9a2cc1d       0.293331   \n",
       "94  27ee60d9debce268964378228c9d4923       0.398659   \n",
       "95  351c00970828468b8f92f50898a0c5cd       0.756487   \n",
       "\n",
       "                 training_date  \\\n",
       "0   2023-04-17 13:19:58.598995   \n",
       "1   2023-04-17 13:34:00.381831   \n",
       "2   2023-04-17 13:34:00.363779   \n",
       "3   2023-04-17 13:34:03.173881   \n",
       "4   2023-04-17 13:19:58.573691   \n",
       "..                         ...   \n",
       "91  2023-04-17 13:19:56.269863   \n",
       "92  2023-04-17 13:33:56.803241   \n",
       "93  2023-04-17 13:33:56.437338   \n",
       "94  2023-04-17 13:35:01.389485   \n",
       "95  2023-04-17 13:35:00.567235   \n",
       "\n",
       "                                          performance  accuracy  f1_score_avg  \\\n",
       "0   {'0': {'precision': 1.0, 'recall': 1.0, 'f1-sc...  1.000000      1.000000   \n",
       "1   {'0': {'precision': 1.0, 'recall': 1.0, 'f1-sc...  1.000000      1.000000   \n",
       "2   {'0': {'precision': 1.0, 'recall': 1.0, 'f1-sc...  1.000000      1.000000   \n",
       "3   {'0': {'precision': 1.0, 'recall': 1.0, 'f1-sc...  1.000000      1.000000   \n",
       "4   {'0': {'precision': 1.0, 'recall': 1.0, 'f1-sc...  1.000000      1.000000   \n",
       "..                                                ...       ...           ...   \n",
       "91  {'0': {'precision': 0.972972972972973, 'recall...  0.962162      0.943669   \n",
       "92  {'0': {'precision': 0.972972972972973, 'recall...  0.962162      0.943669   \n",
       "93  {'0': {'precision': 0.972972972972973, 'recall...  0.962162      0.943669   \n",
       "94  {'0': {'precision': 0.972972972972973, 'recall...  0.962162      0.943669   \n",
       "95  {'0': {'precision': 0.972972972972973, 'recall...  0.962162      0.943669   \n",
       "\n",
       "   data_configurations  \n",
       "0         oversampling  \n",
       "1         oversampling  \n",
       "2         oversampling  \n",
       "3                smote  \n",
       "4         oversampling  \n",
       "..                 ...  \n",
       "91          imbalanced  \n",
       "92          imbalanced  \n",
       "93          imbalanced  \n",
       "94          imbalanced  \n",
       "95          imbalanced  \n",
       "\n",
       "[96 rows x 8 columns]"
      ]
     },
     "execution_count": 99,
     "metadata": {},
     "output_type": "execute_result"
    }
   ],
   "source": [
    "training_res_alternative"
   ]
  },
  {
   "attachments": {},
   "cell_type": "markdown",
   "metadata": {},
   "source": [
    "### Interpretation"
   ]
  },
  {
   "cell_type": "code",
   "execution_count": 112,
   "metadata": {},
   "outputs": [
    {
     "name": "stdout",
     "output_type": "stream",
     "text": [
      "From the baseline models, the best accuracy value is 1.0\n"
     ]
    }
   ],
   "source": [
    "best_acc = training_res_alternative.loc[0, \"accuracy\"]\n",
    "best_acc\n",
    "print(f\"From the baseline models, the best accuracy value is {best_acc}\")"
   ]
  },
  {
   "cell_type": "markdown",
   "metadata": {},
   "source": [
    "To check the training consistency, I train the models three times.\n",
    "\n",
    "The top 10 performers are:"
   ]
  },
  {
   "cell_type": "code",
   "execution_count": 113,
   "metadata": {},
   "outputs": [
    {
     "data": {
      "text/html": [
       "<div>\n",
       "<style scoped>\n",
       "    .dataframe tbody tr th:only-of-type {\n",
       "        vertical-align: middle;\n",
       "    }\n",
       "\n",
       "    .dataframe tbody tr th {\n",
       "        vertical-align: top;\n",
       "    }\n",
       "\n",
       "    .dataframe thead th {\n",
       "        text-align: right;\n",
       "    }\n",
       "</style>\n",
       "<table border=\"1\" class=\"dataframe\">\n",
       "  <thead>\n",
       "    <tr style=\"text-align: right;\">\n",
       "      <th></th>\n",
       "      <th>model_name</th>\n",
       "      <th>model_uid</th>\n",
       "      <th>training_time</th>\n",
       "      <th>accuracy</th>\n",
       "      <th>data_configurations</th>\n",
       "    </tr>\n",
       "  </thead>\n",
       "  <tbody>\n",
       "    <tr>\n",
       "      <th>0</th>\n",
       "      <td>alternative_model-DecisionTreeClassifier</td>\n",
       "      <td>2e9a4d936f813b2e5c239e3e076a28b7</td>\n",
       "      <td>0.005874</td>\n",
       "      <td>1.0</td>\n",
       "      <td>oversampling</td>\n",
       "    </tr>\n",
       "    <tr>\n",
       "      <th>1</th>\n",
       "      <td>alternative_model-DecisionTreeClassifier</td>\n",
       "      <td>67f7789896ef0951df244a38a78ddac4</td>\n",
       "      <td>0.008243</td>\n",
       "      <td>1.0</td>\n",
       "      <td>oversampling</td>\n",
       "    </tr>\n",
       "    <tr>\n",
       "      <th>2</th>\n",
       "      <td>alternative_model-SVC</td>\n",
       "      <td>6fc9745629c93cb863a0f910c15df548</td>\n",
       "      <td>0.008293</td>\n",
       "      <td>1.0</td>\n",
       "      <td>oversampling</td>\n",
       "    </tr>\n",
       "    <tr>\n",
       "      <th>3</th>\n",
       "      <td>alternative_model-DecisionTreeClassifier</td>\n",
       "      <td>4107460a3a5a4b077169426d7e0a2c5d</td>\n",
       "      <td>0.009116</td>\n",
       "      <td>1.0</td>\n",
       "      <td>smote</td>\n",
       "    </tr>\n",
       "    <tr>\n",
       "      <th>4</th>\n",
       "      <td>alternative_model-SVC</td>\n",
       "      <td>112fed117c5e698c780a8a9cbc5e2729</td>\n",
       "      <td>0.009574</td>\n",
       "      <td>1.0</td>\n",
       "      <td>oversampling</td>\n",
       "    </tr>\n",
       "    <tr>\n",
       "      <th>5</th>\n",
       "      <td>alternative_model-SVC</td>\n",
       "      <td>e81c7f59194947ca379ecd064950b0a6</td>\n",
       "      <td>0.010521</td>\n",
       "      <td>1.0</td>\n",
       "      <td>oversampling</td>\n",
       "    </tr>\n",
       "    <tr>\n",
       "      <th>6</th>\n",
       "      <td>alternative_model-SVC</td>\n",
       "      <td>e67c5a7e00d7b7232bf5973cfb2424c4</td>\n",
       "      <td>0.011947</td>\n",
       "      <td>1.0</td>\n",
       "      <td>smote</td>\n",
       "    </tr>\n",
       "    <tr>\n",
       "      <th>7</th>\n",
       "      <td>alternative_model-SVC</td>\n",
       "      <td>eb15c01c32c5c491226c35f0213bc4a1</td>\n",
       "      <td>0.012244</td>\n",
       "      <td>1.0</td>\n",
       "      <td>smote</td>\n",
       "    </tr>\n",
       "    <tr>\n",
       "      <th>8</th>\n",
       "      <td>alternative_model-DecisionTreeClassifier</td>\n",
       "      <td>238ec3359a40cc2b5a8b1e9c32ef38ca</td>\n",
       "      <td>0.013324</td>\n",
       "      <td>1.0</td>\n",
       "      <td>oversampling</td>\n",
       "    </tr>\n",
       "    <tr>\n",
       "      <th>9</th>\n",
       "      <td>alternative_model-DecisionTreeClassifier</td>\n",
       "      <td>bef9b5037cdba9a47c8785cb465c0642</td>\n",
       "      <td>0.016101</td>\n",
       "      <td>1.0</td>\n",
       "      <td>smote</td>\n",
       "    </tr>\n",
       "  </tbody>\n",
       "</table>\n",
       "</div>"
      ],
      "text/plain": [
       "                                 model_name                         model_uid  \\\n",
       "0  alternative_model-DecisionTreeClassifier  2e9a4d936f813b2e5c239e3e076a28b7   \n",
       "1  alternative_model-DecisionTreeClassifier  67f7789896ef0951df244a38a78ddac4   \n",
       "2                     alternative_model-SVC  6fc9745629c93cb863a0f910c15df548   \n",
       "3  alternative_model-DecisionTreeClassifier  4107460a3a5a4b077169426d7e0a2c5d   \n",
       "4                     alternative_model-SVC  112fed117c5e698c780a8a9cbc5e2729   \n",
       "5                     alternative_model-SVC  e81c7f59194947ca379ecd064950b0a6   \n",
       "6                     alternative_model-SVC  e67c5a7e00d7b7232bf5973cfb2424c4   \n",
       "7                     alternative_model-SVC  eb15c01c32c5c491226c35f0213bc4a1   \n",
       "8  alternative_model-DecisionTreeClassifier  238ec3359a40cc2b5a8b1e9c32ef38ca   \n",
       "9  alternative_model-DecisionTreeClassifier  bef9b5037cdba9a47c8785cb465c0642   \n",
       "\n",
       "   training_time  accuracy data_configurations  \n",
       "0       0.005874       1.0        oversampling  \n",
       "1       0.008243       1.0        oversampling  \n",
       "2       0.008293       1.0        oversampling  \n",
       "3       0.009116       1.0               smote  \n",
       "4       0.009574       1.0        oversampling  \n",
       "5       0.010521       1.0        oversampling  \n",
       "6       0.011947       1.0               smote  \n",
       "7       0.012244       1.0               smote  \n",
       "8       0.013324       1.0        oversampling  \n",
       "9       0.016101       1.0               smote  "
      ]
     },
     "execution_count": 113,
     "metadata": {},
     "output_type": "execute_result"
    }
   ],
   "source": [
    "training_res_alternative[['model_name', 'model_uid', 'training_time', 'accuracy', 'data_configurations']].head(10)"
   ]
  },
  {
   "attachments": {},
   "cell_type": "markdown",
   "metadata": {},
   "source": [
    "Since the best model accuracy in the alternative models is perfect, I will not do any hyperparameter tuning."
   ]
  },
  {
   "attachments": {},
   "cell_type": "markdown",
   "metadata": {},
   "source": [
    "## Best Models"
   ]
  },
  {
   "attachments": {},
   "cell_type": "markdown",
   "metadata": {},
   "source": [
    "I will compare the best models to predict the outcome with binned values predictors, the alternative models.\n",
    "\n",
    "The algortithms are: Support Vector Machine and Decision Tree Classifier with both balanced data configuration by methods: oversampling and SMOTE."
   ]
  },
  {
   "cell_type": "code",
   "execution_count": 117,
   "metadata": {},
   "outputs": [],
   "source": [
    "# Create model fitting for each algorithm and data configuration\n",
    "\n",
    "svm_over = svm.fit(x_train_ros_bin, y_train_ros)\n",
    "svm_smote = svm.fit(x_train_smote_bin, y_train_smote)\n",
    "\n",
    "dct_over = dct.fit(x_train_ros_bin, y_train_ros)\n",
    "dct_smote = dct.fit(x_train_smote_bin, y_train_smote)"
   ]
  },
  {
   "attachments": {},
   "cell_type": "markdown",
   "metadata": {},
   "source": [
    "### Metrics Analysis and Evaluation\n",
    "\n",
    "After choosing the best models, let's check the confusion matrices and classification reports to analyze the models. "
   ]
  },
  {
   "attachments": {},
   "cell_type": "markdown",
   "metadata": {},
   "source": [
    "#### Support Vector Machine with Oversampling Data"
   ]
  },
  {
   "cell_type": "code",
   "execution_count": 146,
   "metadata": {},
   "outputs": [
    {
     "name": "stdout",
     "output_type": "stream",
     "text": [
      "              precision    recall  f1-score   support\n",
      "\n",
      "           0       0.98      1.00      0.99        42\n",
      "           1       1.00      0.99      1.00       143\n",
      "\n",
      "    accuracy                           0.99       185\n",
      "   macro avg       0.99      1.00      0.99       185\n",
      "weighted avg       0.99      0.99      0.99       185\n",
      "\n"
     ]
    },
    {
     "data": {
      "image/png": "[encoded data removed]",
      "text/plain": [
       "<Figure size 640x480 with 2 Axes>"
      ]
     },
     "metadata": {},
     "output_type": "display_data"
    }
   ],
   "source": [
    "# Run the model on the validation data\n",
    "\n",
    "y_pred = svm_over.predict(x_valid_bin)\n",
    "\n",
    "report_on_valid = classification_report(y_valid, y_pred, output_dict = True)\n",
    "\n",
    "ConfusionMatrixDisplay.from_predictions(y_valid, y_pred)\n",
    "print(classification_report(y_valid, y_pred))\n"
   ]
  },
  {
   "cell_type": "code",
   "execution_count": 147,
   "metadata": {},
   "outputs": [
    {
     "name": "stdout",
     "output_type": "stream",
     "text": [
      "              precision    recall  f1-score   support\n",
      "\n",
      "           0       0.91      1.00      0.95        50\n",
      "           1       1.00      0.97      0.99       174\n",
      "\n",
      "    accuracy                           0.98       224\n",
      "   macro avg       0.95      0.99      0.97       224\n",
      "weighted avg       0.98      0.98      0.98       224\n",
      "\n"
     ]
    },
    {
     "data": {
      "image/png": "[encoded data removed]",
      "text/plain": [
       "<Figure size 640x480 with 2 Axes>"
      ]
     },
     "metadata": {},
     "output_type": "display_data"
    }
   ],
   "source": [
    "# Run the model on the test data\n",
    "\n",
    "y_pred = svm_over.predict(x_test_bin)\n",
    "\n",
    "report_on_test = classification_report(y_test, y_pred, output_dict = True)\n",
    "\n",
    "ConfusionMatrixDisplay.from_predictions(y_test, y_pred)\n",
    "print(classification_report(y_test, y_pred))"
   ]
  },
  {
   "cell_type": "code",
   "execution_count": 148,
   "metadata": {},
   "outputs": [
    {
     "name": "stdout",
     "output_type": "stream",
     "text": [
      "The accuracy score difference between testing and validation datasets is: -0.016916\n"
     ]
    }
   ],
   "source": [
    "acc_on_valid = report_on_valid[\"accuracy\"]\n",
    "acc_on_valid\n",
    "\n",
    "acc_on_test = report_on_test[\"accuracy\"]\n",
    "acc_on_test\n",
    "\n",
    "print(f\"The accuracy score difference between testing and validation datasets is: {round(acc_on_test - acc_on_valid, 6)}\")"
   ]
  },
  {
   "attachments": {},
   "cell_type": "markdown",
   "metadata": {},
   "source": [
    "#### Support Vector Machine with SMOTE Data"
   ]
  },
  {
   "cell_type": "code",
   "execution_count": 149,
   "metadata": {},
   "outputs": [
    {
     "name": "stdout",
     "output_type": "stream",
     "text": [
      "              precision    recall  f1-score   support\n",
      "\n",
      "           0       0.98      1.00      0.99        42\n",
      "           1       1.00      0.99      1.00       143\n",
      "\n",
      "    accuracy                           0.99       185\n",
      "   macro avg       0.99      1.00      0.99       185\n",
      "weighted avg       0.99      0.99      0.99       185\n",
      "\n"
     ]
    },
    {
     "data": {
      "image/png": "[encoded data removed]",
      "text/plain": [
       "<Figure size 640x480 with 2 Axes>"
      ]
     },
     "metadata": {},
     "output_type": "display_data"
    }
   ],
   "source": [
    "# Run the model on the validation data\n",
    "\n",
    "y_pred = svm_smote.predict(x_valid_bin)\n",
    "\n",
    "report_on_valid = classification_report(y_valid, y_pred, output_dict = True)\n",
    "\n",
    "ConfusionMatrixDisplay.from_predictions(y_valid, y_pred)\n",
    "print(classification_report(y_valid, y_pred))\n"
   ]
  },
  {
   "cell_type": "code",
   "execution_count": 150,
   "metadata": {},
   "outputs": [
    {
     "name": "stdout",
     "output_type": "stream",
     "text": [
      "              precision    recall  f1-score   support\n",
      "\n",
      "           0       0.91      1.00      0.95        50\n",
      "           1       1.00      0.97      0.99       174\n",
      "\n",
      "    accuracy                           0.98       224\n",
      "   macro avg       0.95      0.99      0.97       224\n",
      "weighted avg       0.98      0.98      0.98       224\n",
      "\n"
     ]
    },
    {
     "data": {
      "image/png": "[encoded data removed]",
      "text/plain": [
       "<Figure size 640x480 with 2 Axes>"
      ]
     },
     "metadata": {},
     "output_type": "display_data"
    }
   ],
   "source": [
    "# Run the model on the test data\n",
    "\n",
    "y_pred = svm_smote.predict(x_test_bin)\n",
    "\n",
    "report_on_test = classification_report(y_test, y_pred, output_dict = True)\n",
    "\n",
    "ConfusionMatrixDisplay.from_predictions(y_test, y_pred)\n",
    "print(classification_report(y_test, y_pred))"
   ]
  },
  {
   "cell_type": "code",
   "execution_count": 151,
   "metadata": {},
   "outputs": [
    {
     "name": "stdout",
     "output_type": "stream",
     "text": [
      "The accuracy score difference between testing and validation datasets is: -0.016916\n"
     ]
    }
   ],
   "source": [
    "acc_on_valid = report_on_valid[\"accuracy\"]\n",
    "acc_on_valid\n",
    "\n",
    "acc_on_test = report_on_test[\"accuracy\"]\n",
    "acc_on_test\n",
    "\n",
    "print(f\"The accuracy score difference between testing and validation datasets is: {round(acc_on_test - acc_on_valid, 6)}\")"
   ]
  },
  {
   "attachments": {},
   "cell_type": "markdown",
   "metadata": {},
   "source": [
    "#### Decision Tree Classifier with Oversampling Data"
   ]
  },
  {
   "cell_type": "code",
   "execution_count": 152,
   "metadata": {},
   "outputs": [
    {
     "name": "stdout",
     "output_type": "stream",
     "text": [
      "              precision    recall  f1-score   support\n",
      "\n",
      "           0       1.00      1.00      1.00        42\n",
      "           1       1.00      1.00      1.00       143\n",
      "\n",
      "    accuracy                           1.00       185\n",
      "   macro avg       1.00      1.00      1.00       185\n",
      "weighted avg       1.00      1.00      1.00       185\n",
      "\n"
     ]
    },
    {
     "data": {
      "image/png": "[encoded data removed]",
      "text/plain": [
       "<Figure size 640x480 with 2 Axes>"
      ]
     },
     "metadata": {},
     "output_type": "display_data"
    }
   ],
   "source": [
    "# Run the model on the validation data\n",
    "\n",
    "y_pred = dct_over.predict(x_valid_bin)\n",
    "\n",
    "report_on_valid = classification_report(y_valid, y_pred, output_dict = True)\n",
    "\n",
    "ConfusionMatrixDisplay.from_predictions(y_valid, y_pred)\n",
    "print(classification_report(y_valid, y_pred))\n"
   ]
  },
  {
   "cell_type": "code",
   "execution_count": 153,
   "metadata": {},
   "outputs": [
    {
     "name": "stdout",
     "output_type": "stream",
     "text": [
      "              precision    recall  f1-score   support\n",
      "\n",
      "           0       0.91      0.96      0.93        50\n",
      "           1       0.99      0.97      0.98       174\n",
      "\n",
      "    accuracy                           0.97       224\n",
      "   macro avg       0.95      0.97      0.96       224\n",
      "weighted avg       0.97      0.97      0.97       224\n",
      "\n"
     ]
    },
    {
     "data": {
      "image/png": "[encoded data removed]",
      "text/plain": [
       "<Figure size 640x480 with 2 Axes>"
      ]
     },
     "metadata": {},
     "output_type": "display_data"
    }
   ],
   "source": [
    "# Run the model on the test data\n",
    "\n",
    "y_pred = dct_over.predict(x_test_bin)\n",
    "\n",
    "report_on_test = classification_report(y_test, y_pred, output_dict = True)\n",
    "\n",
    "ConfusionMatrixDisplay.from_predictions(y_test, y_pred)\n",
    "print(classification_report(y_test, y_pred))"
   ]
  },
  {
   "cell_type": "code",
   "execution_count": 154,
   "metadata": {},
   "outputs": [
    {
     "name": "stdout",
     "output_type": "stream",
     "text": [
      "The accuracy score difference between testing and validation datasets is: -0.03125\n"
     ]
    }
   ],
   "source": [
    "acc_on_valid = report_on_valid[\"accuracy\"]\n",
    "acc_on_valid\n",
    "\n",
    "acc_on_test = report_on_test[\"accuracy\"]\n",
    "acc_on_test\n",
    "\n",
    "print(f\"The accuracy score difference between testing and validation datasets is: {round(acc_on_test - acc_on_valid, 6)}\")"
   ]
  },
  {
   "attachments": {},
   "cell_type": "markdown",
   "metadata": {},
   "source": [
    "#### Decision Tree Classifier with SMOTE Data"
   ]
  },
  {
   "cell_type": "code",
   "execution_count": 155,
   "metadata": {},
   "outputs": [
    {
     "name": "stdout",
     "output_type": "stream",
     "text": [
      "              precision    recall  f1-score   support\n",
      "\n",
      "           0       1.00      1.00      1.00        42\n",
      "           1       1.00      1.00      1.00       143\n",
      "\n",
      "    accuracy                           1.00       185\n",
      "   macro avg       1.00      1.00      1.00       185\n",
      "weighted avg       1.00      1.00      1.00       185\n",
      "\n"
     ]
    },
    {
     "data": {
      "image/png": "[encoded data removed]",
      "text/plain": [
       "<Figure size 640x480 with 2 Axes>"
      ]
     },
     "metadata": {},
     "output_type": "display_data"
    }
   ],
   "source": [
    "# Run the model on the validation data\n",
    "\n",
    "y_pred = dct_smote.predict(x_valid_bin)\n",
    "\n",
    "report_on_valid = classification_report(y_valid, y_pred, output_dict = True)\n",
    "\n",
    "ConfusionMatrixDisplay.from_predictions(y_valid, y_pred)\n",
    "print(classification_report(y_valid, y_pred))\n"
   ]
  },
  {
   "cell_type": "code",
   "execution_count": 156,
   "metadata": {},
   "outputs": [
    {
     "name": "stdout",
     "output_type": "stream",
     "text": [
      "              precision    recall  f1-score   support\n",
      "\n",
      "           0       0.91      0.96      0.93        50\n",
      "           1       0.99      0.97      0.98       174\n",
      "\n",
      "    accuracy                           0.97       224\n",
      "   macro avg       0.95      0.97      0.96       224\n",
      "weighted avg       0.97      0.97      0.97       224\n",
      "\n"
     ]
    },
    {
     "data": {
      "image/png": "[encoded data removed]",
      "text/plain": [
       "<Figure size 640x480 with 2 Axes>"
      ]
     },
     "metadata": {},
     "output_type": "display_data"
    }
   ],
   "source": [
    "# Run the model on the test data\n",
    "\n",
    "y_pred = dct_smote.predict(x_test_bin)\n",
    "\n",
    "report_on_test = classification_report(y_test, y_pred, output_dict = True)\n",
    "\n",
    "ConfusionMatrixDisplay.from_predictions(y_test, y_pred)\n",
    "print(classification_report(y_test, y_pred))"
   ]
  },
  {
   "cell_type": "code",
   "execution_count": 157,
   "metadata": {},
   "outputs": [
    {
     "name": "stdout",
     "output_type": "stream",
     "text": [
      "The accuracy score difference between testing and validation datasets is: -0.03125\n"
     ]
    }
   ],
   "source": [
    "acc_on_valid = report_on_valid[\"accuracy\"]\n",
    "acc_on_valid\n",
    "\n",
    "acc_on_test = report_on_test[\"accuracy\"]\n",
    "acc_on_test\n",
    "\n",
    "print(f\"The accuracy score difference between testing and validation datasets is: {round(acc_on_test - acc_on_valid, 6)}\")"
   ]
  },
  {
   "cell_type": "markdown",
   "metadata": {},
   "source": [
    "In credit card approval prediction, it is crucial to predict correctly the **accuracy score**, which means the machine learning model is able to predict the approval status of the applications as approved that originally got approved, and vice versa.\n",
    "\n",
    "If the defect in credit card approval prediction can be kept at a very low level, the credit card issuer will not have a problem handling the credit default status."
   ]
  },
  {
   "cell_type": "code",
   "execution_count": null,
   "metadata": {},
   "outputs": [
    {
     "name": "stdout",
     "output_type": "stream",
     "text": [
      "The accuracy score on validation datasets is: 1.0,\n",
      "which is considered a high score\n"
     ]
    }
   ],
   "source": [
    "report_on_valid = classification_report(y_valid, y_pred, output_dict = True)\n",
    "acc_on_valid = report_on_valid[\"accuracy\"]\n",
    "\n",
    "print(f\"The accuracy score on validation datasets is: {round(acc_on_valid, 6)},\\nwhich is considered a high score\")"
   ]
  },
  {
   "attachments": {},
   "cell_type": "markdown",
   "metadata": {},
   "source": [
    "## Conclusion"
   ]
  },
  {
   "attachments": {},
   "cell_type": "markdown",
   "metadata": {},
   "source": [
    "In credit card approval prediction, it is crucial to predict correctly the **accuracy score**, which means the machine learning model is able to predict the approval status of the applications as approved that originally got approved, and vice versa.\n",
    "\n",
    "\n",
    "If the defect in credit card approval prediction can be kept at a very low level, the credit card issuer will not have a problem handling the credit default status.\n",
    "\n",
    "Both of the algorithm used to train the model, Support Vector Machine (SVM) and Decision Tree Classifier(DTC), have a decreased accuracy score when running the test dataset compare to the validation dataset.\n",
    "\n",
    "The difference in the SVM algorithm is smaller, so it means the algorithm is more stable than the other.\n",
    "\n",
    "Even the training time for SVM is not the fastest one, I decide to choose the model stability than the speed.\n",
    "\n",
    "The oversampling data configuration results the faster training time, so I decide to use the **SVM with oversampling data** configuration to bulid the machine learning model in this problem."
   ]
  },
  {
   "cell_type": "code",
   "execution_count": 158,
   "metadata": {},
   "outputs": [],
   "source": [
    "# Save the best model\n",
    "utils.pkl_dump(best_model, config[\"production_model_path\"])\n"
   ]
  }
 ],
 "metadata": {
  "kernelspec": {
   "display_name": "venv2",
   "language": "python",
   "name": "python3"
  },
  "language_info": {
   "codemirror_mode": {
    "name": "ipython",
    "version": 3
   },
   "file_extension": ".py",
   "mimetype": "text/x-python",
   "name": "python",
   "nbconvert_exporter": "python",
   "pygments_lexer": "ipython3",
   "version": "3.8.10"
  },
  "orig_nbformat": 4,
  "vscode": {
   "interpreter": {
    "hash": "4372300a058c3c7af6fc5d0912ae3184a1f34df86a045297a4ccc6fb51ceb69c"
   }
  }
 },
 "nbformat": 4,
 "nbformat_minor": 2
}

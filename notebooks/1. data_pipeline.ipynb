{
 "cells": [
  {
   "attachments": {},
   "cell_type": "markdown",
   "metadata": {},
   "source": [
    "# Libraries, Modules, and Configuration File"
   ]
  },
  {
   "cell_type": "code",
   "execution_count": 2,
   "metadata": {},
   "outputs": [],
   "source": [
    "import pandas as pd\n",
    "import sys\n",
    "sys.path.append('/root/ml_process_feb23/')\n",
    "import src.util as utils\n",
    "config = utils.load_config()\n",
    "from sklearn.model_selection import train_test_split"
   ]
  },
  {
   "attachments": {},
   "cell_type": "markdown",
   "metadata": {},
   "source": [
    "# Data Collection"
   ]
  },
  {
   "cell_type": "code",
   "execution_count": 3,
   "metadata": {},
   "outputs": [
    {
     "data": {
      "text/html": [
       "<div>\n",
       "<style scoped>\n",
       "    .dataframe tbody tr th:only-of-type {\n",
       "        vertical-align: middle;\n",
       "    }\n",
       "\n",
       "    .dataframe tbody tr th {\n",
       "        vertical-align: top;\n",
       "    }\n",
       "\n",
       "    .dataframe thead th {\n",
       "        text-align: right;\n",
       "    }\n",
       "</style>\n",
       "<table border=\"1\" class=\"dataframe\">\n",
       "  <thead>\n",
       "    <tr style=\"text-align: right;\">\n",
       "      <th></th>\n",
       "      <th>card</th>\n",
       "      <th>reports</th>\n",
       "      <th>age</th>\n",
       "      <th>income</th>\n",
       "      <th>share</th>\n",
       "      <th>expenditure</th>\n",
       "      <th>owner</th>\n",
       "      <th>selfemp</th>\n",
       "      <th>dependents</th>\n",
       "      <th>months</th>\n",
       "      <th>majorcards</th>\n",
       "      <th>active</th>\n",
       "    </tr>\n",
       "  </thead>\n",
       "  <tbody>\n",
       "    <tr>\n",
       "      <th>0</th>\n",
       "      <td>yes</td>\n",
       "      <td>0</td>\n",
       "      <td>37.66667</td>\n",
       "      <td>4.5200</td>\n",
       "      <td>0.033270</td>\n",
       "      <td>124.983300</td>\n",
       "      <td>yes</td>\n",
       "      <td>no</td>\n",
       "      <td>3</td>\n",
       "      <td>54</td>\n",
       "      <td>1</td>\n",
       "      <td>12</td>\n",
       "    </tr>\n",
       "    <tr>\n",
       "      <th>1</th>\n",
       "      <td>yes</td>\n",
       "      <td>0</td>\n",
       "      <td>33.25000</td>\n",
       "      <td>2.4200</td>\n",
       "      <td>0.005217</td>\n",
       "      <td>9.854167</td>\n",
       "      <td>no</td>\n",
       "      <td>no</td>\n",
       "      <td>3</td>\n",
       "      <td>34</td>\n",
       "      <td>1</td>\n",
       "      <td>13</td>\n",
       "    </tr>\n",
       "    <tr>\n",
       "      <th>2</th>\n",
       "      <td>yes</td>\n",
       "      <td>0</td>\n",
       "      <td>33.66667</td>\n",
       "      <td>4.5000</td>\n",
       "      <td>0.004156</td>\n",
       "      <td>15.000000</td>\n",
       "      <td>yes</td>\n",
       "      <td>no</td>\n",
       "      <td>4</td>\n",
       "      <td>58</td>\n",
       "      <td>1</td>\n",
       "      <td>5</td>\n",
       "    </tr>\n",
       "    <tr>\n",
       "      <th>3</th>\n",
       "      <td>yes</td>\n",
       "      <td>0</td>\n",
       "      <td>30.50000</td>\n",
       "      <td>2.5400</td>\n",
       "      <td>0.065214</td>\n",
       "      <td>137.869200</td>\n",
       "      <td>no</td>\n",
       "      <td>no</td>\n",
       "      <td>0</td>\n",
       "      <td>25</td>\n",
       "      <td>1</td>\n",
       "      <td>7</td>\n",
       "    </tr>\n",
       "    <tr>\n",
       "      <th>4</th>\n",
       "      <td>yes</td>\n",
       "      <td>0</td>\n",
       "      <td>32.16667</td>\n",
       "      <td>9.7867</td>\n",
       "      <td>0.067051</td>\n",
       "      <td>546.503300</td>\n",
       "      <td>yes</td>\n",
       "      <td>no</td>\n",
       "      <td>2</td>\n",
       "      <td>64</td>\n",
       "      <td>1</td>\n",
       "      <td>5</td>\n",
       "    </tr>\n",
       "    <tr>\n",
       "      <th>...</th>\n",
       "      <td>...</td>\n",
       "      <td>...</td>\n",
       "      <td>...</td>\n",
       "      <td>...</td>\n",
       "      <td>...</td>\n",
       "      <td>...</td>\n",
       "      <td>...</td>\n",
       "      <td>...</td>\n",
       "      <td>...</td>\n",
       "      <td>...</td>\n",
       "      <td>...</td>\n",
       "      <td>...</td>\n",
       "    </tr>\n",
       "    <tr>\n",
       "      <th>1314</th>\n",
       "      <td>yes</td>\n",
       "      <td>0</td>\n",
       "      <td>33.58333</td>\n",
       "      <td>4.5660</td>\n",
       "      <td>0.002146</td>\n",
       "      <td>7.333333</td>\n",
       "      <td>yes</td>\n",
       "      <td>no</td>\n",
       "      <td>0</td>\n",
       "      <td>94</td>\n",
       "      <td>1</td>\n",
       "      <td>19</td>\n",
       "    </tr>\n",
       "    <tr>\n",
       "      <th>1315</th>\n",
       "      <td>no</td>\n",
       "      <td>5</td>\n",
       "      <td>23.91667</td>\n",
       "      <td>3.1920</td>\n",
       "      <td>0.000376</td>\n",
       "      <td>0.000000</td>\n",
       "      <td>no</td>\n",
       "      <td>no</td>\n",
       "      <td>3</td>\n",
       "      <td>12</td>\n",
       "      <td>1</td>\n",
       "      <td>5</td>\n",
       "    </tr>\n",
       "    <tr>\n",
       "      <th>1316</th>\n",
       "      <td>yes</td>\n",
       "      <td>0</td>\n",
       "      <td>40.58333</td>\n",
       "      <td>4.6000</td>\n",
       "      <td>0.026513</td>\n",
       "      <td>101.298300</td>\n",
       "      <td>yes</td>\n",
       "      <td>no</td>\n",
       "      <td>2</td>\n",
       "      <td>1</td>\n",
       "      <td>1</td>\n",
       "      <td>2</td>\n",
       "    </tr>\n",
       "    <tr>\n",
       "      <th>1317</th>\n",
       "      <td>yes</td>\n",
       "      <td>0</td>\n",
       "      <td>32.83333</td>\n",
       "      <td>3.7000</td>\n",
       "      <td>0.008999</td>\n",
       "      <td>26.996670</td>\n",
       "      <td>no</td>\n",
       "      <td>yes</td>\n",
       "      <td>0</td>\n",
       "      <td>60</td>\n",
       "      <td>1</td>\n",
       "      <td>7</td>\n",
       "    </tr>\n",
       "    <tr>\n",
       "      <th>1318</th>\n",
       "      <td>yes</td>\n",
       "      <td>0</td>\n",
       "      <td>48.25000</td>\n",
       "      <td>3.7000</td>\n",
       "      <td>0.111619</td>\n",
       "      <td>344.157500</td>\n",
       "      <td>yes</td>\n",
       "      <td>no</td>\n",
       "      <td>2</td>\n",
       "      <td>2</td>\n",
       "      <td>1</td>\n",
       "      <td>0</td>\n",
       "    </tr>\n",
       "  </tbody>\n",
       "</table>\n",
       "<p>1319 rows × 12 columns</p>\n",
       "</div>"
      ],
      "text/plain": [
       "     card  reports       age  income     share  expenditure owner selfemp  \\\n",
       "0     yes        0  37.66667  4.5200  0.033270   124.983300   yes      no   \n",
       "1     yes        0  33.25000  2.4200  0.005217     9.854167    no      no   \n",
       "2     yes        0  33.66667  4.5000  0.004156    15.000000   yes      no   \n",
       "3     yes        0  30.50000  2.5400  0.065214   137.869200    no      no   \n",
       "4     yes        0  32.16667  9.7867  0.067051   546.503300   yes      no   \n",
       "...   ...      ...       ...     ...       ...          ...   ...     ...   \n",
       "1314  yes        0  33.58333  4.5660  0.002146     7.333333   yes      no   \n",
       "1315   no        5  23.91667  3.1920  0.000376     0.000000    no      no   \n",
       "1316  yes        0  40.58333  4.6000  0.026513   101.298300   yes      no   \n",
       "1317  yes        0  32.83333  3.7000  0.008999    26.996670    no     yes   \n",
       "1318  yes        0  48.25000  3.7000  0.111619   344.157500   yes      no   \n",
       "\n",
       "      dependents  months  majorcards  active  \n",
       "0              3      54           1      12  \n",
       "1              3      34           1      13  \n",
       "2              4      58           1       5  \n",
       "3              0      25           1       7  \n",
       "4              2      64           1       5  \n",
       "...          ...     ...         ...     ...  \n",
       "1314           0      94           1      19  \n",
       "1315           3      12           1       5  \n",
       "1316           2       1           1       2  \n",
       "1317           0      60           1       7  \n",
       "1318           2       2           1       0  \n",
       "\n",
       "[1319 rows x 12 columns]"
      ]
     },
     "execution_count": 3,
     "metadata": {},
     "output_type": "execute_result"
    }
   ],
   "source": [
    "# Loading dataset\n",
    "credit_data = pd.read_csv(config[\"dataset_original_path\"])\n",
    "credit_data\n"
   ]
  },
  {
   "attachments": {},
   "cell_type": "markdown",
   "metadata": {},
   "source": [
    "# Data Definition\n"
   ]
  },
  {
   "cell_type": "code",
   "execution_count": 4,
   "metadata": {},
   "outputs": [
    {
     "name": "stdout",
     "output_type": "stream",
     "text": [
      "<class 'pandas.core.frame.DataFrame'>\n",
      "RangeIndex: 1319 entries, 0 to 1318\n",
      "Columns: 12 entries, card to active\n",
      "dtypes: float64(4), int64(5), object(3)\n",
      "memory usage: 123.8+ KB\n"
     ]
    }
   ],
   "source": [
    "# Check the DataFrame information\n",
    "credit_data.info(verbose = False)\n"
   ]
  },
  {
   "attachments": {},
   "cell_type": "markdown",
   "metadata": {},
   "source": [
    "From the information shown above, I comprehend a general \n",
    "insight into the `credit_data`.\n",
    "\n",
    "It has 1319 rows and 12 features, which consist of 9 numerical features, and 3 numerical categorical features.\n",
    "\n",
    "\n",
    "\n",
    "\n",
    "\n",
    "\n"
   ]
  },
  {
   "cell_type": "code",
   "execution_count": 5,
   "metadata": {},
   "outputs": [
    {
     "data": {
      "text/plain": [
       "Index(['card', 'reports', 'age', 'income', 'share', 'expenditure', 'owner',\n",
       "       'selfemp', 'dependents', 'months', 'majorcards', 'active'],\n",
       "      dtype='object')"
      ]
     },
     "execution_count": 5,
     "metadata": {},
     "output_type": "execute_result"
    }
   ],
   "source": [
    "# Check the features name\n",
    "credit_data.columns"
   ]
  },
  {
   "attachments": {},
   "cell_type": "markdown",
   "metadata": {},
   "source": [
    "Features definition:\n",
    "\n",
    "\n",
    "*   `card`: Acceptance status of credit card application\n",
    "*   `reports`: Number of major derogatory reports\n",
    "*   `age`: Age, in years plus twelfths of a year\n",
    "*   `income`: Yearly income (divided by 10,000)\n",
    "*   `share`: Ratio of monthly credit card expenditure to yearly income\n",
    "*   `expenditure`: Average monthly credit card expenditure\n",
    "*   `owner`: Home ownership\n",
    "*   `selfempl`: Self-employed status, \"no\" means an employee to a company\n",
    "*   `dependents`: Number of dependents\n",
    "*   `months`: Months living at current address\n",
    "*   `majorcards`: Number of major credit cards held\n",
    "*   `active`: Number of active credit accounts\n",
    "\n",
    "\n",
    "\n",
    "\n",
    "\n",
    "\n"
   ]
  },
  {
   "attachments": {},
   "cell_type": "markdown",
   "metadata": {},
   "source": [
    "# Data Validation\n"
   ]
  },
  {
   "cell_type": "markdown",
   "metadata": {},
   "source": [
    "## Checking Null Values and Data Types in Each Feature"
   ]
  },
  {
   "cell_type": "code",
   "execution_count": 6,
   "metadata": {},
   "outputs": [
    {
     "name": "stdout",
     "output_type": "stream",
     "text": [
      "<class 'pandas.core.frame.DataFrame'>\n",
      "RangeIndex: 1319 entries, 0 to 1318\n",
      "Data columns (total 12 columns):\n",
      " #   Column       Non-Null Count  Dtype  \n",
      "---  ------       --------------  -----  \n",
      " 0   card         1319 non-null   object \n",
      " 1   reports      1319 non-null   int64  \n",
      " 2   age          1319 non-null   float64\n",
      " 3   income       1319 non-null   float64\n",
      " 4   share        1319 non-null   float64\n",
      " 5   expenditure  1319 non-null   float64\n",
      " 6   owner        1319 non-null   object \n",
      " 7   selfemp      1319 non-null   object \n",
      " 8   dependents   1319 non-null   int64  \n",
      " 9   months       1319 non-null   int64  \n",
      " 10  majorcards   1319 non-null   int64  \n",
      " 11  active       1319 non-null   int64  \n",
      "dtypes: float64(4), int64(5), object(3)\n",
      "memory usage: 123.8+ KB\n"
     ]
    }
   ],
   "source": [
    "# Check the detailed DataFrame information\n",
    "credit_data.info()"
   ]
  },
  {
   "cell_type": "markdown",
   "metadata": {},
   "source": [
    "There is no null value in this dataset.\n",
    "\n",
    "The object (string) data types will be later converted to numeric."
   ]
  },
  {
   "cell_type": "markdown",
   "metadata": {},
   "source": [
    "## Checking The General Data Distribution"
   ]
  },
  {
   "cell_type": "code",
   "execution_count": 7,
   "metadata": {},
   "outputs": [
    {
     "data": {
      "text/html": [
       "<div>\n",
       "<style scoped>\n",
       "    .dataframe tbody tr th:only-of-type {\n",
       "        vertical-align: middle;\n",
       "    }\n",
       "\n",
       "    .dataframe tbody tr th {\n",
       "        vertical-align: top;\n",
       "    }\n",
       "\n",
       "    .dataframe thead th {\n",
       "        text-align: right;\n",
       "    }\n",
       "</style>\n",
       "<table border=\"1\" class=\"dataframe\">\n",
       "  <thead>\n",
       "    <tr style=\"text-align: right;\">\n",
       "      <th></th>\n",
       "      <th>reports</th>\n",
       "      <th>age</th>\n",
       "      <th>income</th>\n",
       "      <th>share</th>\n",
       "      <th>expenditure</th>\n",
       "      <th>dependents</th>\n",
       "      <th>months</th>\n",
       "      <th>majorcards</th>\n",
       "      <th>active</th>\n",
       "    </tr>\n",
       "  </thead>\n",
       "  <tbody>\n",
       "    <tr>\n",
       "      <th>count</th>\n",
       "      <td>1319.000000</td>\n",
       "      <td>1319.000000</td>\n",
       "      <td>1319.000000</td>\n",
       "      <td>1319.000000</td>\n",
       "      <td>1319.000000</td>\n",
       "      <td>1319.000000</td>\n",
       "      <td>1319.000000</td>\n",
       "      <td>1319.000000</td>\n",
       "      <td>1319.000000</td>\n",
       "    </tr>\n",
       "    <tr>\n",
       "      <th>mean</th>\n",
       "      <td>0.456406</td>\n",
       "      <td>33.213103</td>\n",
       "      <td>3.365376</td>\n",
       "      <td>0.068732</td>\n",
       "      <td>185.057071</td>\n",
       "      <td>0.993935</td>\n",
       "      <td>55.267627</td>\n",
       "      <td>0.817286</td>\n",
       "      <td>6.996967</td>\n",
       "    </tr>\n",
       "    <tr>\n",
       "      <th>std</th>\n",
       "      <td>1.345267</td>\n",
       "      <td>10.142783</td>\n",
       "      <td>1.693902</td>\n",
       "      <td>0.094656</td>\n",
       "      <td>272.218917</td>\n",
       "      <td>1.247745</td>\n",
       "      <td>66.271746</td>\n",
       "      <td>0.386579</td>\n",
       "      <td>6.305812</td>\n",
       "    </tr>\n",
       "    <tr>\n",
       "      <th>min</th>\n",
       "      <td>0.000000</td>\n",
       "      <td>0.166667</td>\n",
       "      <td>0.210000</td>\n",
       "      <td>0.000109</td>\n",
       "      <td>0.000000</td>\n",
       "      <td>0.000000</td>\n",
       "      <td>0.000000</td>\n",
       "      <td>0.000000</td>\n",
       "      <td>0.000000</td>\n",
       "    </tr>\n",
       "    <tr>\n",
       "      <th>25%</th>\n",
       "      <td>0.000000</td>\n",
       "      <td>25.416670</td>\n",
       "      <td>2.243750</td>\n",
       "      <td>0.002316</td>\n",
       "      <td>4.583333</td>\n",
       "      <td>0.000000</td>\n",
       "      <td>12.000000</td>\n",
       "      <td>1.000000</td>\n",
       "      <td>2.000000</td>\n",
       "    </tr>\n",
       "    <tr>\n",
       "      <th>50%</th>\n",
       "      <td>0.000000</td>\n",
       "      <td>31.250000</td>\n",
       "      <td>2.900000</td>\n",
       "      <td>0.038827</td>\n",
       "      <td>101.298300</td>\n",
       "      <td>1.000000</td>\n",
       "      <td>30.000000</td>\n",
       "      <td>1.000000</td>\n",
       "      <td>6.000000</td>\n",
       "    </tr>\n",
       "    <tr>\n",
       "      <th>75%</th>\n",
       "      <td>0.000000</td>\n",
       "      <td>39.416670</td>\n",
       "      <td>4.000000</td>\n",
       "      <td>0.093617</td>\n",
       "      <td>249.035800</td>\n",
       "      <td>2.000000</td>\n",
       "      <td>72.000000</td>\n",
       "      <td>1.000000</td>\n",
       "      <td>11.000000</td>\n",
       "    </tr>\n",
       "    <tr>\n",
       "      <th>max</th>\n",
       "      <td>14.000000</td>\n",
       "      <td>83.500000</td>\n",
       "      <td>13.500000</td>\n",
       "      <td>0.906320</td>\n",
       "      <td>3099.505000</td>\n",
       "      <td>6.000000</td>\n",
       "      <td>540.000000</td>\n",
       "      <td>1.000000</td>\n",
       "      <td>46.000000</td>\n",
       "    </tr>\n",
       "  </tbody>\n",
       "</table>\n",
       "</div>"
      ],
      "text/plain": [
       "           reports          age       income        share  expenditure  \\\n",
       "count  1319.000000  1319.000000  1319.000000  1319.000000  1319.000000   \n",
       "mean      0.456406    33.213103     3.365376     0.068732   185.057071   \n",
       "std       1.345267    10.142783     1.693902     0.094656   272.218917   \n",
       "min       0.000000     0.166667     0.210000     0.000109     0.000000   \n",
       "25%       0.000000    25.416670     2.243750     0.002316     4.583333   \n",
       "50%       0.000000    31.250000     2.900000     0.038827   101.298300   \n",
       "75%       0.000000    39.416670     4.000000     0.093617   249.035800   \n",
       "max      14.000000    83.500000    13.500000     0.906320  3099.505000   \n",
       "\n",
       "        dependents       months   majorcards       active  \n",
       "count  1319.000000  1319.000000  1319.000000  1319.000000  \n",
       "mean      0.993935    55.267627     0.817286     6.996967  \n",
       "std       1.247745    66.271746     0.386579     6.305812  \n",
       "min       0.000000     0.000000     0.000000     0.000000  \n",
       "25%       0.000000    12.000000     1.000000     2.000000  \n",
       "50%       1.000000    30.000000     1.000000     6.000000  \n",
       "75%       2.000000    72.000000     1.000000    11.000000  \n",
       "max       6.000000   540.000000     1.000000    46.000000  "
      ]
     },
     "execution_count": 7,
     "metadata": {},
     "output_type": "execute_result"
    }
   ],
   "source": [
    "# Check the distribution of numerical features\n",
    "credit_data.describe()\n"
   ]
  },
  {
   "attachments": {},
   "cell_type": "markdown",
   "metadata": {},
   "source": [
    "Notes on the numerical data.\n",
    "*  The counts in the entire features are the same value, meaning that `credit_data` has no null value.\n",
    "* The minimum age recorded is 2 months old, which is consciously impossible to apply for a credit card at that age.\n",
    "* Applicant(s) who have zero expenditure will also be checked thoroughly later to make sure the data is correctly filled in.\n",
    "\n",
    "\n",
    "\n",
    "\n"
   ]
  },
  {
   "cell_type": "code",
   "execution_count": 8,
   "metadata": {},
   "outputs": [
    {
     "data": {
      "text/html": [
       "<div>\n",
       "<style scoped>\n",
       "    .dataframe tbody tr th:only-of-type {\n",
       "        vertical-align: middle;\n",
       "    }\n",
       "\n",
       "    .dataframe tbody tr th {\n",
       "        vertical-align: top;\n",
       "    }\n",
       "\n",
       "    .dataframe thead th {\n",
       "        text-align: right;\n",
       "    }\n",
       "</style>\n",
       "<table border=\"1\" class=\"dataframe\">\n",
       "  <thead>\n",
       "    <tr style=\"text-align: right;\">\n",
       "      <th></th>\n",
       "      <th>card</th>\n",
       "      <th>owner</th>\n",
       "      <th>selfemp</th>\n",
       "    </tr>\n",
       "  </thead>\n",
       "  <tbody>\n",
       "    <tr>\n",
       "      <th>count</th>\n",
       "      <td>1319</td>\n",
       "      <td>1319</td>\n",
       "      <td>1319</td>\n",
       "    </tr>\n",
       "    <tr>\n",
       "      <th>unique</th>\n",
       "      <td>2</td>\n",
       "      <td>2</td>\n",
       "      <td>2</td>\n",
       "    </tr>\n",
       "    <tr>\n",
       "      <th>top</th>\n",
       "      <td>yes</td>\n",
       "      <td>no</td>\n",
       "      <td>no</td>\n",
       "    </tr>\n",
       "    <tr>\n",
       "      <th>freq</th>\n",
       "      <td>1023</td>\n",
       "      <td>738</td>\n",
       "      <td>1228</td>\n",
       "    </tr>\n",
       "  </tbody>\n",
       "</table>\n",
       "</div>"
      ],
      "text/plain": [
       "        card owner selfemp\n",
       "count   1319  1319    1319\n",
       "unique     2     2       2\n",
       "top      yes    no      no\n",
       "freq    1023   738    1228"
      ]
     },
     "execution_count": 8,
     "metadata": {},
     "output_type": "execute_result"
    }
   ],
   "source": [
    "# Check the distribution of categorical features\n",
    "credit_data.describe(include=['O'])"
   ]
  },
  {
   "attachments": {},
   "cell_type": "markdown",
   "metadata": {},
   "source": [
    "All the categorical features have binary value, \"yes\" and \"no\"."
   ]
  },
  {
   "attachments": {},
   "cell_type": "markdown",
   "metadata": {},
   "source": [
    "## Data Deletion\n",
    "\n",
    "The legal age to have a credit card is 18 years old, thus the data in feature `age` valued at less than 18 will be dropped.\n",
    "\n",
    "I decide to do this deletion work in advance to limit the minimum data range in the data defense."
   ]
  },
  {
   "cell_type": "code",
   "execution_count": 9,
   "metadata": {},
   "outputs": [],
   "source": [
    "def del_rows(dataset, col, value):\n",
    "    \"\"\"A function for deleting data in numeric column,\n",
    "    specify by the value\"\"\"\n",
    "    \n",
    "    dataset = dataset.loc[dataset[col] >= value].reset_index(drop = True)\n",
    "    return dataset"
   ]
  },
  {
   "cell_type": "code",
   "execution_count": 10,
   "metadata": {},
   "outputs": [],
   "source": [
    "# Execute the data deletion function\n",
    "credit_data = del_rows(credit_data, 'age', 18)"
   ]
  },
  {
   "attachments": {},
   "cell_type": "markdown",
   "metadata": {},
   "source": [
    "# Data Defense\n",
    "\n",
    "Create a defense mechanism for the input data."
   ]
  },
  {
   "cell_type": "code",
   "execution_count": 11,
   "metadata": {},
   "outputs": [],
   "source": [
    "def check_data(input_data, config):\n",
    "\n",
    "    # Check data types\n",
    "    assert input_data.select_dtypes(\"object\").columns.to_list() == config[\"object_columns\"], \"input error, please fill the column(s) with 'yes' or 'no'\"\n",
    "    assert input_data.select_dtypes(\"int\").columns.to_list() == config[\"int_columns\"], \"input error, please fill the column(s) with any numeric character.\"\n",
    "    assert input_data.select_dtypes(\"float\").columns.to_list() == config[\"float_columns\"], \"input error, please fill the column(s) with any numeric (decimal value is allowed) character.\"\n",
    "\n",
    "    # Check range of data\n",
    "    assert set(input_data[config[\"object_columns\"][1]]).issubset(set(config[\"range_owner\"])), \"an error occurs in owner range.\"\n",
    "    assert set(input_data[config[\"object_columns\"][2]]).issubset(set(config[\"range_selfemp\"])), \"an error occurs in selfemp range.\"\n",
    "    assert input_data[config[\"int_columns\"][0]].between(config[\"range_reports\"][0], config[\"range_reports\"][1]).sum() == len(input_data), \"an error occurs in reports range.\"\n",
    "    assert input_data[config[\"float_columns\"][0]].between(config[\"range_age\"][0], config[\"range_age\"][1]).sum() == len(input_data), \"an error occurs in age range.\"\n",
    "    assert input_data[config[\"float_columns\"][1]].between(config[\"range_income\"][0], config[\"range_income\"][1]).sum() == len(input_data), \"an error occurs in income range.\"\n",
    "    assert input_data[config[\"float_columns\"][2]].between(config[\"range_share\"][0], config[\"range_share\"][1]).sum() == len(input_data), \"an error occurs in share range.\"\n",
    "    assert input_data[config[\"float_columns\"][3]].between(config[\"range_expenditure\"][0], config[\"range_expenditure\"][1]).sum() == len(input_data), \"an error occurs in expenditure range.\"\n",
    "    assert input_data[config[\"int_columns\"][1]].between(config[\"range_dependents\"][0], config[\"range_dependents\"][1]).sum() == len(input_data), \"an error occurs in dependents range.\"    \n",
    "    assert input_data[config[\"int_columns\"][2]].between(config[\"range_months\"][0], config[\"range_months\"][1]).sum() == len(input_data), \"an error occurs in months range.\"\n",
    "    assert input_data[config[\"int_columns\"][3]].between(config[\"range_majorcards\"][0], config[\"range_majorcards\"][1]).sum() == len(input_data), \"an error occurs in majorcards range.\"\n",
    "    assert input_data[config[\"int_columns\"][4]].between(config[\"range_active\"][0], config[\"range_active\"][1]).sum() == len(input_data), \"an error occurs in active range.\"\n",
    "   \n"
   ]
  },
  {
   "cell_type": "code",
   "execution_count": 12,
   "metadata": {},
   "outputs": [],
   "source": [
    "# checking the data defense function\n",
    "check_data(credit_data, config)"
   ]
  },
  {
   "attachments": {},
   "cell_type": "markdown",
   "metadata": {},
   "source": [
    "# Data Splitting"
   ]
  },
  {
   "cell_type": "code",
   "execution_count": 13,
   "metadata": {},
   "outputs": [],
   "source": [
    "def split_input_output(dataset,\n",
    "                       target_column,\n",
    "                       save_file = True,\n",
    "                       return_file = True):\n",
    "    \"\"\"Divide the data into its dependent variable/target (y-axis) and independent/predictor (x-axis) ones,\n",
    "    input_df = predictors while output_df = target\"\"\"\n",
    "\n",
    "    output_df = dataset[target_column]\n",
    "    input_df = dataset.drop([target_column],\n",
    "                            axis = 1)\n",
    "\n",
    "    if save_file:  \n",
    "        utils.pkl_dump(output_df, config[\"dataset_output_df_path\"])\n",
    "        utils.pkl_dump(input_df, config[\"dataset_input_df_path\"])\n",
    "    \n",
    "    if return_file:\n",
    "        return output_df, input_df\n",
    "\n",
    "\n",
    "def split_train_test(x, y, TEST_SIZE):\n",
    "    \"\"\"Split the data into the training and test data,\n",
    "    stratify parameter is activated,\n",
    "    this function will be reproduced later as the data-splitting process further\"\"\"\n",
    "    \n",
    "    x_train, x_test, y_train, y_test = train_test_split(x,\n",
    "                                                        y,\n",
    "                                                        test_size=TEST_SIZE,\n",
    "                                                        random_state=46,\n",
    "                                                        stratify=y)\n",
    "\n",
    "    return x_train, x_test, y_train, y_test\n",
    "\n",
    "def split_data(data_input, \n",
    "               data_output, \n",
    "               save_file = True,\n",
    "               return_file=True, \n",
    "               TEST_SIZE=0.17):\n",
    "    \"\"\"Split the data into the training, validation and test data,\n",
    "    first split process will return into the train and test data,\n",
    "    the train data resulted from the first will be splitted further into the train and validation data.\n",
    "    The TEST_SIZE 0.17 resulting the test data 17% proportion from the dataset length,\n",
    "    while the proportion of train data and validation data are respectively 69% and 14%. \n",
    "    All files returned from this function are saved into pickle files.\"\"\"\n",
    "\n",
    "    x_train, x_test, y_train, y_test = split_train_test(data_input, \n",
    "                                                        data_output,\n",
    "                                                        TEST_SIZE)\n",
    "\n",
    "    x_train, x_valid, y_train, y_valid = split_train_test(x_train,\n",
    "                                                          y_train,\n",
    "                                                          TEST_SIZE)\n",
    "    \n",
    "    if save_file:\n",
    "        utils.pkl_dump(x_train, config[\"dataset_train_path\"][0])\n",
    "        utils.pkl_dump(y_train, config[\"dataset_train_path\"][1])\n",
    "        utils.pkl_dump(x_valid, config[\"dataset_valid_path\"][0])\n",
    "        utils.pkl_dump(y_valid, config[\"dataset_valid_path\"][1])\n",
    "        utils.pkl_dump(x_test, config[\"dataset_test_path\"][0])\n",
    "        utils.pkl_dump(y_test, config[\"dataset_test_path\"][1])\n",
    "\n",
    "    if return_file:\n",
    "        return x_train, y_train, \\\n",
    "            x_valid, y_valid, \\\n",
    "            x_test, y_test\n"
   ]
  },
  {
   "cell_type": "code",
   "execution_count": 14,
   "metadata": {},
   "outputs": [],
   "source": [
    "# Execute the data-splitting functions\n",
    "\n",
    "output_df, input_df = split_input_output(credit_data,\n",
    "                                        target_column = \"card\", \n",
    "                                        save_file = False)\n",
    "\n",
    "x_train, y_train, x_valid, y_valid, x_test, y_test = split_data(input_df,\n",
    "                                                               output_df)\n"
   ]
  },
  {
   "attachments": {},
   "cell_type": "markdown",
   "metadata": {},
   "source": [
    "# Data Review"
   ]
  },
  {
   "attachments": {},
   "cell_type": "markdown",
   "metadata": {},
   "source": [
    "The \"credit\" feature in `credit_data` is set as the dependent variable (saved as output_df), while the rest features are the independent variables (saved as input_df).\n"
   ]
  },
  {
   "cell_type": "code",
   "execution_count": 15,
   "metadata": {},
   "outputs": [
    {
     "name": "stdout",
     "output_type": "stream",
     "text": [
      "The dependent variable (target):\n",
      "0       yes\n",
      "1       yes\n",
      "2       yes\n",
      "3       yes\n",
      "4       yes\n",
      "       ... \n",
      "1307    yes\n",
      "1308     no\n",
      "1309    yes\n",
      "1310    yes\n",
      "1311    yes\n",
      "Name: card, Length: 1312, dtype: object \n",
      "\n",
      "-------------------------------------\n",
      "\n",
      "The independent variables (predictors):\n",
      "       reports       age  income     share  expenditure owner selfemp  \\\n",
      "0           0  37.66667  4.5200  0.033270   124.983300   yes      no   \n",
      "1           0  33.25000  2.4200  0.005217     9.854167    no      no   \n",
      "2           0  33.66667  4.5000  0.004156    15.000000   yes      no   \n",
      "3           0  30.50000  2.5400  0.065214   137.869200    no      no   \n",
      "4           0  32.16667  9.7867  0.067051   546.503300   yes      no   \n",
      "...       ...       ...     ...       ...          ...   ...     ...   \n",
      "1307        0  33.58333  4.5660  0.002146     7.333333   yes      no   \n",
      "1308        5  23.91667  3.1920  0.000376     0.000000    no      no   \n",
      "1309        0  40.58333  4.6000  0.026513   101.298300   yes      no   \n",
      "1310        0  32.83333  3.7000  0.008999    26.996670    no     yes   \n",
      "1311        0  48.25000  3.7000  0.111619   344.157500   yes      no   \n",
      "\n",
      "      dependents  months  majorcards  active  \n",
      "0              3      54           1      12  \n",
      "1              3      34           1      13  \n",
      "2              4      58           1       5  \n",
      "3              0      25           1       7  \n",
      "4              2      64           1       5  \n",
      "...          ...     ...         ...     ...  \n",
      "1307           0      94           1      19  \n",
      "1308           3      12           1       5  \n",
      "1309           2       1           1       2  \n",
      "1310           0      60           1       7  \n",
      "1311           2       2           1       0  \n",
      "\n",
      "[1312 rows x 11 columns]\n"
     ]
    }
   ],
   "source": [
    "# Recheck the division of the dependent and independent variables from the `credit_data`\n",
    "print(f'The dependent variable (target):\\n{output_df} \\n')\n",
    "print(\"-------------------------------------\\n\")\n",
    "print(f'The independent variables (predictors):\\n {input_df}')"
   ]
  },
  {
   "attachments": {},
   "cell_type": "markdown",
   "metadata": {},
   "source": [
    "Both the `input_df` and `output_df` are split into three data that will be used for training, validation, and testing the model.\n",
    "\n",
    "The training data has the majority proportion.\n",
    "\n",
    "\n"
   ]
  },
  {
   "cell_type": "code",
   "execution_count": 16,
   "metadata": {},
   "outputs": [
    {
     "name": "stdout",
     "output_type": "stream",
     "text": [
      "input_df shape: (1312, 11)\n",
      "x_train shape: (903, 11)\n",
      "x_valid shape:(185, 11)\n",
      "x_test shape: (224, 11)\n",
      "\n",
      "-------------------------------------\n",
      "\n",
      "output_df shape: (1312,)\n",
      "y_train shape: (903,)\n",
      "y_valid shape: (185,)\n",
      "y_test shape: (224,)\n"
     ]
    }
   ],
   "source": [
    "# Inspect the data-splitting result\n",
    "print(f\"input_df shape: {input_df.shape}\")\n",
    "print(f\"x_train shape: {x_train.shape}\")\n",
    "print(f\"x_valid shape:{x_valid.shape}\")\n",
    "print(f\"x_test shape: {x_test.shape}\\n\")\n",
    "print(\"-------------------------------------\\n\")\n",
    "print(f\"output_df shape: {output_df.shape}\")\n",
    "print(f\"y_train shape: {y_train.shape}\")\n",
    "print(f\"y_valid shape: {y_valid.shape}\")\n",
    "print(f\"y_test shape: {y_test.shape}\")\n"
   ]
  },
  {
   "attachments": {},
   "cell_type": "markdown",
   "metadata": {},
   "source": [
    "The stratified splitting method applies to the `output_df` to keep the value proportion approximately the same."
   ]
  },
  {
   "cell_type": "code",
   "execution_count": 17,
   "metadata": {},
   "outputs": [
    {
     "name": "stdout",
     "output_type": "stream",
     "text": [
      "y_train value proportion\n",
      "yes    0.775194\n",
      "no     0.224806\n",
      "Name: card, dtype: float64\n",
      "-------------------------------------\n",
      "\n",
      "y_valid value proportion\n",
      "yes    0.772973\n",
      "no     0.227027\n",
      "Name: card, dtype: float64\n",
      "-------------------------------------\n",
      "\n",
      "y_test value proportion\n",
      "yes    0.776786\n",
      "no     0.223214\n",
      "Name: card, dtype: float64\n"
     ]
    }
   ],
   "source": [
    "# Recheck the data stratification\n",
    "print(f\"y_train value proportion\\n{y_train.value_counts(normalize = True)}\")\n",
    "print(\"-------------------------------------\\n\")\n",
    "print(f\"y_valid value proportion\\n{y_valid.value_counts(normalize = True)}\")\n",
    "print(\"-------------------------------------\\n\")\n",
    "print(f\"y_test value proportion\\n{y_test.value_counts(normalize = True)}\")"
   ]
  }
 ],
 "metadata": {
  "kernelspec": {
   "display_name": "venv2",
   "language": "python",
   "name": "python3"
  },
  "language_info": {
   "codemirror_mode": {
    "name": "ipython",
    "version": 3
   },
   "file_extension": ".py",
   "mimetype": "text/x-python",
   "name": "python",
   "nbconvert_exporter": "python",
   "pygments_lexer": "ipython3",
   "version": "3.8.10"
  },
  "orig_nbformat": 4,
  "vscode": {
   "interpreter": {
    "hash": "4372300a058c3c7af6fc5d0912ae3184a1f34df86a045297a4ccc6fb51ceb69c"
   }
  }
 },
 "nbformat": 4,
 "nbformat_minor": 2
}

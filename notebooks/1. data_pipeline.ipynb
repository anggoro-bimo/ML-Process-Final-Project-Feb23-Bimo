{
 "cells": [
  {
   "attachments": {},
   "cell_type": "markdown",
   "metadata": {},
   "source": [
    "# Libraries, Modules, and Configuration File"
   ]
  },
  {
   "cell_type": "code",
   "execution_count": null,
   "metadata": {},
   "outputs": [
    {
     "ename": "",
     "evalue": "",
     "output_type": "error",
     "traceback": [
      "\u001b[1;31mFailed to start the Kernel. \n",
      "\u001b[1;31mUnable to start Kernel 'venv2 (Python 3.8.10)' due to connection timeout. \n",
      "\u001b[1;31mView Jupyter <a href='command:jupyter.viewOutput'>log</a> for further details."
     ]
    }
   ],
   "source": [
    "import pandas as pd\n",
    "import sys\n",
    "sys.path.append('/root/ml_process_feb23/')\n",
    "import src.util as utils\n",
    "config = utils.load_config()\n",
    "from sklearn.model_selection import train_test_split"
   ]
  },
  {
   "attachments": {},
   "cell_type": "markdown",
   "metadata": {},
   "source": [
    "# Data Collection"
   ]
  },
  {
   "cell_type": "code",
   "execution_count": null,
   "metadata": {},
   "outputs": [
    {
     "ename": "",
     "evalue": "",
     "output_type": "error",
     "traceback": [
      "\u001b[1;31mFailed to start the Kernel. \n",
      "\u001b[1;31mUnable to start Kernel 'venv2 (Python 3.8.10)' due to connection timeout. \n",
      "\u001b[1;31mView Jupyter <a href='command:jupyter.viewOutput'>log</a> for further details."
     ]
    }
   ],
   "source": [
    "# Loading dataset\n",
    "credit_data = pd.read_csv(config[\"dataset_original_path\"])\n",
    "credit_data\n"
   ]
  },
  {
   "attachments": {},
   "cell_type": "markdown",
   "metadata": {},
   "source": [
    "# Data Definition\n"
   ]
  },
  {
   "cell_type": "code",
   "execution_count": null,
   "metadata": {},
   "outputs": [
    {
     "ename": "",
     "evalue": "",
     "output_type": "error",
     "traceback": [
      "\u001b[1;31mFailed to start the Kernel. \n",
      "\u001b[1;31mUnable to start Kernel 'venv2 (Python 3.8.10)' due to connection timeout. \n",
      "\u001b[1;31mView Jupyter <a href='command:jupyter.viewOutput'>log</a> for further details."
     ]
    }
   ],
   "source": [
    "# Check the DataFrame information\n",
    "credit_data.info(verbose = False)\n"
   ]
  },
  {
   "attachments": {},
   "cell_type": "markdown",
   "metadata": {},
   "source": [
    "From the information shown above, I comprehend a general \n",
    "insight into the `credit_data`.\n",
    "\n",
    "It has 1319 rows and 12 features, which consist of 9 numerical features, and 3 numerical categorical features.\n",
    "\n",
    "\n",
    "\n",
    "\n",
    "\n",
    "\n"
   ]
  },
  {
   "cell_type": "code",
   "execution_count": null,
   "metadata": {},
   "outputs": [
    {
     "ename": "",
     "evalue": "",
     "output_type": "error",
     "traceback": [
      "\u001b[1;31mFailed to start the Kernel. \n",
      "\u001b[1;31mUnable to start Kernel 'venv2 (Python 3.8.10)' due to connection timeout. \n",
      "\u001b[1;31mView Jupyter <a href='command:jupyter.viewOutput'>log</a> for further details."
     ]
    }
   ],
   "source": [
    "# Check the features name\n",
    "credit_data.columns"
   ]
  },
  {
   "attachments": {},
   "cell_type": "markdown",
   "metadata": {},
   "source": [
    "Features definition:\n",
    "\n",
    "\n",
    "*   `card`: Acceptance status of credit card application\n",
    "*   `reports`: Number of major derogatory reports\n",
    "*   `age`: Age, in years plus twelfths of a year\n",
    "*   `income`: Yearly income (divided by 10,000)\n",
    "*   `share`: Ratio of monthly credit card expenditure to yearly income\n",
    "*   `expenditure`: Average monthly credit card expenditure\n",
    "*   `owner`: Home ownership\n",
    "*   `selfempl`: Self-employed status, \"no\" means an employee to a company\n",
    "*   `dependents`: Number of dependents\n",
    "*   `months`: Months living at current address\n",
    "*   `majorcards`: Number of major credit cards held\n",
    "*   `active`: Number of active credit accounts\n",
    "\n",
    "\n",
    "\n",
    "\n",
    "\n",
    "\n"
   ]
  },
  {
   "attachments": {},
   "cell_type": "markdown",
   "metadata": {},
   "source": [
    "# Data Validation\n"
   ]
  },
  {
   "cell_type": "markdown",
   "metadata": {},
   "source": [
    "## Checking Null Values and Data Types in Each Feature"
   ]
  },
  {
   "cell_type": "code",
   "execution_count": null,
   "metadata": {},
   "outputs": [
    {
     "ename": "",
     "evalue": "",
     "output_type": "error",
     "traceback": [
      "\u001b[1;31mFailed to start the Kernel. \n",
      "\u001b[1;31mUnable to start Kernel 'venv2 (Python 3.8.10)' due to connection timeout. \n",
      "\u001b[1;31mView Jupyter <a href='command:jupyter.viewOutput'>log</a> for further details."
     ]
    }
   ],
   "source": [
    "# Check the detailed DataFrame information\n",
    "credit_data.info()"
   ]
  },
  {
   "cell_type": "markdown",
   "metadata": {},
   "source": [
    "There is no null value in this dataset.\n",
    "\n",
    "The object (string) data types will be later converted to numeric."
   ]
  },
  {
   "cell_type": "markdown",
   "metadata": {},
   "source": [
    "## Checking The General Data Distribution"
   ]
  },
  {
   "cell_type": "code",
   "execution_count": null,
   "metadata": {},
   "outputs": [
    {
     "ename": "",
     "evalue": "",
     "output_type": "error",
     "traceback": [
      "\u001b[1;31mFailed to start the Kernel. \n",
      "\u001b[1;31mUnable to start Kernel 'venv2 (Python 3.8.10)' due to connection timeout. \n",
      "\u001b[1;31mView Jupyter <a href='command:jupyter.viewOutput'>log</a> for further details."
     ]
    }
   ],
   "source": [
    "# Check the distribution of numerical features\n",
    "credit_data.describe()\n"
   ]
  },
  {
   "attachments": {},
   "cell_type": "markdown",
   "metadata": {},
   "source": [
    "Notes on the numerical data.\n",
    "*  The counts in the entire features are the same value, meaning that `credit_data` has no null value.\n",
    "* The minimum age recorded is 2 months old, which is consciously impossible to apply for a credit card at that age.\n",
    "* Applicant(s) who have zero expenditure will also be checked thoroughly later to make sure the data is correctly filled in.\n",
    "\n",
    "\n",
    "\n",
    "\n"
   ]
  },
  {
   "cell_type": "code",
   "execution_count": null,
   "metadata": {},
   "outputs": [
    {
     "ename": "",
     "evalue": "",
     "output_type": "error",
     "traceback": [
      "\u001b[1;31mFailed to start the Kernel. \n",
      "\u001b[1;31mUnable to start Kernel 'venv2 (Python 3.8.10)' due to connection timeout. \n",
      "\u001b[1;31mView Jupyter <a href='command:jupyter.viewOutput'>log</a> for further details."
     ]
    }
   ],
   "source": [
    "# Check the distribution of categorical features\n",
    "credit_data.describe(include=['O'])"
   ]
  },
  {
   "attachments": {},
   "cell_type": "markdown",
   "metadata": {},
   "source": [
    "All the categorical features have binary value, \"yes\" and \"no\"."
   ]
  },
  {
   "attachments": {},
   "cell_type": "markdown",
   "metadata": {},
   "source": [
    "## Data Deletion\n",
    "\n",
    "The legal age to have a credit card is 18 years old, thus the data in feature `age` valued at less than 18 will be dropped.\n",
    "\n",
    "I decide to do this deletion work in advance to limit the minimum data range in the data defense."
   ]
  },
  {
   "cell_type": "code",
   "execution_count": null,
   "metadata": {},
   "outputs": [
    {
     "ename": "",
     "evalue": "",
     "output_type": "error",
     "traceback": [
      "\u001b[1;31mFailed to start the Kernel. \n",
      "\u001b[1;31mUnable to start Kernel 'venv2 (Python 3.8.10)' due to connection timeout. \n",
      "\u001b[1;31mView Jupyter <a href='command:jupyter.viewOutput'>log</a> for further details."
     ]
    }
   ],
   "source": [
    "def del_rows(dataset, col, value):\n",
    "    \"\"\"A function for deleting data in numeric column,\n",
    "    specify by the value\"\"\"\n",
    "    \n",
    "    dataset = dataset.loc[dataset[col] >= value].reset_index(drop = True)\n",
    "    return dataset"
   ]
  },
  {
   "cell_type": "code",
   "execution_count": null,
   "metadata": {},
   "outputs": [
    {
     "ename": "",
     "evalue": "",
     "output_type": "error",
     "traceback": [
      "\u001b[1;31mFailed to start the Kernel. \n",
      "\u001b[1;31mUnable to start Kernel 'venv2 (Python 3.8.10)' due to connection timeout. \n",
      "\u001b[1;31mView Jupyter <a href='command:jupyter.viewOutput'>log</a> for further details."
     ]
    }
   ],
   "source": [
    "# Execute the data deletion function\n",
    "credit_data = del_rows(credit_data, 'age', 18)"
   ]
  },
  {
   "attachments": {},
   "cell_type": "markdown",
   "metadata": {},
   "source": [
    "# Data Defense\n",
    "\n",
    "Create a defense mechanism for the input data."
   ]
  },
  {
   "cell_type": "code",
   "execution_count": null,
   "metadata": {},
   "outputs": [
    {
     "ename": "",
     "evalue": "",
     "output_type": "error",
     "traceback": [
      "\u001b[1;31mFailed to start the Kernel. \n",
      "\u001b[1;31mUnable to start Kernel 'venv2 (Python 3.8.10)' due to connection timeout. \n",
      "\u001b[1;31mView Jupyter <a href='command:jupyter.viewOutput'>log</a> for further details."
     ]
    }
   ],
   "source": [
    "def check_data(input_data, config):\n",
    "\n",
    "    # Check data types\n",
    "    assert input_data.select_dtypes(\"object\").columns.to_list() == config[\"object_columns\"], \"input error, please fill the column(s) with 'yes' or 'no'\"\n",
    "    assert input_data.select_dtypes(\"int\").columns.to_list() == config[\"int_columns\"], \"input error, please fill the column(s) with any numeric character.\"\n",
    "    assert input_data.select_dtypes(\"float\").columns.to_list() == config[\"float_columns\"], \"input error, please fill the column(s) with any numeric (decimal value is allowed) character.\"\n",
    "\n",
    "    # Check range of data\n",
    "    assert set(input_data[config[\"object_columns\"][1]]).issubset(set(config[\"range_owner\"])), \"an error occurs in owner range.\"\n",
    "    assert set(input_data[config[\"object_columns\"][2]]).issubset(set(config[\"range_selfemp\"])), \"an error occurs in selfemp range.\"\n",
    "    assert input_data[config[\"int_columns\"][0]].between(config[\"range_reports\"][0], config[\"range_reports\"][1]).sum() == len(input_data), \"an error occurs in reports range.\"\n",
    "    assert input_data[config[\"float_columns\"][0]].between(config[\"range_age\"][0], config[\"range_age\"][1]).sum() == len(input_data), \"an error occurs in age range.\"\n",
    "    assert input_data[config[\"float_columns\"][1]].between(config[\"range_income\"][0], config[\"range_income\"][1]).sum() == len(input_data), \"an error occurs in income range.\"\n",
    "    assert input_data[config[\"float_columns\"][2]].between(config[\"range_share\"][0], config[\"range_share\"][1]).sum() == len(input_data), \"an error occurs in share range.\"\n",
    "    assert input_data[config[\"float_columns\"][3]].between(config[\"range_expenditure\"][0], config[\"range_expenditure\"][1]).sum() == len(input_data), \"an error occurs in expenditure range.\"\n",
    "    assert input_data[config[\"int_columns\"][1]].between(config[\"range_dependents\"][0], config[\"range_dependents\"][1]).sum() == len(input_data), \"an error occurs in dependents range.\"    \n",
    "    assert input_data[config[\"int_columns\"][2]].between(config[\"range_months\"][0], config[\"range_months\"][1]).sum() == len(input_data), \"an error occurs in months range.\"\n",
    "    assert input_data[config[\"int_columns\"][3]].between(config[\"range_majorcards\"][0], config[\"range_majorcards\"][1]).sum() == len(input_data), \"an error occurs in majorcards range.\"\n",
    "    assert input_data[config[\"int_columns\"][4]].between(config[\"range_active\"][0], config[\"range_active\"][1]).sum() == len(input_data), \"an error occurs in active range.\"\n",
    "   \n"
   ]
  },
  {
   "cell_type": "code",
   "execution_count": null,
   "metadata": {},
   "outputs": [
    {
     "ename": "",
     "evalue": "",
     "output_type": "error",
     "traceback": [
      "\u001b[1;31mFailed to start the Kernel. \n",
      "\u001b[1;31mUnable to start Kernel 'venv2 (Python 3.8.10)' due to connection timeout. \n",
      "\u001b[1;31mView Jupyter <a href='command:jupyter.viewOutput'>log</a> for further details."
     ]
    }
   ],
   "source": [
    "# checking the data defense function\n",
    "check_data(credit_data, config)"
   ]
  },
  {
   "attachments": {},
   "cell_type": "markdown",
   "metadata": {},
   "source": [
    "# Data Splitting"
   ]
  },
  {
   "cell_type": "code",
   "execution_count": null,
   "metadata": {},
   "outputs": [
    {
     "ename": "",
     "evalue": "",
     "output_type": "error",
     "traceback": [
      "\u001b[1;31mFailed to start the Kernel. \n",
      "\u001b[1;31mUnable to start Kernel 'venv2 (Python 3.8.10)' due to connection timeout. \n",
      "\u001b[1;31mView Jupyter <a href='command:jupyter.viewOutput'>log</a> for further details."
     ]
    }
   ],
   "source": [
    "def split_input_output(dataset,\n",
    "                       target_column,\n",
    "                       save_file = True,\n",
    "                       return_file = True):\n",
    "    \"\"\"Divide the data into its dependent variable/target (y-axis) and independent/predictor (x-axis) ones,\n",
    "    input_df = predictors while output_df = target\"\"\"\n",
    "\n",
    "    output_df = dataset[target_column]\n",
    "    input_df = dataset.drop([target_column],\n",
    "                            axis = 1)\n",
    "\n",
    "    if save_file:  \n",
    "        utils.pkl_dump(output_df, config[\"dataset_output_df_path\"])\n",
    "        utils.pkl_dump(input_df, config[\"dataset_input_df_path\"])\n",
    "    \n",
    "    if return_file:\n",
    "        return output_df, input_df\n",
    "\n",
    "\n",
    "def split_train_test(x, y, TEST_SIZE):\n",
    "    \"\"\"Split the data into the training and test data,\n",
    "    stratify parameter is activated,\n",
    "    this function will be reproduced later as the data-splitting process further\"\"\"\n",
    "    \n",
    "    x_train, x_test, y_train, y_test = train_test_split(x,\n",
    "                                                        y,\n",
    "                                                        test_size=TEST_SIZE,\n",
    "                                                        random_state=46,\n",
    "                                                        stratify=y)\n",
    "\n",
    "    return x_train, x_test, y_train, y_test\n",
    "\n",
    "def split_data(data_input, \n",
    "               data_output, \n",
    "               save_file = True,\n",
    "               return_file=True, \n",
    "               TEST_SIZE=0.17):\n",
    "    \"\"\"Split the data into the training, validation and test data,\n",
    "    first split process will return into the train and test data,\n",
    "    the train data resulted from the first will be splitted further into the train and validation data.\n",
    "    The TEST_SIZE 0.17 resulting the test data 17% proportion from the dataset length,\n",
    "    while the proportion of train data and validation data are respectively 69% and 14%. \n",
    "    All files returned from this function are saved into pickle files.\"\"\"\n",
    "\n",
    "    x_train, x_test, y_train, y_test = split_train_test(data_input, \n",
    "                                                        data_output,\n",
    "                                                        TEST_SIZE)\n",
    "\n",
    "    x_train, x_valid, y_train, y_valid = split_train_test(x_train,\n",
    "                                                          y_train,\n",
    "                                                          TEST_SIZE)\n",
    "    \n",
    "    if save_file:\n",
    "        utils.pkl_dump(x_train, config[\"dataset_train_path\"][0])\n",
    "        utils.pkl_dump(y_train, config[\"dataset_train_path\"][1])\n",
    "        utils.pkl_dump(x_valid, config[\"dataset_valid_path\"][0])\n",
    "        utils.pkl_dump(y_valid, config[\"dataset_valid_path\"][1])\n",
    "        utils.pkl_dump(x_test, config[\"dataset_test_path\"][0])\n",
    "        utils.pkl_dump(y_test, config[\"dataset_test_path\"][1])\n",
    "\n",
    "    if return_file:\n",
    "        return x_train, y_train, \\\n",
    "            x_valid, y_valid, \\\n",
    "            x_test, y_test\n"
   ]
  },
  {
   "cell_type": "code",
   "execution_count": null,
   "metadata": {},
   "outputs": [
    {
     "ename": "",
     "evalue": "",
     "output_type": "error",
     "traceback": [
      "\u001b[1;31mFailed to start the Kernel. \n",
      "\u001b[1;31mUnable to start Kernel 'venv2 (Python 3.8.10)' due to connection timeout. \n",
      "\u001b[1;31mView Jupyter <a href='command:jupyter.viewOutput'>log</a> for further details."
     ]
    }
   ],
   "source": [
    "# Execute the data-splitting functions\n",
    "\n",
    "output_df, input_df = split_input_output(credit_data,\n",
    "                                        target_column = \"card\", \n",
    "                                        save_file = False)\n",
    "\n",
    "x_train, y_train, x_valid, y_valid, x_test, y_test = split_data(input_df,\n",
    "                                                               output_df)\n"
   ]
  },
  {
   "attachments": {},
   "cell_type": "markdown",
   "metadata": {},
   "source": [
    "# Data Review"
   ]
  },
  {
   "attachments": {},
   "cell_type": "markdown",
   "metadata": {},
   "source": [
    "The \"credit\" feature in `credit_data` is set as the dependent variable (saved as output_df), while the rest features are the independent variables (saved as input_df).\n"
   ]
  },
  {
   "cell_type": "code",
   "execution_count": null,
   "metadata": {},
   "outputs": [
    {
     "ename": "",
     "evalue": "",
     "output_type": "error",
     "traceback": [
      "\u001b[1;31mFailed to start the Kernel. \n",
      "\u001b[1;31mUnable to start Kernel 'venv2 (Python 3.8.10)' due to connection timeout. \n",
      "\u001b[1;31mView Jupyter <a href='command:jupyter.viewOutput'>log</a> for further details."
     ]
    }
   ],
   "source": [
    "# Recheck the division of the dependent and independent variables from the `credit_data`\n",
    "print(f'The dependent variable (target):\\n{output_df} \\n')\n",
    "print(\"-------------------------------------\\n\")\n",
    "print(f'The independent variables (predictors):\\n {input_df}')"
   ]
  },
  {
   "attachments": {},
   "cell_type": "markdown",
   "metadata": {},
   "source": [
    "Both the `input_df` and `output_df` are split into three data that will be used for training, validation, and testing the model.\n",
    "\n",
    "The training data has the majority proportion.\n",
    "\n",
    "\n"
   ]
  },
  {
   "cell_type": "code",
   "execution_count": null,
   "metadata": {},
   "outputs": [
    {
     "ename": "",
     "evalue": "",
     "output_type": "error",
     "traceback": [
      "\u001b[1;31mFailed to start the Kernel. \n",
      "\u001b[1;31mUnable to start Kernel 'venv2 (Python 3.8.10)' due to connection timeout. \n",
      "\u001b[1;31mView Jupyter <a href='command:jupyter.viewOutput'>log</a> for further details."
     ]
    }
   ],
   "source": [
    "# Inspect the data-splitting result\n",
    "print(f\"input_df shape: {input_df.shape}\")\n",
    "print(f\"x_train shape: {x_train.shape}\")\n",
    "print(f\"x_valid shape:{x_valid.shape}\")\n",
    "print(f\"x_test shape: {x_test.shape}\\n\")\n",
    "print(\"-------------------------------------\\n\")\n",
    "print(f\"output_df shape: {output_df.shape}\")\n",
    "print(f\"y_train shape: {y_train.shape}\")\n",
    "print(f\"y_valid shape: {y_valid.shape}\")\n",
    "print(f\"y_test shape: {y_test.shape}\")\n"
   ]
  },
  {
   "attachments": {},
   "cell_type": "markdown",
   "metadata": {},
   "source": [
    "The stratified splitting method applies to the `output_df` to keep the value proportion approximately the same."
   ]
  },
  {
   "cell_type": "code",
   "execution_count": null,
   "metadata": {},
   "outputs": [
    {
     "ename": "",
     "evalue": "",
     "output_type": "error",
     "traceback": [
      "\u001b[1;31mFailed to start the Kernel. \n",
      "\u001b[1;31mUnable to start Kernel 'venv2 (Python 3.8.10)' due to connection timeout. \n",
      "\u001b[1;31mView Jupyter <a href='command:jupyter.viewOutput'>log</a> for further details."
     ]
    }
   ],
   "source": [
    "# Recheck the data stratification\n",
    "print(f\"y_train value proportion\\n{y_train.value_counts(normalize = True)}\")\n",
    "print(\"-------------------------------------\\n\")\n",
    "print(f\"y_valid value proportion\\n{y_valid.value_counts(normalize = True)}\")\n",
    "print(\"-------------------------------------\\n\")\n",
    "print(f\"y_test value proportion\\n{y_test.value_counts(normalize = True)}\")"
   ]
  }
 ],
 "metadata": {
  "kernelspec": {
   "display_name": "venv2",
   "language": "python",
   "name": "python3"
  },
  "language_info": {
   "codemirror_mode": {
    "name": "ipython",
    "version": 3
   },
   "file_extension": ".py",
   "mimetype": "text/x-python",
   "name": "python",
   "nbconvert_exporter": "python",
   "pygments_lexer": "ipython3",
   "version": "3.8.10"
  },
  "orig_nbformat": 4,
  "vscode": {
   "interpreter": {
    "hash": "4372300a058c3c7af6fc5d0912ae3184a1f34df86a045297a4ccc6fb51ceb69c"
   }
  }
 },
 "nbformat": 4,
 "nbformat_minor": 2
}
